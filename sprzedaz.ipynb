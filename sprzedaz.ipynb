{
 "cells": [
  {
   "cell_type": "code",
   "execution_count": 1,
   "metadata": {},
   "outputs": [],
   "source": [
    "import numpy as np\n",
    "import pandas as pd\n",
    "import matplotlib.pyplot as plt\n",
    "from sklearn.preprocessing import LabelEncoder, OneHotEncoder, Normalizer,\\\n",
    "StandardScaler\n",
    "from sklearn.model_selection import train_test_split\n",
    "from sklearn.ensemble import RandomForestRegressor, GradientBoostingRegressor\n",
    "from sklearn.linear_model import LinearRegression\n",
    "from pandas.plotting import register_matplotlib_converters\n",
    "register_matplotlib_converters()\n",
    "from sklearn.decomposition import PCA"
   ]
  },
  {
   "cell_type": "markdown",
   "metadata": {},
   "source": [
    "#### Import data"
   ]
  },
  {
   "cell_type": "code",
   "execution_count": 72,
   "metadata": {},
   "outputs": [],
   "source": [
    "df = pd.read_excel('test.xlsx', header=0)"
   ]
  },
  {
   "cell_type": "code",
   "execution_count": 73,
   "metadata": {},
   "outputs": [
    {
     "data": {
      "text/html": [
       "<div>\n",
       "<style scoped>\n",
       "    .dataframe tbody tr th:only-of-type {\n",
       "        vertical-align: middle;\n",
       "    }\n",
       "\n",
       "    .dataframe tbody tr th {\n",
       "        vertical-align: top;\n",
       "    }\n",
       "\n",
       "    .dataframe thead th {\n",
       "        text-align: right;\n",
       "    }\n",
       "</style>\n",
       "<table border=\"1\" class=\"dataframe\">\n",
       "  <thead>\n",
       "    <tr style=\"text-align: right;\">\n",
       "      <th></th>\n",
       "      <th>produkt</th>\n",
       "      <th>sklep</th>\n",
       "      <th>Tydzień</th>\n",
       "      <th>sprzedaż (szt.)</th>\n",
       "      <th>cena</th>\n",
       "      <th>ekspozycja TYP1</th>\n",
       "      <th>ekspozycja TYP2</th>\n",
       "      <th>ekspozycja TYP3</th>\n",
       "      <th>ekspozycja TYP4</th>\n",
       "      <th>ekspozycja TYP5</th>\n",
       "      <th>ekspozycja TYP6</th>\n",
       "      <th>ekspozycja TYP7</th>\n",
       "      <th>ekspozycja TYP8</th>\n",
       "      <th>ekspozycja TYP9</th>\n",
       "    </tr>\n",
       "  </thead>\n",
       "  <tbody>\n",
       "    <tr>\n",
       "      <th>0</th>\n",
       "      <td>p1</td>\n",
       "      <td>s211</td>\n",
       "      <td>2017-08-24</td>\n",
       "      <td>608</td>\n",
       "      <td>3.46543</td>\n",
       "      <td>0.0</td>\n",
       "      <td>0.0</td>\n",
       "      <td>0.0</td>\n",
       "      <td>0.0</td>\n",
       "      <td>0.0</td>\n",
       "      <td>0.0</td>\n",
       "      <td>0.0</td>\n",
       "      <td>0.0</td>\n",
       "      <td>0.0</td>\n",
       "    </tr>\n",
       "    <tr>\n",
       "      <th>1</th>\n",
       "      <td>p1</td>\n",
       "      <td>s211</td>\n",
       "      <td>2017-08-31</td>\n",
       "      <td>548</td>\n",
       "      <td>3.37471</td>\n",
       "      <td>0.0</td>\n",
       "      <td>0.0</td>\n",
       "      <td>0.0</td>\n",
       "      <td>0.0</td>\n",
       "      <td>0.0</td>\n",
       "      <td>0.0</td>\n",
       "      <td>0.0</td>\n",
       "      <td>0.0</td>\n",
       "      <td>0.0</td>\n",
       "    </tr>\n",
       "    <tr>\n",
       "      <th>2</th>\n",
       "      <td>p1</td>\n",
       "      <td>s211</td>\n",
       "      <td>2017-09-07</td>\n",
       "      <td>1062</td>\n",
       "      <td>2.90481</td>\n",
       "      <td>0.0</td>\n",
       "      <td>0.0</td>\n",
       "      <td>0.0</td>\n",
       "      <td>0.0</td>\n",
       "      <td>0.0</td>\n",
       "      <td>0.0</td>\n",
       "      <td>0.0</td>\n",
       "      <td>0.0</td>\n",
       "      <td>0.0</td>\n",
       "    </tr>\n",
       "  </tbody>\n",
       "</table>\n",
       "</div>"
      ],
      "text/plain": [
       "  produkt sklep    Tydzień sprzedaż (szt.)     cena  ekspozycja TYP1  \\\n",
       "0      p1  s211 2017-08-24             608  3.46543              0.0   \n",
       "1      p1  s211 2017-08-31             548  3.37471              0.0   \n",
       "2      p1  s211 2017-09-07            1062  2.90481              0.0   \n",
       "\n",
       "   ekspozycja TYP2  ekspozycja TYP3  ekspozycja TYP4  ekspozycja TYP5  \\\n",
       "0              0.0              0.0              0.0              0.0   \n",
       "1              0.0              0.0              0.0              0.0   \n",
       "2              0.0              0.0              0.0              0.0   \n",
       "\n",
       "   ekspozycja TYP6  ekspozycja TYP7  ekspozycja TYP8  ekspozycja TYP9  \n",
       "0              0.0              0.0              0.0              0.0  \n",
       "1              0.0              0.0              0.0              0.0  \n",
       "2              0.0              0.0              0.0              0.0  "
      ]
     },
     "execution_count": 73,
     "metadata": {},
     "output_type": "execute_result"
    }
   ],
   "source": [
    "df.head(n=3)"
   ]
  },
  {
   "cell_type": "markdown",
   "metadata": {},
   "source": [
    "#### Change data names and order"
   ]
  },
  {
   "cell_type": "code",
   "execution_count": 74,
   "metadata": {},
   "outputs": [],
   "source": [
    "df.columns = ['produkt','sklep','tydzien','sprzedaz','cena',\n",
    "              'typ1','typ2','typ3','typ4','typ5','typ6','typ7','typ8','typ9',]\n",
    "\n",
    "df = df[['sprzedaz', 'produkt','sklep','tydzien','cena',\n",
    "         'typ1','typ2','typ3','typ4','typ5','typ6','typ7','typ8','typ9']]"
   ]
  },
  {
   "cell_type": "code",
   "execution_count": 75,
   "metadata": {},
   "outputs": [],
   "source": [
    "df = df.sort_values(by='tydzien')"
   ]
  },
  {
   "cell_type": "code",
   "execution_count": 87,
   "metadata": {},
   "outputs": [
    {
     "data": {
      "text/html": [
       "<div>\n",
       "<style scoped>\n",
       "    .dataframe tbody tr th:only-of-type {\n",
       "        vertical-align: middle;\n",
       "    }\n",
       "\n",
       "    .dataframe tbody tr th {\n",
       "        vertical-align: top;\n",
       "    }\n",
       "\n",
       "    .dataframe thead th {\n",
       "        text-align: right;\n",
       "    }\n",
       "</style>\n",
       "<table border=\"1\" class=\"dataframe\">\n",
       "  <thead>\n",
       "    <tr style=\"text-align: right;\">\n",
       "      <th></th>\n",
       "      <th>sprzedaz</th>\n",
       "      <th>produkt</th>\n",
       "      <th>sklep</th>\n",
       "      <th>tydzien</th>\n",
       "      <th>nr_tyg</th>\n",
       "      <th>cena</th>\n",
       "      <th>typ1</th>\n",
       "      <th>typ2</th>\n",
       "      <th>typ3</th>\n",
       "      <th>typ4</th>\n",
       "      <th>typ5</th>\n",
       "      <th>typ6</th>\n",
       "      <th>typ7</th>\n",
       "      <th>typ8</th>\n",
       "      <th>typ9</th>\n",
       "    </tr>\n",
       "  </thead>\n",
       "  <tbody>\n",
       "    <tr>\n",
       "      <th>261351</th>\n",
       "      <td>97.0</td>\n",
       "      <td>p8</td>\n",
       "      <td>s29</td>\n",
       "      <td>2017-08-17</td>\n",
       "      <td>33</td>\n",
       "      <td>2.672680</td>\n",
       "      <td>0.0</td>\n",
       "      <td>0.0</td>\n",
       "      <td>0.0</td>\n",
       "      <td>0.0</td>\n",
       "      <td>0.0</td>\n",
       "      <td>1.0</td>\n",
       "      <td>0.0</td>\n",
       "      <td>1.0</td>\n",
       "      <td>0.0</td>\n",
       "    </tr>\n",
       "    <tr>\n",
       "      <th>258335</th>\n",
       "      <td>202.0</td>\n",
       "      <td>p8</td>\n",
       "      <td>s234</td>\n",
       "      <td>2017-08-17</td>\n",
       "      <td>33</td>\n",
       "      <td>2.586931</td>\n",
       "      <td>0.0</td>\n",
       "      <td>0.0</td>\n",
       "      <td>0.0</td>\n",
       "      <td>0.0</td>\n",
       "      <td>0.0</td>\n",
       "      <td>1.0</td>\n",
       "      <td>0.0</td>\n",
       "      <td>0.0</td>\n",
       "      <td>0.0</td>\n",
       "    </tr>\n",
       "    <tr>\n",
       "      <th>82575</th>\n",
       "      <td>109.0</td>\n",
       "      <td>p3</td>\n",
       "      <td>s206</td>\n",
       "      <td>2017-08-17</td>\n",
       "      <td>33</td>\n",
       "      <td>1.717523</td>\n",
       "      <td>0.0</td>\n",
       "      <td>0.0</td>\n",
       "      <td>0.0</td>\n",
       "      <td>0.0</td>\n",
       "      <td>0.0</td>\n",
       "      <td>0.0</td>\n",
       "      <td>0.0</td>\n",
       "      <td>0.0</td>\n",
       "      <td>0.0</td>\n",
       "    </tr>\n",
       "  </tbody>\n",
       "</table>\n",
       "</div>"
      ],
      "text/plain": [
       "        sprzedaz produkt sklep    tydzien  nr_tyg      cena  typ1  typ2  typ3  \\\n",
       "261351      97.0      p8   s29 2017-08-17      33  2.672680   0.0   0.0   0.0   \n",
       "258335     202.0      p8  s234 2017-08-17      33  2.586931   0.0   0.0   0.0   \n",
       "82575      109.0      p3  s206 2017-08-17      33  1.717523   0.0   0.0   0.0   \n",
       "\n",
       "        typ4  typ5  typ6  typ7  typ8  typ9  \n",
       "261351   0.0   0.0   1.0   0.0   1.0   0.0  \n",
       "258335   0.0   0.0   1.0   0.0   0.0   0.0  \n",
       "82575    0.0   0.0   0.0   0.0   0.0   0.0  "
      ]
     },
     "metadata": {},
     "output_type": "display_data"
    },
    {
     "data": {
      "text/html": [
       "<div>\n",
       "<style scoped>\n",
       "    .dataframe tbody tr th:only-of-type {\n",
       "        vertical-align: middle;\n",
       "    }\n",
       "\n",
       "    .dataframe tbody tr th {\n",
       "        vertical-align: top;\n",
       "    }\n",
       "\n",
       "    .dataframe thead th {\n",
       "        text-align: right;\n",
       "    }\n",
       "</style>\n",
       "<table border=\"1\" class=\"dataframe\">\n",
       "  <thead>\n",
       "    <tr style=\"text-align: right;\">\n",
       "      <th></th>\n",
       "      <th>sprzedaz</th>\n",
       "      <th>produkt</th>\n",
       "      <th>sklep</th>\n",
       "      <th>tydzien</th>\n",
       "      <th>nr_tyg</th>\n",
       "      <th>cena</th>\n",
       "      <th>typ1</th>\n",
       "      <th>typ2</th>\n",
       "      <th>typ3</th>\n",
       "      <th>typ4</th>\n",
       "      <th>typ5</th>\n",
       "      <th>typ6</th>\n",
       "      <th>typ7</th>\n",
       "      <th>typ8</th>\n",
       "      <th>typ9</th>\n",
       "    </tr>\n",
       "  </thead>\n",
       "  <tbody>\n",
       "    <tr>\n",
       "      <th>409238</th>\n",
       "      <td>27.0</td>\n",
       "      <td>p13</td>\n",
       "      <td>s37</td>\n",
       "      <td>2019-08-08</td>\n",
       "      <td>32</td>\n",
       "      <td>1.723333</td>\n",
       "      <td>0.0</td>\n",
       "      <td>0.0</td>\n",
       "      <td>0.0</td>\n",
       "      <td>0.0</td>\n",
       "      <td>0.0</td>\n",
       "      <td>0.0</td>\n",
       "      <td>0.0</td>\n",
       "      <td>0.0</td>\n",
       "      <td>0.0</td>\n",
       "    </tr>\n",
       "    <tr>\n",
       "      <th>96302</th>\n",
       "      <td>101.0</td>\n",
       "      <td>p3</td>\n",
       "      <td>s32</td>\n",
       "      <td>2019-08-08</td>\n",
       "      <td>32</td>\n",
       "      <td>2.188119</td>\n",
       "      <td>0.0</td>\n",
       "      <td>0.0</td>\n",
       "      <td>0.0</td>\n",
       "      <td>0.0</td>\n",
       "      <td>0.0</td>\n",
       "      <td>0.0</td>\n",
       "      <td>0.0</td>\n",
       "      <td>0.0</td>\n",
       "      <td>0.0</td>\n",
       "    </tr>\n",
       "    <tr>\n",
       "      <th>413606</th>\n",
       "      <td>16.0</td>\n",
       "      <td>p13</td>\n",
       "      <td>s241</td>\n",
       "      <td>2019-08-08</td>\n",
       "      <td>32</td>\n",
       "      <td>1.833750</td>\n",
       "      <td>0.0</td>\n",
       "      <td>0.0</td>\n",
       "      <td>0.0</td>\n",
       "      <td>0.0</td>\n",
       "      <td>0.0</td>\n",
       "      <td>0.0</td>\n",
       "      <td>0.0</td>\n",
       "      <td>0.0</td>\n",
       "      <td>0.0</td>\n",
       "    </tr>\n",
       "  </tbody>\n",
       "</table>\n",
       "</div>"
      ],
      "text/plain": [
       "        sprzedaz produkt sklep    tydzien  nr_tyg      cena  typ1  typ2  typ3  \\\n",
       "409238      27.0     p13   s37 2019-08-08      32  1.723333   0.0   0.0   0.0   \n",
       "96302      101.0      p3   s32 2019-08-08      32  2.188119   0.0   0.0   0.0   \n",
       "413606      16.0     p13  s241 2019-08-08      32  1.833750   0.0   0.0   0.0   \n",
       "\n",
       "        typ4  typ5  typ6  typ7  typ8  typ9  \n",
       "409238   0.0   0.0   0.0   0.0   0.0   0.0  \n",
       "96302    0.0   0.0   0.0   0.0   0.0   0.0  \n",
       "413606   0.0   0.0   0.0   0.0   0.0   0.0  "
      ]
     },
     "metadata": {},
     "output_type": "display_data"
    }
   ],
   "source": [
    "display(df.head(n=3))\n",
    "display(df.tail(n=3))"
   ]
  },
  {
   "cell_type": "markdown",
   "metadata": {},
   "source": [
    "#### zmienna nr tyg"
   ]
  },
  {
   "cell_type": "code",
   "execution_count": 86,
   "metadata": {},
   "outputs": [],
   "source": [
    "weeks = [date.week for date in df['tydzien']]\n",
    "df.insert(column='nr_tyg', loc=4, value=weeks)"
   ]
  },
  {
   "cell_type": "code",
   "execution_count": 88,
   "metadata": {},
   "outputs": [
    {
     "data": {
      "text/plain": [
       "False    412567\n",
       "dtype: int64"
      ]
     },
     "execution_count": 88,
     "metadata": {},
     "output_type": "execute_result"
    }
   ],
   "source": [
    "df.duplicated().value_counts()"
   ]
  },
  {
   "cell_type": "code",
   "execution_count": 89,
   "metadata": {},
   "outputs": [],
   "source": [
    "df = df.drop_duplicates()"
   ]
  },
  {
   "cell_type": "code",
   "execution_count": 90,
   "metadata": {},
   "outputs": [
    {
     "data": {
      "text/plain": [
       "False    412567\n",
       "dtype: int64"
      ]
     },
     "execution_count": 90,
     "metadata": {},
     "output_type": "execute_result"
    }
   ],
   "source": [
    "df.duplicated().value_counts()"
   ]
  },
  {
   "cell_type": "markdown",
   "metadata": {},
   "source": [
    "### Brakujące wartości"
   ]
  },
  {
   "cell_type": "markdown",
   "metadata": {},
   "source": [
    "#### Zmienne numeryczne:\n",
    "* sprzedaz: 413479, 413522 - brak wartości\n",
    "* cena: 413521 - przecinek zamiast kropki\n",
    "* typ ekspozycji od 1 do 9: ok\n"
   ]
  },
  {
   "cell_type": "code",
   "execution_count": 101,
   "metadata": {},
   "outputs": [
    {
     "name": "stdout",
     "output_type": "stream",
     "text": [
      "sprzedaz: ok\n",
      "cena: ok\n",
      "typ1: ok\n",
      "typ2: ok\n",
      "typ3: ok\n",
      "typ4: ok\n",
      "typ5: ok\n",
      "typ6: ok\n",
      "typ7: ok\n",
      "typ8: ok\n",
      "typ9: ok\n"
     ]
    }
   ],
   "source": [
    "numerical = ['sprzedaz', 'cena', 'typ1','typ2','typ3',\n",
    "             'typ4','typ5','typ6','typ7','typ8','typ9']\n",
    "\n",
    "for var in numerical:\n",
    "    var_num = pd.to_numeric(df[var], errors='coerce')\n",
    "    if var_num.isnull().any():\n",
    "        display(df[var_num.isnull()])\n",
    "    else: print(var+': ok')"
   ]
  },
  {
   "cell_type": "markdown",
   "metadata": {},
   "source": [
    "#### Zmienne kategoryczne\n",
    "* sklep: ok \n",
    "* produkt: ok"
   ]
  },
  {
   "cell_type": "code",
   "execution_count": 81,
   "metadata": {},
   "outputs": [
    {
     "name": "stdout",
     "output_type": "stream",
     "text": [
      "sklep: ok\n",
      "produkt: ok\n"
     ]
    }
   ],
   "source": [
    "categorical = ['sklep', 'produkt']\n",
    "    \n",
    "for var in categorical:\n",
    "    if df[var].isnull().any():\n",
    "        display(df[var].isnull())\n",
    "    else: print(var+': ok')"
   ]
  },
  {
   "cell_type": "markdown",
   "metadata": {},
   "source": [
    "#### Zamiana numerycznych na typ float"
   ]
  },
  {
   "cell_type": "code",
   "execution_count": 82,
   "metadata": {},
   "outputs": [],
   "source": [
    "for var in numerical:\n",
    "    var_num = pd.to_numeric(df[var], errors='coerce')\n",
    "    df[var] = var_num"
   ]
  },
  {
   "cell_type": "markdown",
   "metadata": {},
   "source": [
    "* 413479, 413522 - uzupełnić podobnym\n",
    "* 413521 - zmienić na kropkę"
   ]
  },
  {
   "cell_type": "code",
   "execution_count": 100,
   "metadata": {},
   "outputs": [
    {
     "data": {
      "text/html": [
       "<div>\n",
       "<style scoped>\n",
       "    .dataframe tbody tr th:only-of-type {\n",
       "        vertical-align: middle;\n",
       "    }\n",
       "\n",
       "    .dataframe tbody tr th {\n",
       "        vertical-align: top;\n",
       "    }\n",
       "\n",
       "    .dataframe thead th {\n",
       "        text-align: right;\n",
       "    }\n",
       "</style>\n",
       "<table border=\"1\" class=\"dataframe\">\n",
       "  <thead>\n",
       "    <tr style=\"text-align: right;\">\n",
       "      <th></th>\n",
       "      <th>sprzedaz</th>\n",
       "      <th>produkt</th>\n",
       "      <th>sklep</th>\n",
       "      <th>tydzien</th>\n",
       "      <th>nr_tyg</th>\n",
       "      <th>cena</th>\n",
       "      <th>typ1</th>\n",
       "      <th>typ2</th>\n",
       "      <th>typ3</th>\n",
       "      <th>typ4</th>\n",
       "      <th>typ5</th>\n",
       "      <th>typ6</th>\n",
       "      <th>typ7</th>\n",
       "      <th>typ8</th>\n",
       "      <th>typ9</th>\n",
       "    </tr>\n",
       "  </thead>\n",
       "  <tbody>\n",
       "    <tr>\n",
       "      <th>413427</th>\n",
       "      <td>42.0</td>\n",
       "      <td>p13</td>\n",
       "      <td>s150</td>\n",
       "      <td>2018-03-01</td>\n",
       "      <td>9</td>\n",
       "      <td>1.79</td>\n",
       "      <td>0.0</td>\n",
       "      <td>0.0</td>\n",
       "      <td>0.0</td>\n",
       "      <td>0.0</td>\n",
       "      <td>0.0</td>\n",
       "      <td>0.0</td>\n",
       "      <td>0.0</td>\n",
       "      <td>0.0</td>\n",
       "      <td>0.0</td>\n",
       "    </tr>\n",
       "    <tr>\n",
       "      <th>413479</th>\n",
       "      <td>42.0</td>\n",
       "      <td>p13</td>\n",
       "      <td>s150</td>\n",
       "      <td>2019-02-28</td>\n",
       "      <td>9</td>\n",
       "      <td>1.89</td>\n",
       "      <td>0.0</td>\n",
       "      <td>0.0</td>\n",
       "      <td>0.0</td>\n",
       "      <td>0.0</td>\n",
       "      <td>0.0</td>\n",
       "      <td>0.0</td>\n",
       "      <td>0.0</td>\n",
       "      <td>0.0</td>\n",
       "      <td>0.0</td>\n",
       "    </tr>\n",
       "  </tbody>\n",
       "</table>\n",
       "</div>"
      ],
      "text/plain": [
       "        sprzedaz produkt sklep    tydzien  nr_tyg  cena  typ1  typ2  typ3  \\\n",
       "413427      42.0     p13  s150 2018-03-01       9  1.79   0.0   0.0   0.0   \n",
       "413479      42.0     p13  s150 2019-02-28       9  1.89   0.0   0.0   0.0   \n",
       "\n",
       "        typ4  typ5  typ6  typ7  typ8  typ9  \n",
       "413427   0.0   0.0   0.0   0.0   0.0   0.0  \n",
       "413479   0.0   0.0   0.0   0.0   0.0   0.0  "
      ]
     },
     "execution_count": 100,
     "metadata": {},
     "output_type": "execute_result"
    }
   ],
   "source": [
    "df[(df['produkt']=='p13') & (df['sklep']=='s241') & (df['nr_tyg']==52)]\n",
    "df[(df['produkt']=='p13') & (df['sklep']=='s150') & (df['nr_tyg']==9)]"
   ]
  },
  {
   "cell_type": "code",
   "execution_count": 99,
   "metadata": {},
   "outputs": [
    {
     "name": "stderr",
     "output_type": "stream",
     "text": [
      "C:\\Users\\Mikolaj\\Anaconda3\\lib\\site-packages\\ipykernel_launcher.py:3: SettingWithCopyWarning: \n",
      "A value is trying to be set on a copy of a slice from a DataFrame\n",
      "\n",
      "See the caveats in the documentation: http://pandas.pydata.org/pandas-docs/stable/indexing.html#indexing-view-versus-copy\n",
      "  This is separate from the ipykernel package so we can avoid doing imports until\n",
      "C:\\Users\\Mikolaj\\Anaconda3\\lib\\site-packages\\ipykernel_launcher.py:4: SettingWithCopyWarning: \n",
      "A value is trying to be set on a copy of a slice from a DataFrame\n",
      "\n",
      "See the caveats in the documentation: http://pandas.pydata.org/pandas-docs/stable/indexing.html#indexing-view-versus-copy\n",
      "  after removing the cwd from sys.path.\n",
      "C:\\Users\\Mikolaj\\Anaconda3\\lib\\site-packages\\ipykernel_launcher.py:5: SettingWithCopyWarning: \n",
      "A value is trying to be set on a copy of a slice from a DataFrame\n",
      "\n",
      "See the caveats in the documentation: http://pandas.pydata.org/pandas-docs/stable/indexing.html#indexing-view-versus-copy\n",
      "  \"\"\"\n"
     ]
    }
   ],
   "source": [
    "#df = df.drop([413479, 413522])\n",
    "df['cena'][413521] = 1.69\n",
    "df['sprzedaz'][[413522]]=17.0\n",
    "df['sprzedaz'][[413479]]=42.0"
   ]
  },
  {
   "cell_type": "markdown",
   "metadata": {},
   "source": [
    "#### Czy są wartości mniejsze od 0"
   ]
  },
  {
   "cell_type": "code",
   "execution_count": 108,
   "metadata": {},
   "outputs": [
    {
     "name": "stdout",
     "output_type": "stream",
     "text": [
      "sprzedaz: ok\n",
      "cena: ok\n",
      "typ1: ok\n",
      "typ2: ok\n",
      "typ3: ok\n",
      "typ4: ok\n",
      "typ5: ok\n",
      "typ6: ok\n",
      "typ7: ok\n",
      "typ8: ok\n",
      "typ9: ok\n"
     ]
    }
   ],
   "source": [
    "for var in numerical:\n",
    "    if (df[var]<0).any():\n",
    "        display(df[df[var]<0])\n",
    "    else: print(var + ': ok')"
   ]
  },
  {
   "cell_type": "markdown",
   "metadata": {},
   "source": [
    "* 413439 - uzupełnić podobnym\n",
    "* 41357 - zmienić na 0"
   ]
  },
  {
   "cell_type": "code",
   "execution_count": 106,
   "metadata": {},
   "outputs": [
    {
     "data": {
      "text/html": [
       "<div>\n",
       "<style scoped>\n",
       "    .dataframe tbody tr th:only-of-type {\n",
       "        vertical-align: middle;\n",
       "    }\n",
       "\n",
       "    .dataframe tbody tr th {\n",
       "        vertical-align: top;\n",
       "    }\n",
       "\n",
       "    .dataframe thead th {\n",
       "        text-align: right;\n",
       "    }\n",
       "</style>\n",
       "<table border=\"1\" class=\"dataframe\">\n",
       "  <thead>\n",
       "    <tr style=\"text-align: right;\">\n",
       "      <th></th>\n",
       "      <th>sprzedaz</th>\n",
       "      <th>produkt</th>\n",
       "      <th>sklep</th>\n",
       "      <th>tydzien</th>\n",
       "      <th>nr_tyg</th>\n",
       "      <th>cena</th>\n",
       "      <th>typ1</th>\n",
       "      <th>typ2</th>\n",
       "      <th>typ3</th>\n",
       "      <th>typ4</th>\n",
       "      <th>typ5</th>\n",
       "      <th>typ6</th>\n",
       "      <th>typ7</th>\n",
       "      <th>typ8</th>\n",
       "      <th>typ9</th>\n",
       "    </tr>\n",
       "  </thead>\n",
       "  <tbody>\n",
       "    <tr>\n",
       "      <th>413517</th>\n",
       "      <td>13.0</td>\n",
       "      <td>p13</td>\n",
       "      <td>s241</td>\n",
       "      <td>2017-11-23</td>\n",
       "      <td>47</td>\n",
       "      <td>1.690000</td>\n",
       "      <td>0.0</td>\n",
       "      <td>-2.0</td>\n",
       "      <td>0.0</td>\n",
       "      <td>0.0</td>\n",
       "      <td>0.0</td>\n",
       "      <td>0.0</td>\n",
       "      <td>0.0</td>\n",
       "      <td>0.0</td>\n",
       "      <td>0.0</td>\n",
       "    </tr>\n",
       "    <tr>\n",
       "      <th>413569</th>\n",
       "      <td>17.0</td>\n",
       "      <td>p13</td>\n",
       "      <td>s241</td>\n",
       "      <td>2018-11-22</td>\n",
       "      <td>47</td>\n",
       "      <td>1.866471</td>\n",
       "      <td>0.0</td>\n",
       "      <td>0.0</td>\n",
       "      <td>0.0</td>\n",
       "      <td>0.0</td>\n",
       "      <td>0.0</td>\n",
       "      <td>0.0</td>\n",
       "      <td>0.0</td>\n",
       "      <td>0.0</td>\n",
       "      <td>0.0</td>\n",
       "    </tr>\n",
       "  </tbody>\n",
       "</table>\n",
       "</div>"
      ],
      "text/plain": [
       "        sprzedaz produkt sklep    tydzien  nr_tyg      cena  typ1  typ2  typ3  \\\n",
       "413517      13.0     p13  s241 2017-11-23      47  1.690000   0.0  -2.0   0.0   \n",
       "413569      17.0     p13  s241 2018-11-22      47  1.866471   0.0   0.0   0.0   \n",
       "\n",
       "        typ4  typ5  typ6  typ7  typ8  typ9  \n",
       "413517   0.0   0.0   0.0   0.0   0.0   0.0  \n",
       "413569   0.0   0.0   0.0   0.0   0.0   0.0  "
      ]
     },
     "metadata": {},
     "output_type": "display_data"
    },
    {
     "data": {
      "text/plain": [
       "86.0"
      ]
     },
     "execution_count": 106,
     "metadata": {},
     "output_type": "execute_result"
    }
   ],
   "source": [
    "display(df[(df['produkt']=='p13') & (df['sklep']=='s241') & (df['nr_tyg']==47)])\n",
    "df[(df['produkt']=='p13') & (df['nr_tyg']==21)]['sprzedaz'].median()"
   ]
  },
  {
   "cell_type": "code",
   "execution_count": 107,
   "metadata": {},
   "outputs": [
    {
     "name": "stderr",
     "output_type": "stream",
     "text": [
      "C:\\Users\\Mikolaj\\Anaconda3\\lib\\site-packages\\ipykernel_launcher.py:1: SettingWithCopyWarning: \n",
      "A value is trying to be set on a copy of a slice from a DataFrame\n",
      "\n",
      "See the caveats in the documentation: http://pandas.pydata.org/pandas-docs/stable/indexing.html#indexing-view-versus-copy\n",
      "  \"\"\"Entry point for launching an IPython kernel.\n",
      "C:\\Users\\Mikolaj\\Anaconda3\\lib\\site-packages\\ipykernel_launcher.py:2: SettingWithCopyWarning: \n",
      "A value is trying to be set on a copy of a slice from a DataFrame\n",
      "\n",
      "See the caveats in the documentation: http://pandas.pydata.org/pandas-docs/stable/indexing.html#indexing-view-versus-copy\n",
      "  \n"
     ]
    }
   ],
   "source": [
    "df['typ2'][413517] = 0\n",
    "df['sprzedaz'][413439] = 86.0"
   ]
  },
  {
   "cell_type": "code",
   "execution_count": 109,
   "metadata": {},
   "outputs": [
    {
     "name": "stdout",
     "output_type": "stream",
     "text": [
      "sprzedaz: ok\n",
      "cena: ok\n",
      "typ1: ok\n",
      "typ2: ok\n",
      "typ3: ok\n",
      "typ4: ok\n",
      "typ5: ok\n",
      "typ6: ok\n",
      "typ7: ok\n",
      "typ8: ok\n",
      "typ9: ok\n"
     ]
    }
   ],
   "source": [
    "for var in numerical:\n",
    "    if (df[var]<0).any():\n",
    "        display(df[df[var]<0])\n",
    "    else: print(var + ': ok')"
   ]
  },
  {
   "cell_type": "markdown",
   "metadata": {},
   "source": [
    "#### Czy ilość ekspozycji danego typu jest int"
   ]
  },
  {
   "cell_type": "code",
   "execution_count": 19,
   "metadata": {
    "scrolled": true
   },
   "outputs": [
    {
     "data": {
      "image/png": "[encoded data removed]",
      "text/plain": [
       "<Figure size 1152x2880 with 9 Axes>"
      ]
     },
     "metadata": {
      "needs_background": "light"
     },
     "output_type": "display_data"
    }
   ],
   "source": [
    "zero = df['sprzedaz'][df['typ7']==0].median()\n",
    "jeden = df['sprzedaz'][df['typ7']==1].median()\n",
    "dwa = df['sprzedaz'][df['typ7']==2].median()\n",
    "\n",
    "heights, e_number = [], []\n",
    "\n",
    "for typ in range(1, 10):\n",
    "    h, n = [], []\n",
    "    for e in np.unique(df['typ' + str(typ)]):\n",
    "        h.append(df['sprzedaz'][df['typ' + str(typ)]==e].mean())\n",
    "        n.append(str(e))\n",
    "    heights.append(h)\n",
    "    e_number.append(n)\n",
    "    \n",
    "fig, ax = plt.subplots(nrows=9)\n",
    "for bar in range(0, 9):\n",
    "    ax[bar].bar(e_number[bar], heights[bar])\n",
    "fig.set_size_inches([16,40])"
   ]
  },
  {
   "cell_type": "markdown",
   "metadata": {},
   "source": [
    "#### nie int w ilości ekspozycji - usunąć"
   ]
  },
  {
   "cell_type": "code",
   "execution_count": 544,
   "metadata": {},
   "outputs": [],
   "source": [
    "selects = []\n",
    "for typ in range(1, 10):\n",
    "    l = []\n",
    "    for n in range(0, 11):\n",
    "        t = df['typ' + str(typ)] == n\n",
    "        l.append(t)\n",
    "    select = l[0]|l[1]|l[2]|l[3]|l[4]|l[5]|l[6]|l[7]|l[8]|l[9]|l[10]\n",
    "    selects.append(select)"
   ]
  },
  {
   "cell_type": "code",
   "execution_count": 545,
   "metadata": {},
   "outputs": [],
   "source": [
    "final_select = selects[0]&selects[1]&selects[2]&selects[3]&selects[4]&selects[5]&selects[6]&selects[7]&selects[8] "
   ]
  },
  {
   "cell_type": "code",
   "execution_count": 546,
   "metadata": {},
   "outputs": [
    {
     "data": {
      "text/plain": [
       "True     411748\n",
       "False       816\n",
       "dtype: int64"
      ]
     },
     "execution_count": 546,
     "metadata": {},
     "output_type": "execute_result"
    }
   ],
   "source": [
    "final_select.value_counts()"
   ]
  },
  {
   "cell_type": "code",
   "execution_count": 547,
   "metadata": {},
   "outputs": [],
   "source": [
    "'''df = df[final_select]'''"
   ]
  },
  {
   "cell_type": "code",
   "execution_count": 548,
   "metadata": {
    "scrolled": true
   },
   "outputs": [
    {
     "data": {
      "image/png": "[encoded data removed]",
      "text/plain": [
       "<Figure size 1152x2880 with 9 Axes>"
      ]
     },
     "metadata": {
      "needs_background": "light"
     },
     "output_type": "display_data"
    }
   ],
   "source": [
    "heights, e_number = [], []\n",
    "\n",
    "for typ in range(1, 10):\n",
    "    h, n = [], []\n",
    "    for e in np.unique(df['typ' + str(typ)]):\n",
    "        h.append(df['sprzedaz'][df['typ' + str(typ)]==e].mean())\n",
    "        n.append(str(e))\n",
    "    heights.append(h)\n",
    "    e_number.append(n)\n",
    "    \n",
    "fig, ax = plt.subplots(nrows=9)\n",
    "for bar in range(0, 9):\n",
    "    ax[bar].bar(e_number[bar], heights[bar])\n",
    "fig.set_size_inches([16,40])"
   ]
  },
  {
   "cell_type": "markdown",
   "metadata": {},
   "source": [
    "#### sklep, produkt"
   ]
  },
  {
   "cell_type": "code",
   "execution_count": 110,
   "metadata": {},
   "outputs": [
    {
     "name": "stdout",
     "output_type": "stream",
     "text": [
      "343\n",
      "13\n"
     ]
    }
   ],
   "source": [
    "print(np.unique(df['sklep']).shape[0])\n",
    "print(np.unique(df['produkt']).shape[0])"
   ]
  },
  {
   "cell_type": "markdown",
   "metadata": {},
   "source": [
    "#### cena outliers"
   ]
  },
  {
   "cell_type": "code",
   "execution_count": 111,
   "metadata": {},
   "outputs": [
    {
     "data": {
      "image/png": "[encoded data removed]",
      "text/plain": [
       "<Figure size 432x288 with 1 Axes>"
      ]
     },
     "metadata": {
      "needs_background": "light"
     },
     "output_type": "display_data"
    }
   ],
   "source": [
    "produkt_cena = [df['cena'][df['produkt']==p] for p in df['produkt'].unique()]\n",
    "plt.boxplot(produkt_cena)\n",
    "plt.show()"
   ]
  },
  {
   "cell_type": "code",
   "execution_count": 112,
   "metadata": {},
   "outputs": [
    {
     "data": {
      "text/plain": [
       "227       299.000000\n",
       "413397     10.400000\n",
       "134363      4.650000\n",
       "109403      4.584903\n",
       "120115      4.574483\n",
       "Name: cena, dtype: float64"
      ]
     },
     "execution_count": 112,
     "metadata": {},
     "output_type": "execute_result"
    }
   ],
   "source": [
    "df['cena'].nlargest(n=5)"
   ]
  },
  {
   "cell_type": "markdown",
   "metadata": {},
   "source": [
    "#### zamienic 299 i 10.40 na mediane"
   ]
  },
  {
   "cell_type": "code",
   "execution_count": 131,
   "metadata": {},
   "outputs": [
    {
     "data": {
      "text/html": [
       "<div>\n",
       "<style scoped>\n",
       "    .dataframe tbody tr th:only-of-type {\n",
       "        vertical-align: middle;\n",
       "    }\n",
       "\n",
       "    .dataframe tbody tr th {\n",
       "        vertical-align: top;\n",
       "    }\n",
       "\n",
       "    .dataframe thead th {\n",
       "        text-align: right;\n",
       "    }\n",
       "</style>\n",
       "<table border=\"1\" class=\"dataframe\">\n",
       "  <thead>\n",
       "    <tr style=\"text-align: right;\">\n",
       "      <th></th>\n",
       "      <th>sprzedaz</th>\n",
       "      <th>produkt</th>\n",
       "      <th>sklep</th>\n",
       "      <th>tydzien</th>\n",
       "      <th>nr_tyg</th>\n",
       "      <th>cena</th>\n",
       "      <th>typ1</th>\n",
       "      <th>typ2</th>\n",
       "      <th>typ3</th>\n",
       "      <th>typ4</th>\n",
       "      <th>typ5</th>\n",
       "      <th>typ6</th>\n",
       "      <th>typ7</th>\n",
       "      <th>typ8</th>\n",
       "      <th>typ9</th>\n",
       "    </tr>\n",
       "  </thead>\n",
       "  <tbody>\n",
       "    <tr>\n",
       "      <th>413397</th>\n",
       "      <td>26.0</td>\n",
       "      <td>p13</td>\n",
       "      <td>s145</td>\n",
       "      <td>2019-08-01</td>\n",
       "      <td>31</td>\n",
       "      <td>10.4</td>\n",
       "      <td>0.0</td>\n",
       "      <td>0.0</td>\n",
       "      <td>0.0</td>\n",
       "      <td>0.0</td>\n",
       "      <td>0.0</td>\n",
       "      <td>0.0</td>\n",
       "      <td>0.0</td>\n",
       "      <td>0.0</td>\n",
       "      <td>0.0</td>\n",
       "    </tr>\n",
       "  </tbody>\n",
       "</table>\n",
       "</div>"
      ],
      "text/plain": [
       "        sprzedaz produkt sklep    tydzien  nr_tyg  cena  typ1  typ2  typ3  \\\n",
       "413397      26.0     p13  s145 2019-08-01      31  10.4   0.0   0.0   0.0   \n",
       "\n",
       "        typ4  typ5  typ6  typ7  typ8  typ9  \n",
       "413397   0.0   0.0   0.0   0.0   0.0   0.0  "
      ]
     },
     "metadata": {},
     "output_type": "display_data"
    },
    {
     "data": {
      "text/html": [
       "<div>\n",
       "<style scoped>\n",
       "    .dataframe tbody tr th:only-of-type {\n",
       "        vertical-align: middle;\n",
       "    }\n",
       "\n",
       "    .dataframe tbody tr th {\n",
       "        vertical-align: top;\n",
       "    }\n",
       "\n",
       "    .dataframe thead th {\n",
       "        text-align: right;\n",
       "    }\n",
       "</style>\n",
       "<table border=\"1\" class=\"dataframe\">\n",
       "  <thead>\n",
       "    <tr style=\"text-align: right;\">\n",
       "      <th></th>\n",
       "      <th>sprzedaz</th>\n",
       "      <th>produkt</th>\n",
       "      <th>sklep</th>\n",
       "      <th>tydzien</th>\n",
       "      <th>nr_tyg</th>\n",
       "      <th>cena</th>\n",
       "      <th>typ1</th>\n",
       "      <th>typ2</th>\n",
       "      <th>typ3</th>\n",
       "      <th>typ4</th>\n",
       "      <th>typ5</th>\n",
       "      <th>typ6</th>\n",
       "      <th>typ7</th>\n",
       "      <th>typ8</th>\n",
       "      <th>typ9</th>\n",
       "    </tr>\n",
       "  </thead>\n",
       "  <tbody>\n",
       "    <tr>\n",
       "      <th>227</th>\n",
       "      <td>488.0</td>\n",
       "      <td>p1</td>\n",
       "      <td>s90</td>\n",
       "      <td>2018-01-04</td>\n",
       "      <td>1</td>\n",
       "      <td>299.0</td>\n",
       "      <td>0.0</td>\n",
       "      <td>0.0</td>\n",
       "      <td>0.0</td>\n",
       "      <td>0.0</td>\n",
       "      <td>0.0</td>\n",
       "      <td>0.0</td>\n",
       "      <td>0.0</td>\n",
       "      <td>0.0</td>\n",
       "      <td>0.0</td>\n",
       "    </tr>\n",
       "  </tbody>\n",
       "</table>\n",
       "</div>"
      ],
      "text/plain": [
       "     sprzedaz produkt sklep    tydzien  nr_tyg   cena  typ1  typ2  typ3  typ4  \\\n",
       "227     488.0      p1   s90 2018-01-04       1  299.0   0.0   0.0   0.0   0.0   \n",
       "\n",
       "     typ5  typ6  typ7  typ8  typ9  \n",
       "227   0.0   0.0   0.0   0.0   0.0  "
      ]
     },
     "metadata": {},
     "output_type": "display_data"
    }
   ],
   "source": [
    "display(df[df['cena']==10.40])\n",
    "display(df[df['cena']==299])"
   ]
  },
  {
   "cell_type": "code",
   "execution_count": 137,
   "metadata": {},
   "outputs": [
    {
     "data": {
      "text/plain": [
       "1.87963636363636"
      ]
     },
     "metadata": {},
     "output_type": "display_data"
    },
    {
     "data": {
      "text/plain": [
       "3.004730357142855"
      ]
     },
     "execution_count": 137,
     "metadata": {},
     "output_type": "execute_result"
    }
   ],
   "source": [
    "display(df[(df['produkt']=='p13') & (df['nr_tyg']==31)]['cena'].median())\n",
    "df[(df['produkt']=='p1') & (df['nr_tyg']==1)]['cena'].median()"
   ]
  },
  {
   "cell_type": "code",
   "execution_count": 138,
   "metadata": {},
   "outputs": [
    {
     "name": "stderr",
     "output_type": "stream",
     "text": [
      "C:\\Users\\Mikolaj\\Anaconda3\\lib\\site-packages\\ipykernel_launcher.py:1: SettingWithCopyWarning: \n",
      "A value is trying to be set on a copy of a slice from a DataFrame\n",
      "\n",
      "See the caveats in the documentation: http://pandas.pydata.org/pandas-docs/stable/indexing.html#indexing-view-versus-copy\n",
      "  \"\"\"Entry point for launching an IPython kernel.\n",
      "C:\\Users\\Mikolaj\\Anaconda3\\lib\\site-packages\\ipykernel_launcher.py:2: SettingWithCopyWarning: \n",
      "A value is trying to be set on a copy of a slice from a DataFrame\n",
      "\n",
      "See the caveats in the documentation: http://pandas.pydata.org/pandas-docs/stable/indexing.html#indexing-view-versus-copy\n",
      "  \n"
     ]
    }
   ],
   "source": [
    "df['cena'][227] = 1.87\n",
    "df['cena'][413397] = 3.0"
   ]
  },
  {
   "cell_type": "code",
   "execution_count": 140,
   "metadata": {},
   "outputs": [
    {
     "data": {
      "text/plain": [
       "134363    4.650000\n",
       "109403    4.584903\n",
       "120115    4.574483\n",
       "109404    4.571507\n",
       "112003    4.567320\n",
       "Name: cena, dtype: float64"
      ]
     },
     "execution_count": 140,
     "metadata": {},
     "output_type": "execute_result"
    }
   ],
   "source": [
    "df['cena'].nlargest(n=5)\n",
    "#df=df.drop([227, 413397])"
   ]
  },
  {
   "cell_type": "code",
   "execution_count": 553,
   "metadata": {},
   "outputs": [
    {
     "data": {
      "image/png": "[encoded data removed]",
      "text/plain": [
       "<Figure size 432x288 with 1 Axes>"
      ]
     },
     "metadata": {
      "needs_background": "light"
     },
     "output_type": "display_data"
    }
   ],
   "source": [
    "produkt_cena = [df['cena'][df['produkt']==p] for p in df['produkt'].unique()]\n",
    "plt.boxplot(produkt_cena)\n",
    "plt.show()"
   ]
  },
  {
   "cell_type": "code",
   "execution_count": 184,
   "metadata": {},
   "outputs": [
    {
     "data": {
      "image/png": "[encoded data removed]",
      "text/plain": [
       "<Figure size 432x288 with 1 Axes>"
      ]
     },
     "metadata": {
      "needs_background": "light"
     },
     "output_type": "display_data"
    }
   ],
   "source": [
    "produkt_sprzedaz = [df['sprzedaz'][df['produkt']==p] for p in df['produkt'].unique()]\n",
    "plt.boxplot(produkt_sprzedaz)\n",
    "plt.show()"
   ]
  },
  {
   "cell_type": "code",
   "execution_count": 171,
   "metadata": {},
   "outputs": [
    {
     "data": {
      "image/png": "[encoded data removed]",
      "text/plain": [
       "<Figure size 1152x432 with 1 Axes>"
      ]
     },
     "metadata": {
      "needs_background": "light"
     },
     "output_type": "display_data"
    }
   ],
   "source": [
    "fig, ax = plt.subplots()\n",
    "ax.plot(range(104), p1s211.groupby('tydzien')['cena'].mean() * 250, color='r')\n",
    "ax.plot(range(104), p1s211.groupby('tydzien')['sprzedaz'].mean())\n",
    "fig.set_size_inches([16, 6])"
   ]
  },
  {
   "cell_type": "code",
   "execution_count": null,
   "metadata": {},
   "outputs": [],
   "source": []
  },
  {
   "cell_type": "code",
   "execution_count": null,
   "metadata": {},
   "outputs": [],
   "source": []
  },
  {
   "cell_type": "code",
   "execution_count": null,
   "metadata": {},
   "outputs": [],
   "source": []
  },
  {
   "cell_type": "code",
   "execution_count": null,
   "metadata": {},
   "outputs": [],
   "source": []
  },
  {
   "cell_type": "code",
   "execution_count": null,
   "metadata": {},
   "outputs": [],
   "source": []
  },
  {
   "cell_type": "code",
   "execution_count": null,
   "metadata": {},
   "outputs": [],
   "source": []
  },
  {
   "cell_type": "code",
   "execution_count": null,
   "metadata": {},
   "outputs": [],
   "source": []
  },
  {
   "cell_type": "code",
   "execution_count": null,
   "metadata": {},
   "outputs": [],
   "source": []
  },
  {
   "cell_type": "code",
   "execution_count": null,
   "metadata": {},
   "outputs": [],
   "source": []
  },
  {
   "cell_type": "code",
   "execution_count": null,
   "metadata": {},
   "outputs": [],
   "source": []
  },
  {
   "cell_type": "code",
   "execution_count": null,
   "metadata": {},
   "outputs": [],
   "source": []
  },
  {
   "cell_type": "code",
   "execution_count": null,
   "metadata": {},
   "outputs": [],
   "source": []
  },
  {
   "cell_type": "code",
   "execution_count": 238,
   "metadata": {},
   "outputs": [],
   "source": [
    "pca = PCA(n_components=150)"
   ]
  },
  {
   "cell_type": "code",
   "execution_count": 152,
   "metadata": {},
   "outputs": [],
   "source": [
    "weeks = df['tydzien'].unique()\n",
    "products = df['produkt'].unique()\n",
    "shops = df['sklep'].unique()\n",
    "pw = []\n",
    "for p in products:\n",
    "    shops_week = [df[(df['tydzien']==week) & (df['produkt']=='p1')]['sklep'].unique().shape[0] for week in weeks]\n",
    "    pw.append(shops_week)"
   ]
  },
  {
   "cell_type": "code",
   "execution_count": 143,
   "metadata": {},
   "outputs": [
    {
     "name": "stdout",
     "output_type": "stream",
     "text": [
      "[ True]\n",
      "[ True]\n",
      "[ True]\n",
      "[ True]\n",
      "[ True]\n",
      "[ True]\n",
      "[ True]\n",
      "[ True]\n",
      "[ True]\n",
      "[ True]\n",
      "[ True]\n",
      "[ True]\n",
      "[ True]\n"
     ]
    }
   ],
   "source": [
    "pw = np.array(pw)\n",
    "for i in range(13):\n",
    "    print(np.unique(pw[i, 0]!=343))"
   ]
  },
  {
   "cell_type": "code",
   "execution_count": 176,
   "metadata": {},
   "outputs": [],
   "source": [
    "sales = p1.groupby(by='tydzien')['sprzedaz'].sum()[1:]\n",
    "p1df['sprzedaz'] = sales.values"
   ]
  },
  {
   "cell_type": "code",
   "execution_count": 188,
   "metadata": {},
   "outputs": [],
   "source": [
    "p1df.to_csv('p1.csv', index=False)"
   ]
  },
  {
   "cell_type": "code",
   "execution_count": null,
   "metadata": {},
   "outputs": [],
   "source": [
    "lab_sklep = LabelEncoder()\n",
    "lab_sklep.fit(df['sklep'])\n",
    "sklepy = lab_sklep.transform(df['sklep'])\n",
    "\n",
    "lab_produkt = LabelEncoder()\n",
    "lab_produkt.fit(df['produkt'])\n",
    "produkty = lab_produkt.transform(df['produkt'])\n",
    "\n",
    "df['produkt'] = produkty\n",
    "df['sklep'] = sklepy\n",
    "\n",
    "df.head()"
   ]
  },
  {
   "cell_type": "code",
   "execution_count": null,
   "metadata": {},
   "outputs": [],
   "source": [
    "p1.head()"
   ]
  },
  {
   "cell_type": "code",
   "execution_count": null,
   "metadata": {},
   "outputs": [],
   "source": [
    "ps = {}\n",
    "for p in np.unique(df['produkt']):\n",
    "    for s in np.unique(df['sklep']):\n",
    "        ps['p'+str(p)+'s'+str(s)] = df[(df['produkt']==p) & (df['sklep']==s)]"
   ]
  },
  {
   "cell_type": "code",
   "execution_count": null,
   "metadata": {},
   "outputs": [],
   "source": [
    "p1 = df[df['produkt']==0].drop(columns=['produkt', 'sklep'])\n",
    "\n",
    "p1typ = p1.iloc[:, [1, 3, 4, 5, 6, 7, 8, 9, 10, 11, 12]]\n",
    "p1typ = p1typ.groupby(by='tydzien').sum()\n",
    "\n",
    "p1nr = p1.groupby(by='tydzien').mean()\n",
    "\n",
    "pp1 = p1.groupby(by='tydzien')['sprzedaz', 'cena'].mean()\n",
    "pp1[p1typ.columns] = p1typ\n",
    "\n",
    "#pp1['nr_tyg'] = p1nr['nr_tyg']"
   ]
  },
  {
   "cell_type": "code",
   "execution_count": null,
   "metadata": {
    "scrolled": true
   },
   "outputs": [],
   "source": [
    "p1 = df[df['produkt']==0].drop(columns=['produkt', 'sklep'])\n",
    "\n",
    "p1typ = p1.iloc[:, [1, 4, 5, 6, 7, 8, 9, 10, 11, 12]].groupby(by='tydzien').sum()\n",
    "\n",
    "p1nrtyg = p1.groupby(by='tydzien').mean()[['nr_tyg']]\n",
    "\n",
    "pp1 = p1.groupby(by='tydzien')['sprzedaz', 'cena'].mean()\n",
    "\n",
    "pp1[p1typ.columns] = p1typ\n",
    "\n",
    "pp1['nr_tyg'] = p1nrtyg\n"
   ]
  },
  {
   "cell_type": "code",
   "execution_count": null,
   "metadata": {},
   "outputs": [],
   "source": [
    "X = pp1.iloc[:, 1:].values\n",
    "y = pp1.iloc[:, 0].values\n",
    "\n",
    "reg = LinearRegression(n_jobs=-1)\n",
    "reg.fit(pca.transform(X), y)\n",
    "y_pred_train = reg.predict(pca.transform(X))\n",
    "y_pred_train[y_pred_train < 0] = 0\n",
    "\n",
    "\"\"\"y_pred_test = reg.predict(X_test)\n",
    "y_pred_test[y_pred_test < 0] = 0\"\"\"\n",
    "\n",
    "\n",
    "fig, ax = plt.subplots()\n",
    "ax.plot(range(104), y)\n",
    "ax.plot(range(104), y_pred_train)\n",
    "#ax.plot(p1s211['tydzien'][100:], y_pred_test)\n",
    "fig.set_size_inches([16, 6])\n",
    "plt.show()\n",
    "print('MAPE_train: %.2f' % (mape(y, y_pred_train)))\n",
    "#print('MAPE_test: %.2f' % (mape(y, y_pred_test)))"
   ]
  },
  {
   "cell_type": "code",
   "execution_count": 352,
   "metadata": {},
   "outputs": [],
   "source": [
    "X = pp1.iloc[:, 1:].values\n",
    "y = pp1.iloc[:, 0].values"
   ]
  },
  {
   "cell_type": "code",
   "execution_count": 351,
   "metadata": {},
   "outputs": [
    {
     "data": {
      "text/plain": [
       "array([[96.,  1.,  0., ...,  0.,  0., 33.],\n",
       "       [12.,  1.,  0., ...,  2.,  0., 34.],\n",
       "       [11.,  0.,  0., ...,  0.,  0., 35.],\n",
       "       ...,\n",
       "       [ 0.,  0.,  0., ...,  0.,  0., 30.],\n",
       "       [ 0.,  0.,  0., ...,  0.,  0., 31.],\n",
       "       [ 0.,  0.,  0., ...,  0.,  0., 32.]])"
      ]
     },
     "execution_count": 351,
     "metadata": {},
     "output_type": "execute_result"
    }
   ],
   "source": [
    "X"
   ]
  },
  {
   "cell_type": "code",
   "execution_count": 212,
   "metadata": {
    "collapsed": true
   },
   "outputs": [
    {
     "data": {
      "text/plain": [
       "dict_keys(['p0s0', 'p0s1', 'p0s2', 'p0s3', 'p0s4', 'p0s5', 'p0s6', 'p0s7', 'p0s8', 'p0s9', 'p0s10', 'p0s11', 'p0s12', 'p0s13', 'p0s14', 'p0s15', 'p0s16', 'p0s17', 'p0s18', 'p0s19', 'p0s20', 'p0s21', 'p0s22', 'p0s23', 'p0s24', 'p0s25', 'p0s26', 'p0s27', 'p0s28', 'p0s29', 'p0s30', 'p0s31', 'p0s32', 'p0s33', 'p0s34', 'p0s35', 'p0s36', 'p0s37', 'p0s38', 'p0s39', 'p0s40', 'p0s41', 'p0s42', 'p0s43', 'p0s44', 'p0s45', 'p0s46', 'p0s47', 'p0s48', 'p0s49', 'p0s50', 'p0s51', 'p0s52', 'p0s53', 'p0s54', 'p0s55', 'p0s56', 'p0s57', 'p0s58', 'p0s59', 'p0s60', 'p0s61', 'p0s62', 'p0s63', 'p0s64', 'p0s65', 'p0s66', 'p0s67', 'p0s68', 'p0s69', 'p0s70', 'p0s71', 'p0s72', 'p0s73', 'p0s74', 'p0s75', 'p0s76', 'p0s77', 'p0s78', 'p0s79', 'p0s80', 'p0s81', 'p0s82', 'p0s83', 'p0s84', 'p0s85', 'p0s86', 'p0s87', 'p0s88', 'p0s89', 'p0s90', 'p0s91', 'p0s92', 'p0s93', 'p0s94', 'p0s95', 'p0s96', 'p0s97', 'p0s98', 'p0s99', 'p0s100', 'p0s101', 'p0s102', 'p0s103', 'p0s104', 'p0s105', 'p0s106', 'p0s107', 'p0s108', 'p0s109', 'p0s110', 'p0s111', 'p0s112', 'p0s113', 'p0s114', 'p0s115', 'p0s116', 'p0s117', 'p0s118', 'p0s119', 'p0s120', 'p0s121', 'p0s122', 'p0s123', 'p0s124', 'p0s125', 'p0s126', 'p0s127', 'p0s128', 'p0s129', 'p0s130', 'p0s131', 'p0s132', 'p0s133', 'p0s134', 'p0s135', 'p0s136', 'p0s137', 'p0s138', 'p0s139', 'p0s140', 'p0s141', 'p0s142', 'p0s143', 'p0s144', 'p0s145', 'p0s146', 'p0s147', 'p0s148', 'p0s149', 'p0s150', 'p0s151', 'p0s152', 'p0s153', 'p0s154', 'p0s155', 'p0s156', 'p0s157', 'p0s158', 'p0s159', 'p0s160', 'p0s161', 'p0s162', 'p0s163', 'p0s164', 'p0s165', 'p0s166', 'p0s167', 'p0s168', 'p0s169', 'p0s170', 'p0s171', 'p0s172', 'p0s173', 'p0s174', 'p0s175', 'p0s176', 'p0s177', 'p0s178', 'p0s179', 'p0s180', 'p0s181', 'p0s182', 'p0s183', 'p0s184', 'p0s185', 'p0s186', 'p0s187', 'p0s188', 'p0s189', 'p0s190', 'p0s191', 'p0s192', 'p0s193', 'p0s194', 'p0s195', 'p0s196', 'p0s197', 'p0s198', 'p0s199', 'p0s200', 'p0s201', 'p0s202', 'p0s203', 'p0s204', 'p0s205', 'p0s206', 'p0s207', 'p0s208', 'p0s209', 'p0s210', 'p0s211', 'p0s212', 'p0s213', 'p0s214', 'p0s215', 'p0s216', 'p0s217', 'p0s218', 'p0s219', 'p0s220', 'p0s221', 'p0s222', 'p0s223', 'p0s224', 'p0s225', 'p0s226', 'p0s227', 'p0s228', 'p0s229', 'p0s230', 'p0s231', 'p0s232', 'p0s233', 'p0s234', 'p0s235', 'p0s236', 'p0s237', 'p0s238', 'p0s239', 'p0s240', 'p0s241', 'p0s242', 'p0s243', 'p0s244', 'p0s245', 'p0s246', 'p0s247', 'p0s248', 'p0s249', 'p0s250', 'p0s251', 'p0s252', 'p0s253', 'p0s254', 'p0s255', 'p0s256', 'p0s257', 'p0s258', 'p0s259', 'p0s260', 'p0s261', 'p0s262', 'p0s263', 'p0s264', 'p0s265', 'p0s266', 'p0s267', 'p0s268', 'p0s269', 'p0s270', 'p0s271', 'p0s272', 'p0s273', 'p0s274', 'p0s275', 'p0s276', 'p0s277', 'p0s278', 'p0s279', 'p0s280', 'p0s281', 'p0s282', 'p0s283', 'p0s284', 'p0s285', 'p0s286', 'p0s287', 'p0s288', 'p0s289', 'p0s290', 'p0s291', 'p0s292', 'p0s293', 'p0s294', 'p0s295', 'p0s296', 'p0s297', 'p0s298', 'p0s299', 'p0s300', 'p0s301', 'p0s302', 'p0s303', 'p0s304', 'p0s305', 'p0s306', 'p0s307', 'p0s308', 'p0s309', 'p0s310', 'p0s311', 'p0s312', 'p0s313', 'p0s314', 'p0s315', 'p0s316', 'p0s317', 'p0s318', 'p0s319', 'p0s320', 'p0s321', 'p0s322', 'p0s323', 'p0s324', 'p0s325', 'p0s326', 'p0s327', 'p0s328', 'p0s329', 'p0s330', 'p0s331', 'p0s332', 'p0s333', 'p0s334', 'p0s335', 'p0s336', 'p0s337', 'p0s338', 'p0s339', 'p0s340', 'p0s341', 'p0s342', 'p1s0', 'p1s1', 'p1s2', 'p1s3', 'p1s4', 'p1s5', 'p1s6', 'p1s7', 'p1s8', 'p1s9', 'p1s10', 'p1s11', 'p1s12', 'p1s13', 'p1s14', 'p1s15', 'p1s16', 'p1s17', 'p1s18', 'p1s19', 'p1s20', 'p1s21', 'p1s22', 'p1s23', 'p1s24', 'p1s25', 'p1s26', 'p1s27', 'p1s28', 'p1s29', 'p1s30', 'p1s31', 'p1s32', 'p1s33', 'p1s34', 'p1s35', 'p1s36', 'p1s37', 'p1s38', 'p1s39', 'p1s40', 'p1s41', 'p1s42', 'p1s43', 'p1s44', 'p1s45', 'p1s46', 'p1s47', 'p1s48', 'p1s49', 'p1s50', 'p1s51', 'p1s52', 'p1s53', 'p1s54', 'p1s55', 'p1s56', 'p1s57', 'p1s58', 'p1s59', 'p1s60', 'p1s61', 'p1s62', 'p1s63', 'p1s64', 'p1s65', 'p1s66', 'p1s67', 'p1s68', 'p1s69', 'p1s70', 'p1s71', 'p1s72', 'p1s73', 'p1s74', 'p1s75', 'p1s76', 'p1s77', 'p1s78', 'p1s79', 'p1s80', 'p1s81', 'p1s82', 'p1s83', 'p1s84', 'p1s85', 'p1s86', 'p1s87', 'p1s88', 'p1s89', 'p1s90', 'p1s91', 'p1s92', 'p1s93', 'p1s94', 'p1s95', 'p1s96', 'p1s97', 'p1s98', 'p1s99', 'p1s100', 'p1s101', 'p1s102', 'p1s103', 'p1s104', 'p1s105', 'p1s106', 'p1s107', 'p1s108', 'p1s109', 'p1s110', 'p1s111', 'p1s112', 'p1s113', 'p1s114', 'p1s115', 'p1s116', 'p1s117', 'p1s118', 'p1s119', 'p1s120', 'p1s121', 'p1s122', 'p1s123', 'p1s124', 'p1s125', 'p1s126', 'p1s127', 'p1s128', 'p1s129', 'p1s130', 'p1s131', 'p1s132', 'p1s133', 'p1s134', 'p1s135', 'p1s136', 'p1s137', 'p1s138', 'p1s139', 'p1s140', 'p1s141', 'p1s142', 'p1s143', 'p1s144', 'p1s145', 'p1s146', 'p1s147', 'p1s148', 'p1s149', 'p1s150', 'p1s151', 'p1s152', 'p1s153', 'p1s154', 'p1s155', 'p1s156', 'p1s157', 'p1s158', 'p1s159', 'p1s160', 'p1s161', 'p1s162', 'p1s163', 'p1s164', 'p1s165', 'p1s166', 'p1s167', 'p1s168', 'p1s169', 'p1s170', 'p1s171', 'p1s172', 'p1s173', 'p1s174', 'p1s175', 'p1s176', 'p1s177', 'p1s178', 'p1s179', 'p1s180', 'p1s181', 'p1s182', 'p1s183', 'p1s184', 'p1s185', 'p1s186', 'p1s187', 'p1s188', 'p1s189', 'p1s190', 'p1s191', 'p1s192', 'p1s193', 'p1s194', 'p1s195', 'p1s196', 'p1s197', 'p1s198', 'p1s199', 'p1s200', 'p1s201', 'p1s202', 'p1s203', 'p1s204', 'p1s205', 'p1s206', 'p1s207', 'p1s208', 'p1s209', 'p1s210', 'p1s211', 'p1s212', 'p1s213', 'p1s214', 'p1s215', 'p1s216', 'p1s217', 'p1s218', 'p1s219', 'p1s220', 'p1s221', 'p1s222', 'p1s223', 'p1s224', 'p1s225', 'p1s226', 'p1s227', 'p1s228', 'p1s229', 'p1s230', 'p1s231', 'p1s232', 'p1s233', 'p1s234', 'p1s235', 'p1s236', 'p1s237', 'p1s238', 'p1s239', 'p1s240', 'p1s241', 'p1s242', 'p1s243', 'p1s244', 'p1s245', 'p1s246', 'p1s247', 'p1s248', 'p1s249', 'p1s250', 'p1s251', 'p1s252', 'p1s253', 'p1s254', 'p1s255', 'p1s256', 'p1s257', 'p1s258', 'p1s259', 'p1s260', 'p1s261', 'p1s262', 'p1s263', 'p1s264', 'p1s265', 'p1s266', 'p1s267', 'p1s268', 'p1s269', 'p1s270', 'p1s271', 'p1s272', 'p1s273', 'p1s274', 'p1s275', 'p1s276', 'p1s277', 'p1s278', 'p1s279', 'p1s280', 'p1s281', 'p1s282', 'p1s283', 'p1s284', 'p1s285', 'p1s286', 'p1s287', 'p1s288', 'p1s289', 'p1s290', 'p1s291', 'p1s292', 'p1s293', 'p1s294', 'p1s295', 'p1s296', 'p1s297', 'p1s298', 'p1s299', 'p1s300', 'p1s301', 'p1s302', 'p1s303', 'p1s304', 'p1s305', 'p1s306', 'p1s307', 'p1s308', 'p1s309', 'p1s310', 'p1s311', 'p1s312', 'p1s313', 'p1s314', 'p1s315', 'p1s316', 'p1s317', 'p1s318', 'p1s319', 'p1s320', 'p1s321', 'p1s322', 'p1s323', 'p1s324', 'p1s325', 'p1s326', 'p1s327', 'p1s328', 'p1s329', 'p1s330', 'p1s331', 'p1s332', 'p1s333', 'p1s334', 'p1s335', 'p1s336', 'p1s337', 'p1s338', 'p1s339', 'p1s340', 'p1s341', 'p1s342', 'p2s0', 'p2s1', 'p2s2', 'p2s3', 'p2s4', 'p2s5', 'p2s6', 'p2s7', 'p2s8', 'p2s9', 'p2s10', 'p2s11', 'p2s12', 'p2s13', 'p2s14', 'p2s15', 'p2s16', 'p2s17', 'p2s18', 'p2s19', 'p2s20', 'p2s21', 'p2s22', 'p2s23', 'p2s24', 'p2s25', 'p2s26', 'p2s27', 'p2s28', 'p2s29', 'p2s30', 'p2s31', 'p2s32', 'p2s33', 'p2s34', 'p2s35', 'p2s36', 'p2s37', 'p2s38', 'p2s39', 'p2s40', 'p2s41', 'p2s42', 'p2s43', 'p2s44', 'p2s45', 'p2s46', 'p2s47', 'p2s48', 'p2s49', 'p2s50', 'p2s51', 'p2s52', 'p2s53', 'p2s54', 'p2s55', 'p2s56', 'p2s57', 'p2s58', 'p2s59', 'p2s60', 'p2s61', 'p2s62', 'p2s63', 'p2s64', 'p2s65', 'p2s66', 'p2s67', 'p2s68', 'p2s69', 'p2s70', 'p2s71', 'p2s72', 'p2s73', 'p2s74', 'p2s75', 'p2s76', 'p2s77', 'p2s78', 'p2s79', 'p2s80', 'p2s81', 'p2s82', 'p2s83', 'p2s84', 'p2s85', 'p2s86', 'p2s87', 'p2s88', 'p2s89', 'p2s90', 'p2s91', 'p2s92', 'p2s93', 'p2s94', 'p2s95', 'p2s96', 'p2s97', 'p2s98', 'p2s99', 'p2s100', 'p2s101', 'p2s102', 'p2s103', 'p2s104', 'p2s105', 'p2s106', 'p2s107', 'p2s108', 'p2s109', 'p2s110', 'p2s111', 'p2s112', 'p2s113', 'p2s114', 'p2s115', 'p2s116', 'p2s117', 'p2s118', 'p2s119', 'p2s120', 'p2s121', 'p2s122', 'p2s123', 'p2s124', 'p2s125', 'p2s126', 'p2s127', 'p2s128', 'p2s129', 'p2s130', 'p2s131', 'p2s132', 'p2s133', 'p2s134', 'p2s135', 'p2s136', 'p2s137', 'p2s138', 'p2s139', 'p2s140', 'p2s141', 'p2s142', 'p2s143', 'p2s144', 'p2s145', 'p2s146', 'p2s147', 'p2s148', 'p2s149', 'p2s150', 'p2s151', 'p2s152', 'p2s153', 'p2s154', 'p2s155', 'p2s156', 'p2s157', 'p2s158', 'p2s159', 'p2s160', 'p2s161', 'p2s162', 'p2s163', 'p2s164', 'p2s165', 'p2s166', 'p2s167', 'p2s168', 'p2s169', 'p2s170', 'p2s171', 'p2s172', 'p2s173', 'p2s174', 'p2s175', 'p2s176', 'p2s177', 'p2s178', 'p2s179', 'p2s180', 'p2s181', 'p2s182', 'p2s183', 'p2s184', 'p2s185', 'p2s186', 'p2s187', 'p2s188', 'p2s189', 'p2s190', 'p2s191', 'p2s192', 'p2s193', 'p2s194', 'p2s195', 'p2s196', 'p2s197', 'p2s198', 'p2s199', 'p2s200', 'p2s201', 'p2s202', 'p2s203', 'p2s204', 'p2s205', 'p2s206', 'p2s207', 'p2s208', 'p2s209', 'p2s210', 'p2s211', 'p2s212', 'p2s213', 'p2s214', 'p2s215', 'p2s216', 'p2s217', 'p2s218', 'p2s219', 'p2s220', 'p2s221', 'p2s222', 'p2s223', 'p2s224', 'p2s225', 'p2s226', 'p2s227', 'p2s228', 'p2s229', 'p2s230', 'p2s231', 'p2s232', 'p2s233', 'p2s234', 'p2s235', 'p2s236', 'p2s237', 'p2s238', 'p2s239', 'p2s240', 'p2s241', 'p2s242', 'p2s243', 'p2s244', 'p2s245', 'p2s246', 'p2s247', 'p2s248', 'p2s249', 'p2s250', 'p2s251', 'p2s252', 'p2s253', 'p2s254', 'p2s255', 'p2s256', 'p2s257', 'p2s258', 'p2s259', 'p2s260', 'p2s261', 'p2s262', 'p2s263', 'p2s264', 'p2s265', 'p2s266', 'p2s267', 'p2s268', 'p2s269', 'p2s270', 'p2s271', 'p2s272', 'p2s273', 'p2s274', 'p2s275', 'p2s276', 'p2s277', 'p2s278', 'p2s279', 'p2s280', 'p2s281', 'p2s282', 'p2s283', 'p2s284', 'p2s285', 'p2s286', 'p2s287', 'p2s288', 'p2s289', 'p2s290', 'p2s291', 'p2s292', 'p2s293', 'p2s294', 'p2s295', 'p2s296', 'p2s297', 'p2s298', 'p2s299', 'p2s300', 'p2s301', 'p2s302', 'p2s303', 'p2s304', 'p2s305', 'p2s306', 'p2s307', 'p2s308', 'p2s309', 'p2s310', 'p2s311', 'p2s312', 'p2s313', 'p2s314', 'p2s315', 'p2s316', 'p2s317', 'p2s318', 'p2s319', 'p2s320', 'p2s321', 'p2s322', 'p2s323', 'p2s324', 'p2s325', 'p2s326', 'p2s327', 'p2s328', 'p2s329', 'p2s330', 'p2s331', 'p2s332', 'p2s333', 'p2s334', 'p2s335', 'p2s336', 'p2s337', 'p2s338', 'p2s339', 'p2s340', 'p2s341', 'p2s342', 'p3s0', 'p3s1', 'p3s2', 'p3s3', 'p3s4', 'p3s5', 'p3s6', 'p3s7', 'p3s8', 'p3s9', 'p3s10', 'p3s11', 'p3s12', 'p3s13', 'p3s14', 'p3s15', 'p3s16', 'p3s17', 'p3s18', 'p3s19', 'p3s20', 'p3s21', 'p3s22', 'p3s23', 'p3s24', 'p3s25', 'p3s26', 'p3s27', 'p3s28', 'p3s29', 'p3s30', 'p3s31', 'p3s32', 'p3s33', 'p3s34', 'p3s35', 'p3s36', 'p3s37', 'p3s38', 'p3s39', 'p3s40', 'p3s41', 'p3s42', 'p3s43', 'p3s44', 'p3s45', 'p3s46', 'p3s47', 'p3s48', 'p3s49', 'p3s50', 'p3s51', 'p3s52', 'p3s53', 'p3s54', 'p3s55', 'p3s56', 'p3s57', 'p3s58', 'p3s59', 'p3s60', 'p3s61', 'p3s62', 'p3s63', 'p3s64', 'p3s65', 'p3s66', 'p3s67', 'p3s68', 'p3s69', 'p3s70', 'p3s71', 'p3s72', 'p3s73', 'p3s74', 'p3s75', 'p3s76', 'p3s77', 'p3s78', 'p3s79', 'p3s80', 'p3s81', 'p3s82', 'p3s83', 'p3s84', 'p3s85', 'p3s86', 'p3s87', 'p3s88', 'p3s89', 'p3s90', 'p3s91', 'p3s92', 'p3s93', 'p3s94', 'p3s95', 'p3s96', 'p3s97', 'p3s98', 'p3s99', 'p3s100', 'p3s101', 'p3s102', 'p3s103', 'p3s104', 'p3s105', 'p3s106', 'p3s107', 'p3s108', 'p3s109', 'p3s110', 'p3s111', 'p3s112', 'p3s113', 'p3s114', 'p3s115', 'p3s116', 'p3s117', 'p3s118', 'p3s119', 'p3s120', 'p3s121', 'p3s122', 'p3s123', 'p3s124', 'p3s125', 'p3s126', 'p3s127', 'p3s128', 'p3s129', 'p3s130', 'p3s131', 'p3s132', 'p3s133', 'p3s134', 'p3s135', 'p3s136', 'p3s137', 'p3s138', 'p3s139', 'p3s140', 'p3s141', 'p3s142', 'p3s143', 'p3s144', 'p3s145', 'p3s146', 'p3s147', 'p3s148', 'p3s149', 'p3s150', 'p3s151', 'p3s152', 'p3s153', 'p3s154', 'p3s155', 'p3s156', 'p3s157', 'p3s158', 'p3s159', 'p3s160', 'p3s161', 'p3s162', 'p3s163', 'p3s164', 'p3s165', 'p3s166', 'p3s167', 'p3s168', 'p3s169', 'p3s170', 'p3s171', 'p3s172', 'p3s173', 'p3s174', 'p3s175', 'p3s176', 'p3s177', 'p3s178', 'p3s179', 'p3s180', 'p3s181', 'p3s182', 'p3s183', 'p3s184', 'p3s185', 'p3s186', 'p3s187', 'p3s188', 'p3s189', 'p3s190', 'p3s191', 'p3s192', 'p3s193', 'p3s194', 'p3s195', 'p3s196', 'p3s197', 'p3s198', 'p3s199', 'p3s200', 'p3s201', 'p3s202', 'p3s203', 'p3s204', 'p3s205', 'p3s206', 'p3s207', 'p3s208', 'p3s209', 'p3s210', 'p3s211', 'p3s212', 'p3s213', 'p3s214', 'p3s215', 'p3s216', 'p3s217', 'p3s218', 'p3s219', 'p3s220', 'p3s221', 'p3s222', 'p3s223', 'p3s224', 'p3s225', 'p3s226', 'p3s227', 'p3s228', 'p3s229', 'p3s230', 'p3s231', 'p3s232', 'p3s233', 'p3s234', 'p3s235', 'p3s236', 'p3s237', 'p3s238', 'p3s239', 'p3s240', 'p3s241', 'p3s242', 'p3s243', 'p3s244', 'p3s245', 'p3s246', 'p3s247', 'p3s248', 'p3s249', 'p3s250', 'p3s251', 'p3s252', 'p3s253', 'p3s254', 'p3s255', 'p3s256', 'p3s257', 'p3s258', 'p3s259', 'p3s260', 'p3s261', 'p3s262', 'p3s263', 'p3s264', 'p3s265', 'p3s266', 'p3s267', 'p3s268', 'p3s269', 'p3s270', 'p3s271', 'p3s272', 'p3s273', 'p3s274', 'p3s275', 'p3s276', 'p3s277', 'p3s278', 'p3s279', 'p3s280', 'p3s281', 'p3s282', 'p3s283', 'p3s284', 'p3s285', 'p3s286', 'p3s287', 'p3s288', 'p3s289', 'p3s290', 'p3s291', 'p3s292', 'p3s293', 'p3s294', 'p3s295', 'p3s296', 'p3s297', 'p3s298', 'p3s299', 'p3s300', 'p3s301', 'p3s302', 'p3s303', 'p3s304', 'p3s305', 'p3s306', 'p3s307', 'p3s308', 'p3s309', 'p3s310', 'p3s311', 'p3s312', 'p3s313', 'p3s314', 'p3s315', 'p3s316', 'p3s317', 'p3s318', 'p3s319', 'p3s320', 'p3s321', 'p3s322', 'p3s323', 'p3s324', 'p3s325', 'p3s326', 'p3s327', 'p3s328', 'p3s329', 'p3s330', 'p3s331', 'p3s332', 'p3s333', 'p3s334', 'p3s335', 'p3s336', 'p3s337', 'p3s338', 'p3s339', 'p3s340', 'p3s341', 'p3s342', 'p4s0', 'p4s1', 'p4s2', 'p4s3', 'p4s4', 'p4s5', 'p4s6', 'p4s7', 'p4s8', 'p4s9', 'p4s10', 'p4s11', 'p4s12', 'p4s13', 'p4s14', 'p4s15', 'p4s16', 'p4s17', 'p4s18', 'p4s19', 'p4s20', 'p4s21', 'p4s22', 'p4s23', 'p4s24', 'p4s25', 'p4s26', 'p4s27', 'p4s28', 'p4s29', 'p4s30', 'p4s31', 'p4s32', 'p4s33', 'p4s34', 'p4s35', 'p4s36', 'p4s37', 'p4s38', 'p4s39', 'p4s40', 'p4s41', 'p4s42', 'p4s43', 'p4s44', 'p4s45', 'p4s46', 'p4s47', 'p4s48', 'p4s49', 'p4s50', 'p4s51', 'p4s52', 'p4s53', 'p4s54', 'p4s55', 'p4s56', 'p4s57', 'p4s58', 'p4s59', 'p4s60', 'p4s61', 'p4s62', 'p4s63', 'p4s64', 'p4s65', 'p4s66', 'p4s67', 'p4s68', 'p4s69', 'p4s70', 'p4s71', 'p4s72', 'p4s73', 'p4s74', 'p4s75', 'p4s76', 'p4s77', 'p4s78', 'p4s79', 'p4s80', 'p4s81', 'p4s82', 'p4s83', 'p4s84', 'p4s85', 'p4s86', 'p4s87', 'p4s88', 'p4s89', 'p4s90', 'p4s91', 'p4s92', 'p4s93', 'p4s94', 'p4s95', 'p4s96', 'p4s97', 'p4s98', 'p4s99', 'p4s100', 'p4s101', 'p4s102', 'p4s103', 'p4s104', 'p4s105', 'p4s106', 'p4s107', 'p4s108', 'p4s109', 'p4s110', 'p4s111', 'p4s112', 'p4s113', 'p4s114', 'p4s115', 'p4s116', 'p4s117', 'p4s118', 'p4s119', 'p4s120', 'p4s121', 'p4s122', 'p4s123', 'p4s124', 'p4s125', 'p4s126', 'p4s127', 'p4s128', 'p4s129', 'p4s130', 'p4s131', 'p4s132', 'p4s133', 'p4s134', 'p4s135', 'p4s136', 'p4s137', 'p4s138', 'p4s139', 'p4s140', 'p4s141', 'p4s142', 'p4s143', 'p4s144', 'p4s145', 'p4s146', 'p4s147', 'p4s148', 'p4s149', 'p4s150', 'p4s151', 'p4s152', 'p4s153', 'p4s154', 'p4s155', 'p4s156', 'p4s157', 'p4s158', 'p4s159', 'p4s160', 'p4s161', 'p4s162', 'p4s163', 'p4s164', 'p4s165', 'p4s166', 'p4s167', 'p4s168', 'p4s169', 'p4s170', 'p4s171', 'p4s172', 'p4s173', 'p4s174', 'p4s175', 'p4s176', 'p4s177', 'p4s178', 'p4s179', 'p4s180', 'p4s181', 'p4s182', 'p4s183', 'p4s184', 'p4s185', 'p4s186', 'p4s187', 'p4s188', 'p4s189', 'p4s190', 'p4s191', 'p4s192', 'p4s193', 'p4s194', 'p4s195', 'p4s196', 'p4s197', 'p4s198', 'p4s199', 'p4s200', 'p4s201', 'p4s202', 'p4s203', 'p4s204', 'p4s205', 'p4s206', 'p4s207', 'p4s208', 'p4s209', 'p4s210', 'p4s211', 'p4s212', 'p4s213', 'p4s214', 'p4s215', 'p4s216', 'p4s217', 'p4s218', 'p4s219', 'p4s220', 'p4s221', 'p4s222', 'p4s223', 'p4s224', 'p4s225', 'p4s226', 'p4s227', 'p4s228', 'p4s229', 'p4s230', 'p4s231', 'p4s232', 'p4s233', 'p4s234', 'p4s235', 'p4s236', 'p4s237', 'p4s238', 'p4s239', 'p4s240', 'p4s241', 'p4s242', 'p4s243', 'p4s244', 'p4s245', 'p4s246', 'p4s247', 'p4s248', 'p4s249', 'p4s250', 'p4s251', 'p4s252', 'p4s253', 'p4s254', 'p4s255', 'p4s256', 'p4s257', 'p4s258', 'p4s259', 'p4s260', 'p4s261', 'p4s262', 'p4s263', 'p4s264', 'p4s265', 'p4s266', 'p4s267', 'p4s268', 'p4s269', 'p4s270', 'p4s271', 'p4s272', 'p4s273', 'p4s274', 'p4s275', 'p4s276', 'p4s277', 'p4s278', 'p4s279', 'p4s280', 'p4s281', 'p4s282', 'p4s283', 'p4s284', 'p4s285', 'p4s286', 'p4s287', 'p4s288', 'p4s289', 'p4s290', 'p4s291', 'p4s292', 'p4s293', 'p4s294', 'p4s295', 'p4s296', 'p4s297', 'p4s298', 'p4s299', 'p4s300', 'p4s301', 'p4s302', 'p4s303', 'p4s304', 'p4s305', 'p4s306', 'p4s307', 'p4s308', 'p4s309', 'p4s310', 'p4s311', 'p4s312', 'p4s313', 'p4s314', 'p4s315', 'p4s316', 'p4s317', 'p4s318', 'p4s319', 'p4s320', 'p4s321', 'p4s322', 'p4s323', 'p4s324', 'p4s325', 'p4s326', 'p4s327', 'p4s328', 'p4s329', 'p4s330', 'p4s331', 'p4s332', 'p4s333', 'p4s334', 'p4s335', 'p4s336', 'p4s337', 'p4s338', 'p4s339', 'p4s340', 'p4s341', 'p4s342', 'p5s0', 'p5s1', 'p5s2', 'p5s3', 'p5s4', 'p5s5', 'p5s6', 'p5s7', 'p5s8', 'p5s9', 'p5s10', 'p5s11', 'p5s12', 'p5s13', 'p5s14', 'p5s15', 'p5s16', 'p5s17', 'p5s18', 'p5s19', 'p5s20', 'p5s21', 'p5s22', 'p5s23', 'p5s24', 'p5s25', 'p5s26', 'p5s27', 'p5s28', 'p5s29', 'p5s30', 'p5s31', 'p5s32', 'p5s33', 'p5s34', 'p5s35', 'p5s36', 'p5s37', 'p5s38', 'p5s39', 'p5s40', 'p5s41', 'p5s42', 'p5s43', 'p5s44', 'p5s45', 'p5s46', 'p5s47', 'p5s48', 'p5s49', 'p5s50', 'p5s51', 'p5s52', 'p5s53', 'p5s54', 'p5s55', 'p5s56', 'p5s57', 'p5s58', 'p5s59', 'p5s60', 'p5s61', 'p5s62', 'p5s63', 'p5s64', 'p5s65', 'p5s66', 'p5s67', 'p5s68', 'p5s69', 'p5s70', 'p5s71', 'p5s72', 'p5s73', 'p5s74', 'p5s75', 'p5s76', 'p5s77', 'p5s78', 'p5s79', 'p5s80', 'p5s81', 'p5s82', 'p5s83', 'p5s84', 'p5s85', 'p5s86', 'p5s87', 'p5s88', 'p5s89', 'p5s90', 'p5s91', 'p5s92', 'p5s93', 'p5s94', 'p5s95', 'p5s96', 'p5s97', 'p5s98', 'p5s99', 'p5s100', 'p5s101', 'p5s102', 'p5s103', 'p5s104', 'p5s105', 'p5s106', 'p5s107', 'p5s108', 'p5s109', 'p5s110', 'p5s111', 'p5s112', 'p5s113', 'p5s114', 'p5s115', 'p5s116', 'p5s117', 'p5s118', 'p5s119', 'p5s120', 'p5s121', 'p5s122', 'p5s123', 'p5s124', 'p5s125', 'p5s126', 'p5s127', 'p5s128', 'p5s129', 'p5s130', 'p5s131', 'p5s132', 'p5s133', 'p5s134', 'p5s135', 'p5s136', 'p5s137', 'p5s138', 'p5s139', 'p5s140', 'p5s141', 'p5s142', 'p5s143', 'p5s144', 'p5s145', 'p5s146', 'p5s147', 'p5s148', 'p5s149', 'p5s150', 'p5s151', 'p5s152', 'p5s153', 'p5s154', 'p5s155', 'p5s156', 'p5s157', 'p5s158', 'p5s159', 'p5s160', 'p5s161', 'p5s162', 'p5s163', 'p5s164', 'p5s165', 'p5s166', 'p5s167', 'p5s168', 'p5s169', 'p5s170', 'p5s171', 'p5s172', 'p5s173', 'p5s174', 'p5s175', 'p5s176', 'p5s177', 'p5s178', 'p5s179', 'p5s180', 'p5s181', 'p5s182', 'p5s183', 'p5s184', 'p5s185', 'p5s186', 'p5s187', 'p5s188', 'p5s189', 'p5s190', 'p5s191', 'p5s192', 'p5s193', 'p5s194', 'p5s195', 'p5s196', 'p5s197', 'p5s198', 'p5s199', 'p5s200', 'p5s201', 'p5s202', 'p5s203', 'p5s204', 'p5s205', 'p5s206', 'p5s207', 'p5s208', 'p5s209', 'p5s210', 'p5s211', 'p5s212', 'p5s213', 'p5s214', 'p5s215', 'p5s216', 'p5s217', 'p5s218', 'p5s219', 'p5s220', 'p5s221', 'p5s222', 'p5s223', 'p5s224', 'p5s225', 'p5s226', 'p5s227', 'p5s228', 'p5s229', 'p5s230', 'p5s231', 'p5s232', 'p5s233', 'p5s234', 'p5s235', 'p5s236', 'p5s237', 'p5s238', 'p5s239', 'p5s240', 'p5s241', 'p5s242', 'p5s243', 'p5s244', 'p5s245', 'p5s246', 'p5s247', 'p5s248', 'p5s249', 'p5s250', 'p5s251', 'p5s252', 'p5s253', 'p5s254', 'p5s255', 'p5s256', 'p5s257', 'p5s258', 'p5s259', 'p5s260', 'p5s261', 'p5s262', 'p5s263', 'p5s264', 'p5s265', 'p5s266', 'p5s267', 'p5s268', 'p5s269', 'p5s270', 'p5s271', 'p5s272', 'p5s273', 'p5s274', 'p5s275', 'p5s276', 'p5s277', 'p5s278', 'p5s279', 'p5s280', 'p5s281', 'p5s282', 'p5s283', 'p5s284', 'p5s285', 'p5s286', 'p5s287', 'p5s288', 'p5s289', 'p5s290', 'p5s291', 'p5s292', 'p5s293', 'p5s294', 'p5s295', 'p5s296', 'p5s297', 'p5s298', 'p5s299', 'p5s300', 'p5s301', 'p5s302', 'p5s303', 'p5s304', 'p5s305', 'p5s306', 'p5s307', 'p5s308', 'p5s309', 'p5s310', 'p5s311', 'p5s312', 'p5s313', 'p5s314', 'p5s315', 'p5s316', 'p5s317', 'p5s318', 'p5s319', 'p5s320', 'p5s321', 'p5s322', 'p5s323', 'p5s324', 'p5s325', 'p5s326', 'p5s327', 'p5s328', 'p5s329', 'p5s330', 'p5s331', 'p5s332', 'p5s333', 'p5s334', 'p5s335', 'p5s336', 'p5s337', 'p5s338', 'p5s339', 'p5s340', 'p5s341', 'p5s342', 'p6s0', 'p6s1', 'p6s2', 'p6s3', 'p6s4', 'p6s5', 'p6s6', 'p6s7', 'p6s8', 'p6s9', 'p6s10', 'p6s11', 'p6s12', 'p6s13', 'p6s14', 'p6s15', 'p6s16', 'p6s17', 'p6s18', 'p6s19', 'p6s20', 'p6s21', 'p6s22', 'p6s23', 'p6s24', 'p6s25', 'p6s26', 'p6s27', 'p6s28', 'p6s29', 'p6s30', 'p6s31', 'p6s32', 'p6s33', 'p6s34', 'p6s35', 'p6s36', 'p6s37', 'p6s38', 'p6s39', 'p6s40', 'p6s41', 'p6s42', 'p6s43', 'p6s44', 'p6s45', 'p6s46', 'p6s47', 'p6s48', 'p6s49', 'p6s50', 'p6s51', 'p6s52', 'p6s53', 'p6s54', 'p6s55', 'p6s56', 'p6s57', 'p6s58', 'p6s59', 'p6s60', 'p6s61', 'p6s62', 'p6s63', 'p6s64', 'p6s65', 'p6s66', 'p6s67', 'p6s68', 'p6s69', 'p6s70', 'p6s71', 'p6s72', 'p6s73', 'p6s74', 'p6s75', 'p6s76', 'p6s77', 'p6s78', 'p6s79', 'p6s80', 'p6s81', 'p6s82', 'p6s83', 'p6s84', 'p6s85', 'p6s86', 'p6s87', 'p6s88', 'p6s89', 'p6s90', 'p6s91', 'p6s92', 'p6s93', 'p6s94', 'p6s95', 'p6s96', 'p6s97', 'p6s98', 'p6s99', 'p6s100', 'p6s101', 'p6s102', 'p6s103', 'p6s104', 'p6s105', 'p6s106', 'p6s107', 'p6s108', 'p6s109', 'p6s110', 'p6s111', 'p6s112', 'p6s113', 'p6s114', 'p6s115', 'p6s116', 'p6s117', 'p6s118', 'p6s119', 'p6s120', 'p6s121', 'p6s122', 'p6s123', 'p6s124', 'p6s125', 'p6s126', 'p6s127', 'p6s128', 'p6s129', 'p6s130', 'p6s131', 'p6s132', 'p6s133', 'p6s134', 'p6s135', 'p6s136', 'p6s137', 'p6s138', 'p6s139', 'p6s140', 'p6s141', 'p6s142', 'p6s143', 'p6s144', 'p6s145', 'p6s146', 'p6s147', 'p6s148', 'p6s149', 'p6s150', 'p6s151', 'p6s152', 'p6s153', 'p6s154', 'p6s155', 'p6s156', 'p6s157', 'p6s158', 'p6s159', 'p6s160', 'p6s161', 'p6s162', 'p6s163', 'p6s164', 'p6s165', 'p6s166', 'p6s167', 'p6s168', 'p6s169', 'p6s170', 'p6s171', 'p6s172', 'p6s173', 'p6s174', 'p6s175', 'p6s176', 'p6s177', 'p6s178', 'p6s179', 'p6s180', 'p6s181', 'p6s182', 'p6s183', 'p6s184', 'p6s185', 'p6s186', 'p6s187', 'p6s188', 'p6s189', 'p6s190', 'p6s191', 'p6s192', 'p6s193', 'p6s194', 'p6s195', 'p6s196', 'p6s197', 'p6s198', 'p6s199', 'p6s200', 'p6s201', 'p6s202', 'p6s203', 'p6s204', 'p6s205', 'p6s206', 'p6s207', 'p6s208', 'p6s209', 'p6s210', 'p6s211', 'p6s212', 'p6s213', 'p6s214', 'p6s215', 'p6s216', 'p6s217', 'p6s218', 'p6s219', 'p6s220', 'p6s221', 'p6s222', 'p6s223', 'p6s224', 'p6s225', 'p6s226', 'p6s227', 'p6s228', 'p6s229', 'p6s230', 'p6s231', 'p6s232', 'p6s233', 'p6s234', 'p6s235', 'p6s236', 'p6s237', 'p6s238', 'p6s239', 'p6s240', 'p6s241', 'p6s242', 'p6s243', 'p6s244', 'p6s245', 'p6s246', 'p6s247', 'p6s248', 'p6s249', 'p6s250', 'p6s251', 'p6s252', 'p6s253', 'p6s254', 'p6s255', 'p6s256', 'p6s257', 'p6s258', 'p6s259', 'p6s260', 'p6s261', 'p6s262', 'p6s263', 'p6s264', 'p6s265', 'p6s266', 'p6s267', 'p6s268', 'p6s269', 'p6s270', 'p6s271', 'p6s272', 'p6s273', 'p6s274', 'p6s275', 'p6s276', 'p6s277', 'p6s278', 'p6s279', 'p6s280', 'p6s281', 'p6s282', 'p6s283', 'p6s284', 'p6s285', 'p6s286', 'p6s287', 'p6s288', 'p6s289', 'p6s290', 'p6s291', 'p6s292', 'p6s293', 'p6s294', 'p6s295', 'p6s296', 'p6s297', 'p6s298', 'p6s299', 'p6s300', 'p6s301', 'p6s302', 'p6s303', 'p6s304', 'p6s305', 'p6s306', 'p6s307', 'p6s308', 'p6s309', 'p6s310', 'p6s311', 'p6s312', 'p6s313', 'p6s314', 'p6s315', 'p6s316', 'p6s317', 'p6s318', 'p6s319', 'p6s320', 'p6s321', 'p6s322', 'p6s323', 'p6s324', 'p6s325', 'p6s326', 'p6s327', 'p6s328', 'p6s329', 'p6s330', 'p6s331', 'p6s332', 'p6s333', 'p6s334', 'p6s335', 'p6s336', 'p6s337', 'p6s338', 'p6s339', 'p6s340', 'p6s341', 'p6s342', 'p7s0', 'p7s1', 'p7s2', 'p7s3', 'p7s4', 'p7s5', 'p7s6', 'p7s7', 'p7s8', 'p7s9', 'p7s10', 'p7s11', 'p7s12', 'p7s13', 'p7s14', 'p7s15', 'p7s16', 'p7s17', 'p7s18', 'p7s19', 'p7s20', 'p7s21', 'p7s22', 'p7s23', 'p7s24', 'p7s25', 'p7s26', 'p7s27', 'p7s28', 'p7s29', 'p7s30', 'p7s31', 'p7s32', 'p7s33', 'p7s34', 'p7s35', 'p7s36', 'p7s37', 'p7s38', 'p7s39', 'p7s40', 'p7s41', 'p7s42', 'p7s43', 'p7s44', 'p7s45', 'p7s46', 'p7s47', 'p7s48', 'p7s49', 'p7s50', 'p7s51', 'p7s52', 'p7s53', 'p7s54', 'p7s55', 'p7s56', 'p7s57', 'p7s58', 'p7s59', 'p7s60', 'p7s61', 'p7s62', 'p7s63', 'p7s64', 'p7s65', 'p7s66', 'p7s67', 'p7s68', 'p7s69', 'p7s70', 'p7s71', 'p7s72', 'p7s73', 'p7s74', 'p7s75', 'p7s76', 'p7s77', 'p7s78', 'p7s79', 'p7s80', 'p7s81', 'p7s82', 'p7s83', 'p7s84', 'p7s85', 'p7s86', 'p7s87', 'p7s88', 'p7s89', 'p7s90', 'p7s91', 'p7s92', 'p7s93', 'p7s94', 'p7s95', 'p7s96', 'p7s97', 'p7s98', 'p7s99', 'p7s100', 'p7s101', 'p7s102', 'p7s103', 'p7s104', 'p7s105', 'p7s106', 'p7s107', 'p7s108', 'p7s109', 'p7s110', 'p7s111', 'p7s112', 'p7s113', 'p7s114', 'p7s115', 'p7s116', 'p7s117', 'p7s118', 'p7s119', 'p7s120', 'p7s121', 'p7s122', 'p7s123', 'p7s124', 'p7s125', 'p7s126', 'p7s127', 'p7s128', 'p7s129', 'p7s130', 'p7s131', 'p7s132', 'p7s133', 'p7s134', 'p7s135', 'p7s136', 'p7s137', 'p7s138', 'p7s139', 'p7s140', 'p7s141', 'p7s142', 'p7s143', 'p7s144', 'p7s145', 'p7s146', 'p7s147', 'p7s148', 'p7s149', 'p7s150', 'p7s151', 'p7s152', 'p7s153', 'p7s154', 'p7s155', 'p7s156', 'p7s157', 'p7s158', 'p7s159', 'p7s160', 'p7s161', 'p7s162', 'p7s163', 'p7s164', 'p7s165', 'p7s166', 'p7s167', 'p7s168', 'p7s169', 'p7s170', 'p7s171', 'p7s172', 'p7s173', 'p7s174', 'p7s175', 'p7s176', 'p7s177', 'p7s178', 'p7s179', 'p7s180', 'p7s181', 'p7s182', 'p7s183', 'p7s184', 'p7s185', 'p7s186', 'p7s187', 'p7s188', 'p7s189', 'p7s190', 'p7s191', 'p7s192', 'p7s193', 'p7s194', 'p7s195', 'p7s196', 'p7s197', 'p7s198', 'p7s199', 'p7s200', 'p7s201', 'p7s202', 'p7s203', 'p7s204', 'p7s205', 'p7s206', 'p7s207', 'p7s208', 'p7s209', 'p7s210', 'p7s211', 'p7s212', 'p7s213', 'p7s214', 'p7s215', 'p7s216', 'p7s217', 'p7s218', 'p7s219', 'p7s220', 'p7s221', 'p7s222', 'p7s223', 'p7s224', 'p7s225', 'p7s226', 'p7s227', 'p7s228', 'p7s229', 'p7s230', 'p7s231', 'p7s232', 'p7s233', 'p7s234', 'p7s235', 'p7s236', 'p7s237', 'p7s238', 'p7s239', 'p7s240', 'p7s241', 'p7s242', 'p7s243', 'p7s244', 'p7s245', 'p7s246', 'p7s247', 'p7s248', 'p7s249', 'p7s250', 'p7s251', 'p7s252', 'p7s253', 'p7s254', 'p7s255', 'p7s256', 'p7s257', 'p7s258', 'p7s259', 'p7s260', 'p7s261', 'p7s262', 'p7s263', 'p7s264', 'p7s265', 'p7s266', 'p7s267', 'p7s268', 'p7s269', 'p7s270', 'p7s271', 'p7s272', 'p7s273', 'p7s274', 'p7s275', 'p7s276', 'p7s277', 'p7s278', 'p7s279', 'p7s280', 'p7s281', 'p7s282', 'p7s283', 'p7s284', 'p7s285', 'p7s286', 'p7s287', 'p7s288', 'p7s289', 'p7s290', 'p7s291', 'p7s292', 'p7s293', 'p7s294', 'p7s295', 'p7s296', 'p7s297', 'p7s298', 'p7s299', 'p7s300', 'p7s301', 'p7s302', 'p7s303', 'p7s304', 'p7s305', 'p7s306', 'p7s307', 'p7s308', 'p7s309', 'p7s310', 'p7s311', 'p7s312', 'p7s313', 'p7s314', 'p7s315', 'p7s316', 'p7s317', 'p7s318', 'p7s319', 'p7s320', 'p7s321', 'p7s322', 'p7s323', 'p7s324', 'p7s325', 'p7s326', 'p7s327', 'p7s328', 'p7s329', 'p7s330', 'p7s331', 'p7s332', 'p7s333', 'p7s334', 'p7s335', 'p7s336', 'p7s337', 'p7s338', 'p7s339', 'p7s340', 'p7s341', 'p7s342', 'p8s0', 'p8s1', 'p8s2', 'p8s3', 'p8s4', 'p8s5', 'p8s6', 'p8s7', 'p8s8', 'p8s9', 'p8s10', 'p8s11', 'p8s12', 'p8s13', 'p8s14', 'p8s15', 'p8s16', 'p8s17', 'p8s18', 'p8s19', 'p8s20', 'p8s21', 'p8s22', 'p8s23', 'p8s24', 'p8s25', 'p8s26', 'p8s27', 'p8s28', 'p8s29', 'p8s30', 'p8s31', 'p8s32', 'p8s33', 'p8s34', 'p8s35', 'p8s36', 'p8s37', 'p8s38', 'p8s39', 'p8s40', 'p8s41', 'p8s42', 'p8s43', 'p8s44', 'p8s45', 'p8s46', 'p8s47', 'p8s48', 'p8s49', 'p8s50', 'p8s51', 'p8s52', 'p8s53', 'p8s54', 'p8s55', 'p8s56', 'p8s57', 'p8s58', 'p8s59', 'p8s60', 'p8s61', 'p8s62', 'p8s63', 'p8s64', 'p8s65', 'p8s66', 'p8s67', 'p8s68', 'p8s69', 'p8s70', 'p8s71', 'p8s72', 'p8s73', 'p8s74', 'p8s75', 'p8s76', 'p8s77', 'p8s78', 'p8s79', 'p8s80', 'p8s81', 'p8s82', 'p8s83', 'p8s84', 'p8s85', 'p8s86', 'p8s87', 'p8s88', 'p8s89', 'p8s90', 'p8s91', 'p8s92', 'p8s93', 'p8s94', 'p8s95', 'p8s96', 'p8s97', 'p8s98', 'p8s99', 'p8s100', 'p8s101', 'p8s102', 'p8s103', 'p8s104', 'p8s105', 'p8s106', 'p8s107', 'p8s108', 'p8s109', 'p8s110', 'p8s111', 'p8s112', 'p8s113', 'p8s114', 'p8s115', 'p8s116', 'p8s117', 'p8s118', 'p8s119', 'p8s120', 'p8s121', 'p8s122', 'p8s123', 'p8s124', 'p8s125', 'p8s126', 'p8s127', 'p8s128', 'p8s129', 'p8s130', 'p8s131', 'p8s132', 'p8s133', 'p8s134', 'p8s135', 'p8s136', 'p8s137', 'p8s138', 'p8s139', 'p8s140', 'p8s141', 'p8s142', 'p8s143', 'p8s144', 'p8s145', 'p8s146', 'p8s147', 'p8s148', 'p8s149', 'p8s150', 'p8s151', 'p8s152', 'p8s153', 'p8s154', 'p8s155', 'p8s156', 'p8s157', 'p8s158', 'p8s159', 'p8s160', 'p8s161', 'p8s162', 'p8s163', 'p8s164', 'p8s165', 'p8s166', 'p8s167', 'p8s168', 'p8s169', 'p8s170', 'p8s171', 'p8s172', 'p8s173', 'p8s174', 'p8s175', 'p8s176', 'p8s177', 'p8s178', 'p8s179', 'p8s180', 'p8s181', 'p8s182', 'p8s183', 'p8s184', 'p8s185', 'p8s186', 'p8s187', 'p8s188', 'p8s189', 'p8s190', 'p8s191', 'p8s192', 'p8s193', 'p8s194', 'p8s195', 'p8s196', 'p8s197', 'p8s198', 'p8s199', 'p8s200', 'p8s201', 'p8s202', 'p8s203', 'p8s204', 'p8s205', 'p8s206', 'p8s207', 'p8s208', 'p8s209', 'p8s210', 'p8s211', 'p8s212', 'p8s213', 'p8s214', 'p8s215', 'p8s216', 'p8s217', 'p8s218', 'p8s219', 'p8s220', 'p8s221', 'p8s222', 'p8s223', 'p8s224', 'p8s225', 'p8s226', 'p8s227', 'p8s228', 'p8s229', 'p8s230', 'p8s231', 'p8s232', 'p8s233', 'p8s234', 'p8s235', 'p8s236', 'p8s237', 'p8s238', 'p8s239', 'p8s240', 'p8s241', 'p8s242', 'p8s243', 'p8s244', 'p8s245', 'p8s246', 'p8s247', 'p8s248', 'p8s249', 'p8s250', 'p8s251', 'p8s252', 'p8s253', 'p8s254', 'p8s255', 'p8s256', 'p8s257', 'p8s258', 'p8s259', 'p8s260', 'p8s261', 'p8s262', 'p8s263', 'p8s264', 'p8s265', 'p8s266', 'p8s267', 'p8s268', 'p8s269', 'p8s270', 'p8s271', 'p8s272', 'p8s273', 'p8s274', 'p8s275', 'p8s276', 'p8s277', 'p8s278', 'p8s279', 'p8s280', 'p8s281', 'p8s282', 'p8s283', 'p8s284', 'p8s285', 'p8s286', 'p8s287', 'p8s288', 'p8s289', 'p8s290', 'p8s291', 'p8s292', 'p8s293', 'p8s294', 'p8s295', 'p8s296', 'p8s297', 'p8s298', 'p8s299', 'p8s300', 'p8s301', 'p8s302', 'p8s303', 'p8s304', 'p8s305', 'p8s306', 'p8s307', 'p8s308', 'p8s309', 'p8s310', 'p8s311', 'p8s312', 'p8s313', 'p8s314', 'p8s315', 'p8s316', 'p8s317', 'p8s318', 'p8s319', 'p8s320', 'p8s321', 'p8s322', 'p8s323', 'p8s324', 'p8s325', 'p8s326', 'p8s327', 'p8s328', 'p8s329', 'p8s330', 'p8s331', 'p8s332', 'p8s333', 'p8s334', 'p8s335', 'p8s336', 'p8s337', 'p8s338', 'p8s339', 'p8s340', 'p8s341', 'p8s342', 'p9s0', 'p9s1', 'p9s2', 'p9s3', 'p9s4', 'p9s5', 'p9s6', 'p9s7', 'p9s8', 'p9s9', 'p9s10', 'p9s11', 'p9s12', 'p9s13', 'p9s14', 'p9s15', 'p9s16', 'p9s17', 'p9s18', 'p9s19', 'p9s20', 'p9s21', 'p9s22', 'p9s23', 'p9s24', 'p9s25', 'p9s26', 'p9s27', 'p9s28', 'p9s29', 'p9s30', 'p9s31', 'p9s32', 'p9s33', 'p9s34', 'p9s35', 'p9s36', 'p9s37', 'p9s38', 'p9s39', 'p9s40', 'p9s41', 'p9s42', 'p9s43', 'p9s44', 'p9s45', 'p9s46', 'p9s47', 'p9s48', 'p9s49', 'p9s50', 'p9s51', 'p9s52', 'p9s53', 'p9s54', 'p9s55', 'p9s56', 'p9s57', 'p9s58', 'p9s59', 'p9s60', 'p9s61', 'p9s62', 'p9s63', 'p9s64', 'p9s65', 'p9s66', 'p9s67', 'p9s68', 'p9s69', 'p9s70', 'p9s71', 'p9s72', 'p9s73', 'p9s74', 'p9s75', 'p9s76', 'p9s77', 'p9s78', 'p9s79', 'p9s80', 'p9s81', 'p9s82', 'p9s83', 'p9s84', 'p9s85', 'p9s86', 'p9s87', 'p9s88', 'p9s89', 'p9s90', 'p9s91', 'p9s92', 'p9s93', 'p9s94', 'p9s95', 'p9s96', 'p9s97', 'p9s98', 'p9s99', 'p9s100', 'p9s101', 'p9s102', 'p9s103', 'p9s104', 'p9s105', 'p9s106', 'p9s107', 'p9s108', 'p9s109', 'p9s110', 'p9s111', 'p9s112', 'p9s113', 'p9s114', 'p9s115', 'p9s116', 'p9s117', 'p9s118', 'p9s119', 'p9s120', 'p9s121', 'p9s122', 'p9s123', 'p9s124', 'p9s125', 'p9s126', 'p9s127', 'p9s128', 'p9s129', 'p9s130', 'p9s131', 'p9s132', 'p9s133', 'p9s134', 'p9s135', 'p9s136', 'p9s137', 'p9s138', 'p9s139', 'p9s140', 'p9s141', 'p9s142', 'p9s143', 'p9s144', 'p9s145', 'p9s146', 'p9s147', 'p9s148', 'p9s149', 'p9s150', 'p9s151', 'p9s152', 'p9s153', 'p9s154', 'p9s155', 'p9s156', 'p9s157', 'p9s158', 'p9s159', 'p9s160', 'p9s161', 'p9s162', 'p9s163', 'p9s164', 'p9s165', 'p9s166', 'p9s167', 'p9s168', 'p9s169', 'p9s170', 'p9s171', 'p9s172', 'p9s173', 'p9s174', 'p9s175', 'p9s176', 'p9s177', 'p9s178', 'p9s179', 'p9s180', 'p9s181', 'p9s182', 'p9s183', 'p9s184', 'p9s185', 'p9s186', 'p9s187', 'p9s188', 'p9s189', 'p9s190', 'p9s191', 'p9s192', 'p9s193', 'p9s194', 'p9s195', 'p9s196', 'p9s197', 'p9s198', 'p9s199', 'p9s200', 'p9s201', 'p9s202', 'p9s203', 'p9s204', 'p9s205', 'p9s206', 'p9s207', 'p9s208', 'p9s209', 'p9s210', 'p9s211', 'p9s212', 'p9s213', 'p9s214', 'p9s215', 'p9s216', 'p9s217', 'p9s218', 'p9s219', 'p9s220', 'p9s221', 'p9s222', 'p9s223', 'p9s224', 'p9s225', 'p9s226', 'p9s227', 'p9s228', 'p9s229', 'p9s230', 'p9s231', 'p9s232', 'p9s233', 'p9s234', 'p9s235', 'p9s236', 'p9s237', 'p9s238', 'p9s239', 'p9s240', 'p9s241', 'p9s242', 'p9s243', 'p9s244', 'p9s245', 'p9s246', 'p9s247', 'p9s248', 'p9s249', 'p9s250', 'p9s251', 'p9s252', 'p9s253', 'p9s254', 'p9s255', 'p9s256', 'p9s257', 'p9s258', 'p9s259', 'p9s260', 'p9s261', 'p9s262', 'p9s263', 'p9s264', 'p9s265', 'p9s266', 'p9s267', 'p9s268', 'p9s269', 'p9s270', 'p9s271', 'p9s272', 'p9s273', 'p9s274', 'p9s275', 'p9s276', 'p9s277', 'p9s278', 'p9s279', 'p9s280', 'p9s281', 'p9s282', 'p9s283', 'p9s284', 'p9s285', 'p9s286', 'p9s287', 'p9s288', 'p9s289', 'p9s290', 'p9s291', 'p9s292', 'p9s293', 'p9s294', 'p9s295', 'p9s296', 'p9s297', 'p9s298', 'p9s299', 'p9s300', 'p9s301', 'p9s302', 'p9s303', 'p9s304', 'p9s305', 'p9s306', 'p9s307', 'p9s308', 'p9s309', 'p9s310', 'p9s311', 'p9s312', 'p9s313', 'p9s314', 'p9s315', 'p9s316', 'p9s317', 'p9s318', 'p9s319', 'p9s320', 'p9s321', 'p9s322', 'p9s323', 'p9s324', 'p9s325', 'p9s326', 'p9s327', 'p9s328', 'p9s329', 'p9s330', 'p9s331', 'p9s332', 'p9s333', 'p9s334', 'p9s335', 'p9s336', 'p9s337', 'p9s338', 'p9s339', 'p9s340', 'p9s341', 'p9s342', 'p10s0', 'p10s1', 'p10s2', 'p10s3', 'p10s4', 'p10s5', 'p10s6', 'p10s7', 'p10s8', 'p10s9', 'p10s10', 'p10s11', 'p10s12', 'p10s13', 'p10s14', 'p10s15', 'p10s16', 'p10s17', 'p10s18', 'p10s19', 'p10s20', 'p10s21', 'p10s22', 'p10s23', 'p10s24', 'p10s25', 'p10s26', 'p10s27', 'p10s28', 'p10s29', 'p10s30', 'p10s31', 'p10s32', 'p10s33', 'p10s34', 'p10s35', 'p10s36', 'p10s37', 'p10s38', 'p10s39', 'p10s40', 'p10s41', 'p10s42', 'p10s43', 'p10s44', 'p10s45', 'p10s46', 'p10s47', 'p10s48', 'p10s49', 'p10s50', 'p10s51', 'p10s52', 'p10s53', 'p10s54', 'p10s55', 'p10s56', 'p10s57', 'p10s58', 'p10s59', 'p10s60', 'p10s61', 'p10s62', 'p10s63', 'p10s64', 'p10s65', 'p10s66', 'p10s67', 'p10s68', 'p10s69', 'p10s70', 'p10s71', 'p10s72', 'p10s73', 'p10s74', 'p10s75', 'p10s76', 'p10s77', 'p10s78', 'p10s79', 'p10s80', 'p10s81', 'p10s82', 'p10s83', 'p10s84', 'p10s85', 'p10s86', 'p10s87', 'p10s88', 'p10s89', 'p10s90', 'p10s91', 'p10s92', 'p10s93', 'p10s94', 'p10s95', 'p10s96', 'p10s97', 'p10s98', 'p10s99', 'p10s100', 'p10s101', 'p10s102', 'p10s103', 'p10s104', 'p10s105', 'p10s106', 'p10s107', 'p10s108', 'p10s109', 'p10s110', 'p10s111', 'p10s112', 'p10s113', 'p10s114', 'p10s115', 'p10s116', 'p10s117', 'p10s118', 'p10s119', 'p10s120', 'p10s121', 'p10s122', 'p10s123', 'p10s124', 'p10s125', 'p10s126', 'p10s127', 'p10s128', 'p10s129', 'p10s130', 'p10s131', 'p10s132', 'p10s133', 'p10s134', 'p10s135', 'p10s136', 'p10s137', 'p10s138', 'p10s139', 'p10s140', 'p10s141', 'p10s142', 'p10s143', 'p10s144', 'p10s145', 'p10s146', 'p10s147', 'p10s148', 'p10s149', 'p10s150', 'p10s151', 'p10s152', 'p10s153', 'p10s154', 'p10s155', 'p10s156', 'p10s157', 'p10s158', 'p10s159', 'p10s160', 'p10s161', 'p10s162', 'p10s163', 'p10s164', 'p10s165', 'p10s166', 'p10s167', 'p10s168', 'p10s169', 'p10s170', 'p10s171', 'p10s172', 'p10s173', 'p10s174', 'p10s175', 'p10s176', 'p10s177', 'p10s178', 'p10s179', 'p10s180', 'p10s181', 'p10s182', 'p10s183', 'p10s184', 'p10s185', 'p10s186', 'p10s187', 'p10s188', 'p10s189', 'p10s190', 'p10s191', 'p10s192', 'p10s193', 'p10s194', 'p10s195', 'p10s196', 'p10s197', 'p10s198', 'p10s199', 'p10s200', 'p10s201', 'p10s202', 'p10s203', 'p10s204', 'p10s205', 'p10s206', 'p10s207', 'p10s208', 'p10s209', 'p10s210', 'p10s211', 'p10s212', 'p10s213', 'p10s214', 'p10s215', 'p10s216', 'p10s217', 'p10s218', 'p10s219', 'p10s220', 'p10s221', 'p10s222', 'p10s223', 'p10s224', 'p10s225', 'p10s226', 'p10s227', 'p10s228', 'p10s229', 'p10s230', 'p10s231', 'p10s232', 'p10s233', 'p10s234', 'p10s235', 'p10s236', 'p10s237', 'p10s238', 'p10s239', 'p10s240', 'p10s241', 'p10s242', 'p10s243', 'p10s244', 'p10s245', 'p10s246', 'p10s247', 'p10s248', 'p10s249', 'p10s250', 'p10s251', 'p10s252', 'p10s253', 'p10s254', 'p10s255', 'p10s256', 'p10s257', 'p10s258', 'p10s259', 'p10s260', 'p10s261', 'p10s262', 'p10s263', 'p10s264', 'p10s265', 'p10s266', 'p10s267', 'p10s268', 'p10s269', 'p10s270', 'p10s271', 'p10s272', 'p10s273', 'p10s274', 'p10s275', 'p10s276', 'p10s277', 'p10s278', 'p10s279', 'p10s280', 'p10s281', 'p10s282', 'p10s283', 'p10s284', 'p10s285', 'p10s286', 'p10s287', 'p10s288', 'p10s289', 'p10s290', 'p10s291', 'p10s292', 'p10s293', 'p10s294', 'p10s295', 'p10s296', 'p10s297', 'p10s298', 'p10s299', 'p10s300', 'p10s301', 'p10s302', 'p10s303', 'p10s304', 'p10s305', 'p10s306', 'p10s307', 'p10s308', 'p10s309', 'p10s310', 'p10s311', 'p10s312', 'p10s313', 'p10s314', 'p10s315', 'p10s316', 'p10s317', 'p10s318', 'p10s319', 'p10s320', 'p10s321', 'p10s322', 'p10s323', 'p10s324', 'p10s325', 'p10s326', 'p10s327', 'p10s328', 'p10s329', 'p10s330', 'p10s331', 'p10s332', 'p10s333', 'p10s334', 'p10s335', 'p10s336', 'p10s337', 'p10s338', 'p10s339', 'p10s340', 'p10s341', 'p10s342', 'p11s0', 'p11s1', 'p11s2', 'p11s3', 'p11s4', 'p11s5', 'p11s6', 'p11s7', 'p11s8', 'p11s9', 'p11s10', 'p11s11', 'p11s12', 'p11s13', 'p11s14', 'p11s15', 'p11s16', 'p11s17', 'p11s18', 'p11s19', 'p11s20', 'p11s21', 'p11s22', 'p11s23', 'p11s24', 'p11s25', 'p11s26', 'p11s27', 'p11s28', 'p11s29', 'p11s30', 'p11s31', 'p11s32', 'p11s33', 'p11s34', 'p11s35', 'p11s36', 'p11s37', 'p11s38', 'p11s39', 'p11s40', 'p11s41', 'p11s42', 'p11s43', 'p11s44', 'p11s45', 'p11s46', 'p11s47', 'p11s48', 'p11s49', 'p11s50', 'p11s51', 'p11s52', 'p11s53', 'p11s54', 'p11s55', 'p11s56', 'p11s57', 'p11s58', 'p11s59', 'p11s60', 'p11s61', 'p11s62', 'p11s63', 'p11s64', 'p11s65', 'p11s66', 'p11s67', 'p11s68', 'p11s69', 'p11s70', 'p11s71', 'p11s72', 'p11s73', 'p11s74', 'p11s75', 'p11s76', 'p11s77', 'p11s78', 'p11s79', 'p11s80', 'p11s81', 'p11s82', 'p11s83', 'p11s84', 'p11s85', 'p11s86', 'p11s87', 'p11s88', 'p11s89', 'p11s90', 'p11s91', 'p11s92', 'p11s93', 'p11s94', 'p11s95', 'p11s96', 'p11s97', 'p11s98', 'p11s99', 'p11s100', 'p11s101', 'p11s102', 'p11s103', 'p11s104', 'p11s105', 'p11s106', 'p11s107', 'p11s108', 'p11s109', 'p11s110', 'p11s111', 'p11s112', 'p11s113', 'p11s114', 'p11s115', 'p11s116', 'p11s117', 'p11s118', 'p11s119', 'p11s120', 'p11s121', 'p11s122', 'p11s123', 'p11s124', 'p11s125', 'p11s126', 'p11s127', 'p11s128', 'p11s129', 'p11s130', 'p11s131', 'p11s132', 'p11s133', 'p11s134', 'p11s135', 'p11s136', 'p11s137', 'p11s138', 'p11s139', 'p11s140', 'p11s141', 'p11s142', 'p11s143', 'p11s144', 'p11s145', 'p11s146', 'p11s147', 'p11s148', 'p11s149', 'p11s150', 'p11s151', 'p11s152', 'p11s153', 'p11s154', 'p11s155', 'p11s156', 'p11s157', 'p11s158', 'p11s159', 'p11s160', 'p11s161', 'p11s162', 'p11s163', 'p11s164', 'p11s165', 'p11s166', 'p11s167', 'p11s168', 'p11s169', 'p11s170', 'p11s171', 'p11s172', 'p11s173', 'p11s174', 'p11s175', 'p11s176', 'p11s177', 'p11s178', 'p11s179', 'p11s180', 'p11s181', 'p11s182', 'p11s183', 'p11s184', 'p11s185', 'p11s186', 'p11s187', 'p11s188', 'p11s189', 'p11s190', 'p11s191', 'p11s192', 'p11s193', 'p11s194', 'p11s195', 'p11s196', 'p11s197', 'p11s198', 'p11s199', 'p11s200', 'p11s201', 'p11s202', 'p11s203', 'p11s204', 'p11s205', 'p11s206', 'p11s207', 'p11s208', 'p11s209', 'p11s210', 'p11s211', 'p11s212', 'p11s213', 'p11s214', 'p11s215', 'p11s216', 'p11s217', 'p11s218', 'p11s219', 'p11s220', 'p11s221', 'p11s222', 'p11s223', 'p11s224', 'p11s225', 'p11s226', 'p11s227', 'p11s228', 'p11s229', 'p11s230', 'p11s231', 'p11s232', 'p11s233', 'p11s234', 'p11s235', 'p11s236', 'p11s237', 'p11s238', 'p11s239', 'p11s240', 'p11s241', 'p11s242', 'p11s243', 'p11s244', 'p11s245', 'p11s246', 'p11s247', 'p11s248', 'p11s249', 'p11s250', 'p11s251', 'p11s252', 'p11s253', 'p11s254', 'p11s255', 'p11s256', 'p11s257', 'p11s258', 'p11s259', 'p11s260', 'p11s261', 'p11s262', 'p11s263', 'p11s264', 'p11s265', 'p11s266', 'p11s267', 'p11s268', 'p11s269', 'p11s270', 'p11s271', 'p11s272', 'p11s273', 'p11s274', 'p11s275', 'p11s276', 'p11s277', 'p11s278', 'p11s279', 'p11s280', 'p11s281', 'p11s282', 'p11s283', 'p11s284', 'p11s285', 'p11s286', 'p11s287', 'p11s288', 'p11s289', 'p11s290', 'p11s291', 'p11s292', 'p11s293', 'p11s294', 'p11s295', 'p11s296', 'p11s297', 'p11s298', 'p11s299', 'p11s300', 'p11s301', 'p11s302', 'p11s303', 'p11s304', 'p11s305', 'p11s306', 'p11s307', 'p11s308', 'p11s309', 'p11s310', 'p11s311', 'p11s312', 'p11s313', 'p11s314', 'p11s315', 'p11s316', 'p11s317', 'p11s318', 'p11s319', 'p11s320', 'p11s321', 'p11s322', 'p11s323', 'p11s324', 'p11s325', 'p11s326', 'p11s327', 'p11s328', 'p11s329', 'p11s330', 'p11s331', 'p11s332', 'p11s333', 'p11s334', 'p11s335', 'p11s336', 'p11s337', 'p11s338', 'p11s339', 'p11s340', 'p11s341', 'p11s342', 'p12s0', 'p12s1', 'p12s2', 'p12s3', 'p12s4', 'p12s5', 'p12s6', 'p12s7', 'p12s8', 'p12s9', 'p12s10', 'p12s11', 'p12s12', 'p12s13', 'p12s14', 'p12s15', 'p12s16', 'p12s17', 'p12s18', 'p12s19', 'p12s20', 'p12s21', 'p12s22', 'p12s23', 'p12s24', 'p12s25', 'p12s26', 'p12s27', 'p12s28', 'p12s29', 'p12s30', 'p12s31', 'p12s32', 'p12s33', 'p12s34', 'p12s35', 'p12s36', 'p12s37', 'p12s38', 'p12s39', 'p12s40', 'p12s41', 'p12s42', 'p12s43', 'p12s44', 'p12s45', 'p12s46', 'p12s47', 'p12s48', 'p12s49', 'p12s50', 'p12s51', 'p12s52', 'p12s53', 'p12s54', 'p12s55', 'p12s56', 'p12s57', 'p12s58', 'p12s59', 'p12s60', 'p12s61', 'p12s62', 'p12s63', 'p12s64', 'p12s65', 'p12s66', 'p12s67', 'p12s68', 'p12s69', 'p12s70', 'p12s71', 'p12s72', 'p12s73', 'p12s74', 'p12s75', 'p12s76', 'p12s77', 'p12s78', 'p12s79', 'p12s80', 'p12s81', 'p12s82', 'p12s83', 'p12s84', 'p12s85', 'p12s86', 'p12s87', 'p12s88', 'p12s89', 'p12s90', 'p12s91', 'p12s92', 'p12s93', 'p12s94', 'p12s95', 'p12s96', 'p12s97', 'p12s98', 'p12s99', 'p12s100', 'p12s101', 'p12s102', 'p12s103', 'p12s104', 'p12s105', 'p12s106', 'p12s107', 'p12s108', 'p12s109', 'p12s110', 'p12s111', 'p12s112', 'p12s113', 'p12s114', 'p12s115', 'p12s116', 'p12s117', 'p12s118', 'p12s119', 'p12s120', 'p12s121', 'p12s122', 'p12s123', 'p12s124', 'p12s125', 'p12s126', 'p12s127', 'p12s128', 'p12s129', 'p12s130', 'p12s131', 'p12s132', 'p12s133', 'p12s134', 'p12s135', 'p12s136', 'p12s137', 'p12s138', 'p12s139', 'p12s140', 'p12s141', 'p12s142', 'p12s143', 'p12s144', 'p12s145', 'p12s146', 'p12s147', 'p12s148', 'p12s149', 'p12s150', 'p12s151', 'p12s152', 'p12s153', 'p12s154', 'p12s155', 'p12s156', 'p12s157', 'p12s158', 'p12s159', 'p12s160', 'p12s161', 'p12s162', 'p12s163', 'p12s164', 'p12s165', 'p12s166', 'p12s167', 'p12s168', 'p12s169', 'p12s170', 'p12s171', 'p12s172', 'p12s173', 'p12s174', 'p12s175', 'p12s176', 'p12s177', 'p12s178', 'p12s179', 'p12s180', 'p12s181', 'p12s182', 'p12s183', 'p12s184', 'p12s185', 'p12s186', 'p12s187', 'p12s188', 'p12s189', 'p12s190', 'p12s191', 'p12s192', 'p12s193', 'p12s194', 'p12s195', 'p12s196', 'p12s197', 'p12s198', 'p12s199', 'p12s200', 'p12s201', 'p12s202', 'p12s203', 'p12s204', 'p12s205', 'p12s206', 'p12s207', 'p12s208', 'p12s209', 'p12s210', 'p12s211', 'p12s212', 'p12s213', 'p12s214', 'p12s215', 'p12s216', 'p12s217', 'p12s218', 'p12s219', 'p12s220', 'p12s221', 'p12s222', 'p12s223', 'p12s224', 'p12s225', 'p12s226', 'p12s227', 'p12s228', 'p12s229', 'p12s230', 'p12s231', 'p12s232', 'p12s233', 'p12s234', 'p12s235', 'p12s236', 'p12s237', 'p12s238', 'p12s239', 'p12s240', 'p12s241', 'p12s242', 'p12s243', 'p12s244', 'p12s245', 'p12s246', 'p12s247', 'p12s248', 'p12s249', 'p12s250', 'p12s251', 'p12s252', 'p12s253', 'p12s254', 'p12s255', 'p12s256', 'p12s257', 'p12s258', 'p12s259', 'p12s260', 'p12s261', 'p12s262', 'p12s263', 'p12s264', 'p12s265', 'p12s266', 'p12s267', 'p12s268', 'p12s269', 'p12s270', 'p12s271', 'p12s272', 'p12s273', 'p12s274', 'p12s275', 'p12s276', 'p12s277', 'p12s278', 'p12s279', 'p12s280', 'p12s281', 'p12s282', 'p12s283', 'p12s284', 'p12s285', 'p12s286', 'p12s287', 'p12s288', 'p12s289', 'p12s290', 'p12s291', 'p12s292', 'p12s293', 'p12s294', 'p12s295', 'p12s296', 'p12s297', 'p12s298', 'p12s299', 'p12s300', 'p12s301', 'p12s302', 'p12s303', 'p12s304', 'p12s305', 'p12s306', 'p12s307', 'p12s308', 'p12s309', 'p12s310', 'p12s311', 'p12s312', 'p12s313', 'p12s314', 'p12s315', 'p12s316', 'p12s317', 'p12s318', 'p12s319', 'p12s320', 'p12s321', 'p12s322', 'p12s323', 'p12s324', 'p12s325', 'p12s326', 'p12s327', 'p12s328', 'p12s329', 'p12s330', 'p12s331', 'p12s332', 'p12s333', 'p12s334', 'p12s335', 'p12s336', 'p12s337', 'p12s338', 'p12s339', 'p12s340', 'p12s341', 'p12s342'])"
      ]
     },
     "execution_count": 212,
     "metadata": {},
     "output_type": "execute_result"
    }
   ],
   "source": [
    "ps.keys()"
   ]
  },
  {
   "cell_type": "code",
   "execution_count": 198,
   "metadata": {
    "scrolled": true
   },
   "outputs": [],
   "source": [
    "#p1s211 = df[(df['sklep']=='s211') & (df['produkt']=='p1')]\n",
    "p1s211 = df[df['produkt']=='p1']\n"
   ]
  },
  {
   "cell_type": "code",
   "execution_count": 134,
   "metadata": {},
   "outputs": [
    {
     "data": {
      "text/html": [
       "<div>\n",
       "<style scoped>\n",
       "    .dataframe tbody tr th:only-of-type {\n",
       "        vertical-align: middle;\n",
       "    }\n",
       "\n",
       "    .dataframe tbody tr th {\n",
       "        vertical-align: top;\n",
       "    }\n",
       "\n",
       "    .dataframe thead th {\n",
       "        text-align: right;\n",
       "    }\n",
       "</style>\n",
       "<table border=\"1\" class=\"dataframe\">\n",
       "  <thead>\n",
       "    <tr style=\"text-align: right;\">\n",
       "      <th></th>\n",
       "      <th>sprzedaz</th>\n",
       "      <th>produkt</th>\n",
       "      <th>sklep</th>\n",
       "      <th>tydzien</th>\n",
       "      <th>nr_tyg</th>\n",
       "      <th>cena</th>\n",
       "      <th>typ1</th>\n",
       "      <th>typ2</th>\n",
       "      <th>typ3</th>\n",
       "      <th>typ4</th>\n",
       "      <th>typ5</th>\n",
       "      <th>typ6</th>\n",
       "      <th>typ7</th>\n",
       "      <th>typ8</th>\n",
       "      <th>typ9</th>\n",
       "    </tr>\n",
       "  </thead>\n",
       "  <tbody>\n",
       "    <tr>\n",
       "      <th>15703</th>\n",
       "      <td>99.0</td>\n",
       "      <td>p1</td>\n",
       "      <td>s3</td>\n",
       "      <td>2017-08-17</td>\n",
       "      <td>33</td>\n",
       "      <td>3.175455</td>\n",
       "      <td>1.0</td>\n",
       "      <td>0.0</td>\n",
       "      <td>0.0</td>\n",
       "      <td>0.0</td>\n",
       "      <td>0.0</td>\n",
       "      <td>0.0</td>\n",
       "      <td>0.0</td>\n",
       "      <td>0.0</td>\n",
       "      <td>0.0</td>\n",
       "    </tr>\n",
       "    <tr>\n",
       "      <th>9775</th>\n",
       "      <td>242.0</td>\n",
       "      <td>p1</td>\n",
       "      <td>s34</td>\n",
       "      <td>2017-08-17</td>\n",
       "      <td>33</td>\n",
       "      <td>3.180744</td>\n",
       "      <td>1.0</td>\n",
       "      <td>0.0</td>\n",
       "      <td>0.0</td>\n",
       "      <td>0.0</td>\n",
       "      <td>0.0</td>\n",
       "      <td>0.0</td>\n",
       "      <td>0.0</td>\n",
       "      <td>0.0</td>\n",
       "      <td>0.0</td>\n",
       "    </tr>\n",
       "    <tr>\n",
       "      <th>5511</th>\n",
       "      <td>602.0</td>\n",
       "      <td>p1</td>\n",
       "      <td>s84</td>\n",
       "      <td>2017-08-17</td>\n",
       "      <td>33</td>\n",
       "      <td>3.163555</td>\n",
       "      <td>1.0</td>\n",
       "      <td>0.0</td>\n",
       "      <td>0.0</td>\n",
       "      <td>0.0</td>\n",
       "      <td>0.0</td>\n",
       "      <td>0.0</td>\n",
       "      <td>0.0</td>\n",
       "      <td>0.0</td>\n",
       "      <td>0.0</td>\n",
       "    </tr>\n",
       "    <tr>\n",
       "      <th>15807</th>\n",
       "      <td>202.0</td>\n",
       "      <td>p1</td>\n",
       "      <td>s252</td>\n",
       "      <td>2017-08-17</td>\n",
       "      <td>33</td>\n",
       "      <td>3.169406</td>\n",
       "      <td>0.0</td>\n",
       "      <td>0.0</td>\n",
       "      <td>0.0</td>\n",
       "      <td>0.0</td>\n",
       "      <td>0.0</td>\n",
       "      <td>0.0</td>\n",
       "      <td>0.0</td>\n",
       "      <td>0.0</td>\n",
       "      <td>0.0</td>\n",
       "    </tr>\n",
       "    <tr>\n",
       "      <th>3015</th>\n",
       "      <td>435.0</td>\n",
       "      <td>p1</td>\n",
       "      <td>s307</td>\n",
       "      <td>2017-08-17</td>\n",
       "      <td>33</td>\n",
       "      <td>3.093448</td>\n",
       "      <td>0.0</td>\n",
       "      <td>0.0</td>\n",
       "      <td>0.0</td>\n",
       "      <td>0.0</td>\n",
       "      <td>0.0</td>\n",
       "      <td>0.0</td>\n",
       "      <td>0.0</td>\n",
       "      <td>0.0</td>\n",
       "      <td>0.0</td>\n",
       "    </tr>\n",
       "  </tbody>\n",
       "</table>\n",
       "</div>"
      ],
      "text/plain": [
       "       sprzedaz produkt sklep    tydzien  nr_tyg      cena  typ1  typ2  typ3  \\\n",
       "15703      99.0      p1    s3 2017-08-17      33  3.175455   1.0   0.0   0.0   \n",
       "9775      242.0      p1   s34 2017-08-17      33  3.180744   1.0   0.0   0.0   \n",
       "5511      602.0      p1   s84 2017-08-17      33  3.163555   1.0   0.0   0.0   \n",
       "15807     202.0      p1  s252 2017-08-17      33  3.169406   0.0   0.0   0.0   \n",
       "3015      435.0      p1  s307 2017-08-17      33  3.093448   0.0   0.0   0.0   \n",
       "\n",
       "       typ4  typ5  typ6  typ7  typ8  typ9  \n",
       "15703   0.0   0.0   0.0   0.0   0.0   0.0  \n",
       "9775    0.0   0.0   0.0   0.0   0.0   0.0  \n",
       "5511    0.0   0.0   0.0   0.0   0.0   0.0  \n",
       "15807   0.0   0.0   0.0   0.0   0.0   0.0  \n",
       "3015    0.0   0.0   0.0   0.0   0.0   0.0  "
      ]
     },
     "execution_count": 134,
     "metadata": {},
     "output_type": "execute_result"
    }
   ],
   "source": [
    "p1s211.head()"
   ]
  },
  {
   "cell_type": "code",
   "execution_count": 172,
   "metadata": {
    "scrolled": true
   },
   "outputs": [
    {
     "name": "stderr",
     "output_type": "stream",
     "text": [
      "C:\\Users\\Mikolaj\\Anaconda3\\lib\\site-packages\\ipykernel_launcher.py:4: SettingWithCopyWarning: \n",
      "A value is trying to be set on a copy of a slice from a DataFrame.\n",
      "Try using .loc[row_indexer,col_indexer] = value instead\n",
      "\n",
      "See the caveats in the documentation: http://pandas.pydata.org/pandas-docs/stable/indexing.html#indexing-view-versus-copy\n",
      "  after removing the cwd from sys.path.\n"
     ]
    },
    {
     "data": {
      "text/html": [
       "<div>\n",
       "<style scoped>\n",
       "    .dataframe tbody tr th:only-of-type {\n",
       "        vertical-align: middle;\n",
       "    }\n",
       "\n",
       "    .dataframe tbody tr th {\n",
       "        vertical-align: top;\n",
       "    }\n",
       "\n",
       "    .dataframe thead th {\n",
       "        text-align: right;\n",
       "    }\n",
       "</style>\n",
       "<table border=\"1\" class=\"dataframe\">\n",
       "  <thead>\n",
       "    <tr style=\"text-align: right;\">\n",
       "      <th></th>\n",
       "      <th>sprzedaz</th>\n",
       "      <th>produkt</th>\n",
       "      <th>sklep</th>\n",
       "      <th>tydzien</th>\n",
       "      <th>nr_tyg</th>\n",
       "      <th>cena</th>\n",
       "      <th>typ1</th>\n",
       "      <th>typ2</th>\n",
       "      <th>typ3</th>\n",
       "      <th>typ4</th>\n",
       "      <th>typ5</th>\n",
       "      <th>typ6</th>\n",
       "      <th>typ7</th>\n",
       "      <th>typ8</th>\n",
       "      <th>typ9</th>\n",
       "    </tr>\n",
       "  </thead>\n",
       "  <tbody>\n",
       "    <tr>\n",
       "      <th>15703</th>\n",
       "      <td>99.0</td>\n",
       "      <td>p1</td>\n",
       "      <td>222</td>\n",
       "      <td>2017-08-17</td>\n",
       "      <td>33</td>\n",
       "      <td>3.175455</td>\n",
       "      <td>1.0</td>\n",
       "      <td>0.0</td>\n",
       "      <td>0.0</td>\n",
       "      <td>0.0</td>\n",
       "      <td>0.0</td>\n",
       "      <td>0.0</td>\n",
       "      <td>0.0</td>\n",
       "      <td>0.0</td>\n",
       "      <td>0.0</td>\n",
       "    </tr>\n",
       "    <tr>\n",
       "      <th>9775</th>\n",
       "      <td>242.0</td>\n",
       "      <td>p1</td>\n",
       "      <td>267</td>\n",
       "      <td>2017-08-17</td>\n",
       "      <td>33</td>\n",
       "      <td>3.180744</td>\n",
       "      <td>1.0</td>\n",
       "      <td>0.0</td>\n",
       "      <td>0.0</td>\n",
       "      <td>0.0</td>\n",
       "      <td>0.0</td>\n",
       "      <td>0.0</td>\n",
       "      <td>0.0</td>\n",
       "      <td>0.0</td>\n",
       "      <td>0.0</td>\n",
       "    </tr>\n",
       "    <tr>\n",
       "      <th>5511</th>\n",
       "      <td>602.0</td>\n",
       "      <td>p1</td>\n",
       "      <td>326</td>\n",
       "      <td>2017-08-17</td>\n",
       "      <td>33</td>\n",
       "      <td>3.163555</td>\n",
       "      <td>1.0</td>\n",
       "      <td>0.0</td>\n",
       "      <td>0.0</td>\n",
       "      <td>0.0</td>\n",
       "      <td>0.0</td>\n",
       "      <td>0.0</td>\n",
       "      <td>0.0</td>\n",
       "      <td>0.0</td>\n",
       "      <td>0.0</td>\n",
       "    </tr>\n",
       "    <tr>\n",
       "      <th>15807</th>\n",
       "      <td>202.0</td>\n",
       "      <td>p1</td>\n",
       "      <td>170</td>\n",
       "      <td>2017-08-17</td>\n",
       "      <td>33</td>\n",
       "      <td>3.169406</td>\n",
       "      <td>0.0</td>\n",
       "      <td>0.0</td>\n",
       "      <td>0.0</td>\n",
       "      <td>0.0</td>\n",
       "      <td>0.0</td>\n",
       "      <td>0.0</td>\n",
       "      <td>0.0</td>\n",
       "      <td>0.0</td>\n",
       "      <td>0.0</td>\n",
       "    </tr>\n",
       "    <tr>\n",
       "      <th>3015</th>\n",
       "      <td>435.0</td>\n",
       "      <td>p1</td>\n",
       "      <td>231</td>\n",
       "      <td>2017-08-17</td>\n",
       "      <td>33</td>\n",
       "      <td>3.093448</td>\n",
       "      <td>0.0</td>\n",
       "      <td>0.0</td>\n",
       "      <td>0.0</td>\n",
       "      <td>0.0</td>\n",
       "      <td>0.0</td>\n",
       "      <td>0.0</td>\n",
       "      <td>0.0</td>\n",
       "      <td>0.0</td>\n",
       "      <td>0.0</td>\n",
       "    </tr>\n",
       "  </tbody>\n",
       "</table>\n",
       "</div>"
      ],
      "text/plain": [
       "       sprzedaz produkt  sklep    tydzien  nr_tyg      cena  typ1  typ2  typ3  \\\n",
       "15703      99.0      p1    222 2017-08-17      33  3.175455   1.0   0.0   0.0   \n",
       "9775      242.0      p1    267 2017-08-17      33  3.180744   1.0   0.0   0.0   \n",
       "5511      602.0      p1    326 2017-08-17      33  3.163555   1.0   0.0   0.0   \n",
       "15807     202.0      p1    170 2017-08-17      33  3.169406   0.0   0.0   0.0   \n",
       "3015      435.0      p1    231 2017-08-17      33  3.093448   0.0   0.0   0.0   \n",
       "\n",
       "       typ4  typ5  typ6  typ7  typ8  typ9  \n",
       "15703   0.0   0.0   0.0   0.0   0.0   0.0  \n",
       "9775    0.0   0.0   0.0   0.0   0.0   0.0  \n",
       "5511    0.0   0.0   0.0   0.0   0.0   0.0  \n",
       "15807   0.0   0.0   0.0   0.0   0.0   0.0  \n",
       "3015    0.0   0.0   0.0   0.0   0.0   0.0  "
      ]
     },
     "metadata": {},
     "output_type": "display_data"
    },
    {
     "name": "stderr",
     "output_type": "stream",
     "text": [
      "C:\\Users\\Mikolaj\\Anaconda3\\lib\\site-packages\\sklearn\\preprocessing\\_encoders.py:371: FutureWarning: The handling of integer data will change in version 0.22. Currently, the categories are determined based on the range [0, max(values)], while in the future they will be determined based on the unique values.\n",
      "If you want the future behaviour and silence this warning, you can specify \"categories='auto'\".\n",
      "In case you used a LabelEncoder before this OneHotEncoder to convert the categories to integers, then you can now use the OneHotEncoder directly.\n",
      "  warnings.warn(msg, FutureWarning)\n",
      "C:\\Users\\Mikolaj\\Anaconda3\\lib\\site-packages\\sklearn\\preprocessing\\_encoders.py:392: DeprecationWarning: The 'categorical_features' keyword is deprecated in version 0.20 and will be removed in 0.22. You can use the ColumnTransformer instead.\n",
      "  \"use the ColumnTransformer instead.\", DeprecationWarning)\n"
     ]
    }
   ],
   "source": [
    "lab = LabelEncoder()\n",
    "lab.fit(p1s211['sklep'])\n",
    "sklepy = lab.transform(p1s211['sklep'])\n",
    "p1s211['sklep'] = sklepy\n",
    "display(p1s211.head())\n",
    "X = p1s211.iloc[:, [2, 4, 5, 6, 7, 8, 9, 10, 11, 12, 13, 14]].values\n",
    "y = p1s211.iloc[:, 0].values\n",
    "ohe = OneHotEncoder(categorical_features=[0], sparse=False)\n",
    "ohe.fit(X)\n",
    "X = ohe.transform(X)\n",
    "X_train = X\n",
    "X_test = X\n",
    "y_train = y\n",
    "y_test = y"
   ]
  },
  {
   "cell_type": "code",
   "execution_count": 173,
   "metadata": {},
   "outputs": [
    {
     "data": {
      "text/plain": [
       "(35721, 354)"
      ]
     },
     "execution_count": 173,
     "metadata": {},
     "output_type": "execute_result"
    }
   ],
   "source": [
    "X_train.shape"
   ]
  },
  {
   "cell_type": "code",
   "execution_count": 174,
   "metadata": {},
   "outputs": [
    {
     "data": {
      "text/plain": [
       "103.23988439306359"
      ]
     },
     "execution_count": 174,
     "metadata": {},
     "output_type": "execute_result"
    }
   ],
   "source": [
    "35721 / 346"
   ]
  },
  {
   "cell_type": "code",
   "execution_count": 176,
   "metadata": {},
   "outputs": [
    {
     "name": "stdout",
     "output_type": "stream",
     "text": [
      "MAPE_train: 32.21\n",
      "MAPE_test: 32.21\n"
     ]
    }
   ],
   "source": [
    "reg = LinearRegression(n_jobs=-1)\n",
    "reg.fit(X_train, y_train)\n",
    "y_pred_train = reg.predict(X_train)\n",
    "y_pred_train[y_pred_train < 0] = 0\n",
    "\n",
    "y_pred_test = reg.predict(X_test)\n",
    "y_pred_test[y_pred_test < 0] = 0\n",
    "\n",
    "\"\"\"\n",
    "fig, ax = plt.subplots()\n",
    "ax.plot(p1s211['tydzien'], y)\n",
    "ax.plot(p1s211['tydzien'][0:100], y_pred_train)\n",
    "ax.plot(p1s211['tydzien'][100:], y_pred_test)\n",
    "fig.set_size_inches([16, 6])\n",
    "plt.show()\n",
    "\"\"\"\n",
    "print('MAPE_train: %.2f' % (mape(y, y_pred_train)))\n",
    "print('MAPE_test: %.2f' % (mape(y, y_pred_test)))"
   ]
  },
  {
   "cell_type": "code",
   "execution_count": null,
   "metadata": {},
   "outputs": [],
   "source": []
  },
  {
   "cell_type": "code",
   "execution_count": 181,
   "metadata": {},
   "outputs": [
    {
     "name": "stdout",
     "output_type": "stream",
     "text": [
      "MAPE_train: 56.01\n",
      "MAPE_test: 56.01\n"
     ]
    }
   ],
   "source": [
    "forest = RandomForestRegressor(max_depth=5, n_estimators=100, n_jobs=-1)\n",
    "forest.fit(X_train, y_train)\n",
    "\n",
    "y_pred_train = forest.predict(X_train)\n",
    "y_pred_train[y_pred_train < 0] = 0\n",
    "\n",
    "y_pred_test = forest.predict(X_test)\n",
    "y_pred_test[y_pred_test < 0] = 0\n",
    "\n",
    "\"\"\"fig, ax = plt.subplots()\n",
    "ax.plot(p1s211['tydzien'], y)\n",
    "ax.plot(p1s211['tydzien'][0:100], y_pred_train)\n",
    "ax.plot(p1s211['tydzien'][100:], y_pred_test)\n",
    "fig.set_size_inches([16, 6])\n",
    "plt.show()\"\"\"\n",
    "print('MAPE_train: %.2f' % (mape(y, y_pred_train)))\n",
    "print('MAPE_test: %.2f' % (mape(y, y_pred_test)))"
   ]
  },
  {
   "cell_type": "code",
   "execution_count": 97,
   "metadata": {},
   "outputs": [
    {
     "data": {
      "text/plain": [
       "(3,)"
      ]
     },
     "execution_count": 97,
     "metadata": {},
     "output_type": "execute_result"
    }
   ],
   "source": [
    "y_test.shape"
   ]
  },
  {
   "cell_type": "code",
   "execution_count": 183,
   "metadata": {},
   "outputs": [
    {
     "name": "stdout",
     "output_type": "stream",
     "text": [
      "MAPE_train: 48.67\n",
      "MAPE_test: 48.67\n"
     ]
    }
   ],
   "source": [
    "gb = GradientBoostingRegressor(max_depth=4)\n",
    "gb.fit(X_train, y_train)\n",
    "\n",
    "y_pred_train = gb.predict(X_train)\n",
    "y_pred_train[y_pred_train < 0] = 0\n",
    "\n",
    "y_pred_test = gb.predict(X_test)\n",
    "y_pred_test[y_pred_test < 0] = 0\n",
    "\n",
    "\"\"\"fig, ax = plt.subplots()\n",
    "ax.plot(p1s211['tydzien'], y)\n",
    "ax.plot(p1s211['tydzien'][0:100], y_pred_train)\n",
    "ax.plot(p1s211['tydzien'][100:], y_pred_test)\n",
    "fig.set_size_inches([16, 6])\n",
    "plt.show()\n",
    "\"\"\"\n",
    "print('MAPE_train: %.2f' % (mape(y, y_pred_train)))\n",
    "print('MAPE_test: %.2f' % (mape(y, y_pred_test)))"
   ]
  },
  {
   "cell_type": "markdown",
   "metadata": {},
   "source": [
    "### Model regresja liniowa"
   ]
  },
  {
   "cell_type": "markdown",
   "metadata": {},
   "source": [
    "#### zmienne dzień, tydzień w roku, miesiąc, rok"
   ]
  },
  {
   "cell_type": "code",
   "execution_count": 566,
   "metadata": {
    "scrolled": true
   },
   "outputs": [
    {
     "data": {
      "text/html": [
       "<div>\n",
       "<style scoped>\n",
       "    .dataframe tbody tr th:only-of-type {\n",
       "        vertical-align: middle;\n",
       "    }\n",
       "\n",
       "    .dataframe tbody tr th {\n",
       "        vertical-align: top;\n",
       "    }\n",
       "\n",
       "    .dataframe thead th {\n",
       "        text-align: right;\n",
       "    }\n",
       "</style>\n",
       "<table border=\"1\" class=\"dataframe\">\n",
       "  <thead>\n",
       "    <tr style=\"text-align: right;\">\n",
       "      <th></th>\n",
       "      <th>sprzedaz</th>\n",
       "      <th>produkt</th>\n",
       "      <th>sklep</th>\n",
       "      <th>tydzien</th>\n",
       "      <th>nr_tyg</th>\n",
       "      <th>cena</th>\n",
       "      <th>typ1</th>\n",
       "      <th>typ2</th>\n",
       "      <th>typ3</th>\n",
       "      <th>typ4</th>\n",
       "      <th>typ5</th>\n",
       "      <th>typ6</th>\n",
       "      <th>typ7</th>\n",
       "      <th>typ8</th>\n",
       "      <th>typ9</th>\n",
       "    </tr>\n",
       "  </thead>\n",
       "  <tbody>\n",
       "    <tr>\n",
       "      <th>261351</th>\n",
       "      <td>97.0</td>\n",
       "      <td>p8</td>\n",
       "      <td>s29</td>\n",
       "      <td>2017-08-17</td>\n",
       "      <td>33</td>\n",
       "      <td>2.672680</td>\n",
       "      <td>0.0</td>\n",
       "      <td>0.0</td>\n",
       "      <td>0.0</td>\n",
       "      <td>0.0</td>\n",
       "      <td>0.0</td>\n",
       "      <td>1.0</td>\n",
       "      <td>0.0</td>\n",
       "      <td>1.0</td>\n",
       "      <td>0.0</td>\n",
       "    </tr>\n",
       "    <tr>\n",
       "      <th>258335</th>\n",
       "      <td>202.0</td>\n",
       "      <td>p8</td>\n",
       "      <td>s234</td>\n",
       "      <td>2017-08-17</td>\n",
       "      <td>33</td>\n",
       "      <td>2.586931</td>\n",
       "      <td>0.0</td>\n",
       "      <td>0.0</td>\n",
       "      <td>0.0</td>\n",
       "      <td>0.0</td>\n",
       "      <td>0.0</td>\n",
       "      <td>1.0</td>\n",
       "      <td>0.0</td>\n",
       "      <td>0.0</td>\n",
       "      <td>0.0</td>\n",
       "    </tr>\n",
       "  </tbody>\n",
       "</table>\n",
       "</div>"
      ],
      "text/plain": [
       "        sprzedaz produkt sklep    tydzien  nr_tyg      cena  typ1  typ2  typ3  \\\n",
       "261351      97.0      p8   s29 2017-08-17      33  2.672680   0.0   0.0   0.0   \n",
       "258335     202.0      p8  s234 2017-08-17      33  2.586931   0.0   0.0   0.0   \n",
       "\n",
       "        typ4  typ5  typ6  typ7  typ8  typ9  \n",
       "261351   0.0   0.0   1.0   0.0   1.0   0.0  \n",
       "258335   0.0   0.0   1.0   0.0   0.0   0.0  "
      ]
     },
     "execution_count": 566,
     "metadata": {},
     "output_type": "execute_result"
    }
   ],
   "source": [
    "df.head(n=2)\n",
    "#df.tail()\n",
    "#df = df.sort_values(by='tydzien')"
   ]
  },
  {
   "cell_type": "code",
   "execution_count": 289,
   "metadata": {},
   "outputs": [],
   "source": [
    "days = [date.day for date in df['tydzien']]\n",
    "weeks = [date.week for date in df['tydzien']]\n",
    "months = [date.month for date in df['tydzien']]\n",
    "years = [date.year for date in df['tydzien']]"
   ]
  },
  {
   "cell_type": "code",
   "execution_count": 290,
   "metadata": {},
   "outputs": [],
   "source": [
    "weeks = [date.week for date in df['tydzien']]\n",
    "df.insert(column='nr_tyg', loc=4, value=weeks)\n",
    "#df.insert(column='miesiac', loc=5, value=months)\n",
    "#df.insert(column='rok', loc=6, value=years)"
   ]
  },
  {
   "cell_type": "code",
   "execution_count": 457,
   "metadata": {},
   "outputs": [
    {
     "data": {
      "text/html": [
       "<div>\n",
       "<style scoped>\n",
       "    .dataframe tbody tr th:only-of-type {\n",
       "        vertical-align: middle;\n",
       "    }\n",
       "\n",
       "    .dataframe tbody tr th {\n",
       "        vertical-align: top;\n",
       "    }\n",
       "\n",
       "    .dataframe thead th {\n",
       "        text-align: right;\n",
       "    }\n",
       "</style>\n",
       "<table border=\"1\" class=\"dataframe\">\n",
       "  <thead>\n",
       "    <tr style=\"text-align: right;\">\n",
       "      <th></th>\n",
       "      <th>sprzedaz</th>\n",
       "      <th>produkt</th>\n",
       "      <th>sklep</th>\n",
       "      <th>tydzien</th>\n",
       "      <th>nr_tyg</th>\n",
       "      <th>miesiac</th>\n",
       "      <th>rok</th>\n",
       "      <th>cena</th>\n",
       "      <th>typ1</th>\n",
       "      <th>typ2</th>\n",
       "      <th>typ3</th>\n",
       "      <th>typ4</th>\n",
       "      <th>typ5</th>\n",
       "      <th>typ6</th>\n",
       "      <th>typ7</th>\n",
       "      <th>typ8</th>\n",
       "      <th>typ9</th>\n",
       "    </tr>\n",
       "  </thead>\n",
       "  <tbody>\n",
       "    <tr>\n",
       "      <th>0</th>\n",
       "      <td>608.0</td>\n",
       "      <td>p1</td>\n",
       "      <td>s211</td>\n",
       "      <td>2017-08-24</td>\n",
       "      <td>34</td>\n",
       "      <td>8</td>\n",
       "      <td>2017</td>\n",
       "      <td>3.465428</td>\n",
       "      <td>0.0</td>\n",
       "      <td>0.0</td>\n",
       "      <td>0.0</td>\n",
       "      <td>0.0</td>\n",
       "      <td>0.0</td>\n",
       "      <td>0.0</td>\n",
       "      <td>0.0</td>\n",
       "      <td>0.0</td>\n",
       "      <td>0.0</td>\n",
       "    </tr>\n",
       "    <tr>\n",
       "      <th>1</th>\n",
       "      <td>548.0</td>\n",
       "      <td>p1</td>\n",
       "      <td>s211</td>\n",
       "      <td>2017-08-31</td>\n",
       "      <td>35</td>\n",
       "      <td>8</td>\n",
       "      <td>2017</td>\n",
       "      <td>3.374708</td>\n",
       "      <td>0.0</td>\n",
       "      <td>0.0</td>\n",
       "      <td>0.0</td>\n",
       "      <td>0.0</td>\n",
       "      <td>0.0</td>\n",
       "      <td>0.0</td>\n",
       "      <td>0.0</td>\n",
       "      <td>0.0</td>\n",
       "      <td>0.0</td>\n",
       "    </tr>\n",
       "    <tr>\n",
       "      <th>2</th>\n",
       "      <td>1062.0</td>\n",
       "      <td>p1</td>\n",
       "      <td>s211</td>\n",
       "      <td>2017-09-07</td>\n",
       "      <td>36</td>\n",
       "      <td>9</td>\n",
       "      <td>2017</td>\n",
       "      <td>2.904812</td>\n",
       "      <td>0.0</td>\n",
       "      <td>0.0</td>\n",
       "      <td>0.0</td>\n",
       "      <td>0.0</td>\n",
       "      <td>0.0</td>\n",
       "      <td>0.0</td>\n",
       "      <td>0.0</td>\n",
       "      <td>0.0</td>\n",
       "      <td>0.0</td>\n",
       "    </tr>\n",
       "    <tr>\n",
       "      <th>3</th>\n",
       "      <td>895.0</td>\n",
       "      <td>p1</td>\n",
       "      <td>s211</td>\n",
       "      <td>2017-09-14</td>\n",
       "      <td>37</td>\n",
       "      <td>9</td>\n",
       "      <td>2017</td>\n",
       "      <td>2.956179</td>\n",
       "      <td>1.0</td>\n",
       "      <td>0.0</td>\n",
       "      <td>0.0</td>\n",
       "      <td>0.0</td>\n",
       "      <td>0.0</td>\n",
       "      <td>0.0</td>\n",
       "      <td>0.0</td>\n",
       "      <td>0.0</td>\n",
       "      <td>0.0</td>\n",
       "    </tr>\n",
       "    <tr>\n",
       "      <th>4</th>\n",
       "      <td>768.0</td>\n",
       "      <td>p1</td>\n",
       "      <td>s211</td>\n",
       "      <td>2017-09-21</td>\n",
       "      <td>38</td>\n",
       "      <td>9</td>\n",
       "      <td>2017</td>\n",
       "      <td>3.172201</td>\n",
       "      <td>1.0</td>\n",
       "      <td>0.0</td>\n",
       "      <td>0.0</td>\n",
       "      <td>0.0</td>\n",
       "      <td>0.0</td>\n",
       "      <td>0.0</td>\n",
       "      <td>0.0</td>\n",
       "      <td>0.0</td>\n",
       "      <td>0.0</td>\n",
       "    </tr>\n",
       "  </tbody>\n",
       "</table>\n",
       "</div>"
      ],
      "text/plain": [
       "   sprzedaz produkt sklep    tydzien  nr_tyg  miesiac   rok      cena  typ1  \\\n",
       "0     608.0      p1  s211 2017-08-24      34        8  2017  3.465428   0.0   \n",
       "1     548.0      p1  s211 2017-08-31      35        8  2017  3.374708   0.0   \n",
       "2    1062.0      p1  s211 2017-09-07      36        9  2017  2.904812   0.0   \n",
       "3     895.0      p1  s211 2017-09-14      37        9  2017  2.956179   1.0   \n",
       "4     768.0      p1  s211 2017-09-21      38        9  2017  3.172201   1.0   \n",
       "\n",
       "   typ2  typ3  typ4  typ5  typ6  typ7  typ8  typ9  \n",
       "0   0.0   0.0   0.0   0.0   0.0   0.0   0.0   0.0  \n",
       "1   0.0   0.0   0.0   0.0   0.0   0.0   0.0   0.0  \n",
       "2   0.0   0.0   0.0   0.0   0.0   0.0   0.0   0.0  \n",
       "3   0.0   0.0   0.0   0.0   0.0   0.0   0.0   0.0  \n",
       "4   0.0   0.0   0.0   0.0   0.0   0.0   0.0   0.0  "
      ]
     },
     "execution_count": 457,
     "metadata": {},
     "output_type": "execute_result"
    }
   ],
   "source": [
    "#df = df.drop(columns=['tydzien'])\n",
    "df.head()"
   ]
  },
  {
   "cell_type": "code",
   "execution_count": 458,
   "metadata": {},
   "outputs": [
    {
     "data": {
      "text/plain": [
       "\"\\nlab.fit(df['miesiac'])\\nmiesiace = lab.transform(df['miesiac'])\\n\\nlab.fit(df['rok'])\\nlata = lab.transform(df['rok'])\\n\\nlab.fit(df['nr_tyg'])\\ntygodnie = lab.transform(df['nr_tyg'])\\n\""
      ]
     },
     "execution_count": 458,
     "metadata": {},
     "output_type": "execute_result"
    }
   ],
   "source": [
    "lab = LabelEncoder()\n",
    "\n",
    "lab.fit(df['produkt'])\n",
    "produkty = lab.transform(df['produkt'])\n",
    "\n",
    "lab.fit(df['sklep'])\n",
    "sklepy = lab.transform(df['sklep'])\n",
    "\n",
    "'''\n",
    "lab.fit(df['miesiac'])\n",
    "miesiace = lab.transform(df['miesiac'])\n",
    "\n",
    "lab.fit(df['rok'])\n",
    "lata = lab.transform(df['rok'])\n",
    "\n",
    "lab.fit(df['nr_tyg'])\n",
    "tygodnie = lab.transform(df['nr_tyg'])\n",
    "'''"
   ]
  },
  {
   "cell_type": "code",
   "execution_count": 459,
   "metadata": {},
   "outputs": [
    {
     "data": {
      "text/plain": [
       "\"\\ndf['miesiac'] = miesiace\\ndf['rok'] = lata\\ndf['tygodnie'] = tygodnie\\n\""
      ]
     },
     "execution_count": 459,
     "metadata": {},
     "output_type": "execute_result"
    }
   ],
   "source": [
    "df['produkt'] = produkty\n",
    "df['sklep'] = sklepy\n",
    "\n",
    "'''\n",
    "df['miesiac'] = miesiace\n",
    "df['rok'] = lata\n",
    "df['tygodnie'] = tygodnie\n",
    "'''"
   ]
  },
  {
   "cell_type": "code",
   "execution_count": 460,
   "metadata": {},
   "outputs": [
    {
     "data": {
      "text/html": [
       "<div>\n",
       "<style scoped>\n",
       "    .dataframe tbody tr th:only-of-type {\n",
       "        vertical-align: middle;\n",
       "    }\n",
       "\n",
       "    .dataframe tbody tr th {\n",
       "        vertical-align: top;\n",
       "    }\n",
       "\n",
       "    .dataframe thead th {\n",
       "        text-align: right;\n",
       "    }\n",
       "</style>\n",
       "<table border=\"1\" class=\"dataframe\">\n",
       "  <thead>\n",
       "    <tr style=\"text-align: right;\">\n",
       "      <th></th>\n",
       "      <th>sprzedaz</th>\n",
       "      <th>produkt</th>\n",
       "      <th>sklep</th>\n",
       "      <th>tydzien</th>\n",
       "      <th>nr_tyg</th>\n",
       "      <th>miesiac</th>\n",
       "      <th>rok</th>\n",
       "      <th>cena</th>\n",
       "      <th>typ1</th>\n",
       "      <th>typ2</th>\n",
       "      <th>typ3</th>\n",
       "      <th>typ4</th>\n",
       "      <th>typ5</th>\n",
       "      <th>typ6</th>\n",
       "      <th>typ7</th>\n",
       "      <th>typ8</th>\n",
       "      <th>typ9</th>\n",
       "    </tr>\n",
       "  </thead>\n",
       "  <tbody>\n",
       "    <tr>\n",
       "      <th>0</th>\n",
       "      <td>608.0</td>\n",
       "      <td>0</td>\n",
       "      <td>125</td>\n",
       "      <td>2017-08-24</td>\n",
       "      <td>34</td>\n",
       "      <td>8</td>\n",
       "      <td>2017</td>\n",
       "      <td>3.465428</td>\n",
       "      <td>0.0</td>\n",
       "      <td>0.0</td>\n",
       "      <td>0.0</td>\n",
       "      <td>0.0</td>\n",
       "      <td>0.0</td>\n",
       "      <td>0.0</td>\n",
       "      <td>0.0</td>\n",
       "      <td>0.0</td>\n",
       "      <td>0.0</td>\n",
       "    </tr>\n",
       "    <tr>\n",
       "      <th>1</th>\n",
       "      <td>548.0</td>\n",
       "      <td>0</td>\n",
       "      <td>125</td>\n",
       "      <td>2017-08-31</td>\n",
       "      <td>35</td>\n",
       "      <td>8</td>\n",
       "      <td>2017</td>\n",
       "      <td>3.374708</td>\n",
       "      <td>0.0</td>\n",
       "      <td>0.0</td>\n",
       "      <td>0.0</td>\n",
       "      <td>0.0</td>\n",
       "      <td>0.0</td>\n",
       "      <td>0.0</td>\n",
       "      <td>0.0</td>\n",
       "      <td>0.0</td>\n",
       "      <td>0.0</td>\n",
       "    </tr>\n",
       "    <tr>\n",
       "      <th>2</th>\n",
       "      <td>1062.0</td>\n",
       "      <td>0</td>\n",
       "      <td>125</td>\n",
       "      <td>2017-09-07</td>\n",
       "      <td>36</td>\n",
       "      <td>9</td>\n",
       "      <td>2017</td>\n",
       "      <td>2.904812</td>\n",
       "      <td>0.0</td>\n",
       "      <td>0.0</td>\n",
       "      <td>0.0</td>\n",
       "      <td>0.0</td>\n",
       "      <td>0.0</td>\n",
       "      <td>0.0</td>\n",
       "      <td>0.0</td>\n",
       "      <td>0.0</td>\n",
       "      <td>0.0</td>\n",
       "    </tr>\n",
       "    <tr>\n",
       "      <th>3</th>\n",
       "      <td>895.0</td>\n",
       "      <td>0</td>\n",
       "      <td>125</td>\n",
       "      <td>2017-09-14</td>\n",
       "      <td>37</td>\n",
       "      <td>9</td>\n",
       "      <td>2017</td>\n",
       "      <td>2.956179</td>\n",
       "      <td>1.0</td>\n",
       "      <td>0.0</td>\n",
       "      <td>0.0</td>\n",
       "      <td>0.0</td>\n",
       "      <td>0.0</td>\n",
       "      <td>0.0</td>\n",
       "      <td>0.0</td>\n",
       "      <td>0.0</td>\n",
       "      <td>0.0</td>\n",
       "    </tr>\n",
       "    <tr>\n",
       "      <th>4</th>\n",
       "      <td>768.0</td>\n",
       "      <td>0</td>\n",
       "      <td>125</td>\n",
       "      <td>2017-09-21</td>\n",
       "      <td>38</td>\n",
       "      <td>9</td>\n",
       "      <td>2017</td>\n",
       "      <td>3.172201</td>\n",
       "      <td>1.0</td>\n",
       "      <td>0.0</td>\n",
       "      <td>0.0</td>\n",
       "      <td>0.0</td>\n",
       "      <td>0.0</td>\n",
       "      <td>0.0</td>\n",
       "      <td>0.0</td>\n",
       "      <td>0.0</td>\n",
       "      <td>0.0</td>\n",
       "    </tr>\n",
       "  </tbody>\n",
       "</table>\n",
       "</div>"
      ],
      "text/plain": [
       "   sprzedaz  produkt  sklep    tydzien  nr_tyg  miesiac   rok      cena  typ1  \\\n",
       "0     608.0        0    125 2017-08-24      34        8  2017  3.465428   0.0   \n",
       "1     548.0        0    125 2017-08-31      35        8  2017  3.374708   0.0   \n",
       "2    1062.0        0    125 2017-09-07      36        9  2017  2.904812   0.0   \n",
       "3     895.0        0    125 2017-09-14      37        9  2017  2.956179   1.0   \n",
       "4     768.0        0    125 2017-09-21      38        9  2017  3.172201   1.0   \n",
       "\n",
       "   typ2  typ3  typ4  typ5  typ6  typ7  typ8  typ9  \n",
       "0   0.0   0.0   0.0   0.0   0.0   0.0   0.0   0.0  \n",
       "1   0.0   0.0   0.0   0.0   0.0   0.0   0.0   0.0  \n",
       "2   0.0   0.0   0.0   0.0   0.0   0.0   0.0   0.0  \n",
       "3   0.0   0.0   0.0   0.0   0.0   0.0   0.0   0.0  \n",
       "4   0.0   0.0   0.0   0.0   0.0   0.0   0.0   0.0  "
      ]
     },
     "execution_count": 460,
     "metadata": {},
     "output_type": "execute_result"
    }
   ],
   "source": [
    "df.head()"
   ]
  },
  {
   "cell_type": "code",
   "execution_count": 463,
   "metadata": {},
   "outputs": [
    {
     "data": {
      "text/html": [
       "<div>\n",
       "<style scoped>\n",
       "    .dataframe tbody tr th:only-of-type {\n",
       "        vertical-align: middle;\n",
       "    }\n",
       "\n",
       "    .dataframe tbody tr th {\n",
       "        vertical-align: top;\n",
       "    }\n",
       "\n",
       "    .dataframe thead th {\n",
       "        text-align: right;\n",
       "    }\n",
       "</style>\n",
       "<table border=\"1\" class=\"dataframe\">\n",
       "  <thead>\n",
       "    <tr style=\"text-align: right;\">\n",
       "      <th></th>\n",
       "      <th>sprzedaz</th>\n",
       "      <th>produkt</th>\n",
       "      <th>sklep</th>\n",
       "      <th>tydzien</th>\n",
       "      <th>nr_tyg</th>\n",
       "      <th>miesiac</th>\n",
       "      <th>rok</th>\n",
       "      <th>cena</th>\n",
       "      <th>typ1</th>\n",
       "      <th>typ2</th>\n",
       "      <th>typ3</th>\n",
       "      <th>typ4</th>\n",
       "      <th>typ5</th>\n",
       "      <th>typ6</th>\n",
       "      <th>typ7</th>\n",
       "      <th>typ8</th>\n",
       "      <th>typ9</th>\n",
       "    </tr>\n",
       "  </thead>\n",
       "  <tbody>\n",
       "    <tr>\n",
       "      <th>110551</th>\n",
       "      <td>289.0</td>\n",
       "      <td>7</td>\n",
       "      <td>314</td>\n",
       "      <td>2017-08-17</td>\n",
       "      <td>33</td>\n",
       "      <td>8</td>\n",
       "      <td>2017</td>\n",
       "      <td>3.146194</td>\n",
       "      <td>0.0</td>\n",
       "      <td>0.0</td>\n",
       "      <td>0.0</td>\n",
       "      <td>0.0</td>\n",
       "      <td>0.0</td>\n",
       "      <td>0.0</td>\n",
       "      <td>0.0</td>\n",
       "      <td>0.0</td>\n",
       "      <td>0.0</td>\n",
       "    </tr>\n",
       "    <tr>\n",
       "      <th>160367</th>\n",
       "      <td>42.0</td>\n",
       "      <td>8</td>\n",
       "      <td>55</td>\n",
       "      <td>2017-08-17</td>\n",
       "      <td>33</td>\n",
       "      <td>8</td>\n",
       "      <td>2017</td>\n",
       "      <td>2.990000</td>\n",
       "      <td>0.0</td>\n",
       "      <td>0.0</td>\n",
       "      <td>0.0</td>\n",
       "      <td>0.0</td>\n",
       "      <td>0.0</td>\n",
       "      <td>0.0</td>\n",
       "      <td>0.0</td>\n",
       "      <td>0.0</td>\n",
       "      <td>0.0</td>\n",
       "    </tr>\n",
       "    <tr>\n",
       "      <th>16431</th>\n",
       "      <td>102.0</td>\n",
       "      <td>0</td>\n",
       "      <td>174</td>\n",
       "      <td>2017-08-17</td>\n",
       "      <td>33</td>\n",
       "      <td>8</td>\n",
       "      <td>2017</td>\n",
       "      <td>3.161961</td>\n",
       "      <td>0.0</td>\n",
       "      <td>0.0</td>\n",
       "      <td>0.0</td>\n",
       "      <td>0.0</td>\n",
       "      <td>0.0</td>\n",
       "      <td>0.0</td>\n",
       "      <td>0.0</td>\n",
       "      <td>0.0</td>\n",
       "      <td>0.0</td>\n",
       "    </tr>\n",
       "    <tr>\n",
       "      <th>160471</th>\n",
       "      <td>36.0</td>\n",
       "      <td>8</td>\n",
       "      <td>151</td>\n",
       "      <td>2017-08-17</td>\n",
       "      <td>33</td>\n",
       "      <td>8</td>\n",
       "      <td>2017</td>\n",
       "      <td>2.990000</td>\n",
       "      <td>0.0</td>\n",
       "      <td>0.0</td>\n",
       "      <td>0.0</td>\n",
       "      <td>0.0</td>\n",
       "      <td>0.0</td>\n",
       "      <td>0.0</td>\n",
       "      <td>0.0</td>\n",
       "      <td>0.0</td>\n",
       "      <td>0.0</td>\n",
       "    </tr>\n",
       "    <tr>\n",
       "      <th>368471</th>\n",
       "      <td>18.0</td>\n",
       "      <td>3</td>\n",
       "      <td>186</td>\n",
       "      <td>2017-08-17</td>\n",
       "      <td>33</td>\n",
       "      <td>8</td>\n",
       "      <td>2017</td>\n",
       "      <td>1.790000</td>\n",
       "      <td>0.0</td>\n",
       "      <td>0.0</td>\n",
       "      <td>0.0</td>\n",
       "      <td>0.0</td>\n",
       "      <td>0.0</td>\n",
       "      <td>0.0</td>\n",
       "      <td>0.0</td>\n",
       "      <td>0.0</td>\n",
       "      <td>0.0</td>\n",
       "    </tr>\n",
       "  </tbody>\n",
       "</table>\n",
       "</div>"
      ],
      "text/plain": [
       "        sprzedaz  produkt  sklep    tydzien  nr_tyg  miesiac   rok      cena  \\\n",
       "110551     289.0        7    314 2017-08-17      33        8  2017  3.146194   \n",
       "160367      42.0        8     55 2017-08-17      33        8  2017  2.990000   \n",
       "16431      102.0        0    174 2017-08-17      33        8  2017  3.161961   \n",
       "160471      36.0        8    151 2017-08-17      33        8  2017  2.990000   \n",
       "368471      18.0        3    186 2017-08-17      33        8  2017  1.790000   \n",
       "\n",
       "        typ1  typ2  typ3  typ4  typ5  typ6  typ7  typ8  typ9  \n",
       "110551   0.0   0.0   0.0   0.0   0.0   0.0   0.0   0.0   0.0  \n",
       "160367   0.0   0.0   0.0   0.0   0.0   0.0   0.0   0.0   0.0  \n",
       "16431    0.0   0.0   0.0   0.0   0.0   0.0   0.0   0.0   0.0  \n",
       "160471   0.0   0.0   0.0   0.0   0.0   0.0   0.0   0.0   0.0  \n",
       "368471   0.0   0.0   0.0   0.0   0.0   0.0   0.0   0.0   0.0  "
      ]
     },
     "execution_count": 463,
     "metadata": {},
     "output_type": "execute_result"
    }
   ],
   "source": [
    "df = df.sort_values(by='tydzien')\n",
    "df.head()"
   ]
  },
  {
   "cell_type": "code",
   "execution_count": 393,
   "metadata": {},
   "outputs": [],
   "source": [
    "X = df.values[:, 1:]\n",
    "y = df.values[:, 0]"
   ]
  },
  {
   "cell_type": "code",
   "execution_count": 424,
   "metadata": {},
   "outputs": [],
   "source": [
    "jj = df[(df['produkt']==1) & (df['sklep']==2)]"
   ]
  },
  {
   "cell_type": "code",
   "execution_count": 425,
   "metadata": {},
   "outputs": [],
   "source": [
    "X = jj.values[:, 1:]\n",
    "y = jj.values[:, 0]"
   ]
  },
  {
   "cell_type": "code",
   "execution_count": 426,
   "metadata": {},
   "outputs": [
    {
     "name": "stderr",
     "output_type": "stream",
     "text": [
      "C:\\Users\\Mikolaj\\Anaconda3\\lib\\site-packages\\sklearn\\preprocessing\\_encoders.py:371: FutureWarning: The handling of integer data will change in version 0.22. Currently, the categories are determined based on the range [0, max(values)], while in the future they will be determined based on the unique values.\n",
      "If you want the future behaviour and silence this warning, you can specify \"categories='auto'\".\n",
      "In case you used a LabelEncoder before this OneHotEncoder to convert the categories to integers, then you can now use the OneHotEncoder directly.\n",
      "  warnings.warn(msg, FutureWarning)\n",
      "C:\\Users\\Mikolaj\\Anaconda3\\lib\\site-packages\\sklearn\\preprocessing\\_encoders.py:392: DeprecationWarning: The 'categorical_features' keyword is deprecated in version 0.20 and will be removed in 0.22. You can use the ColumnTransformer instead.\n",
      "  \"use the ColumnTransformer instead.\", DeprecationWarning)\n"
     ]
    }
   ],
   "source": [
    "ohe = OneHotEncoder(categorical_features=[0, 1, 2, 3])\n",
    "ohe.fit(X)\n",
    "X = ohe.transform(X)"
   ]
  },
  {
   "cell_type": "code",
   "execution_count": 427,
   "metadata": {},
   "outputs": [
    {
     "data": {
      "text/plain": [
       "0.7863106536544437"
      ]
     },
     "execution_count": 427,
     "metadata": {},
     "output_type": "execute_result"
    }
   ],
   "source": [
    "reg = LinearRegression(n_jobs=-1)\n",
    "reg.fit(X, y)\n",
    "reg.score(X, y)\n"
   ]
  },
  {
   "cell_type": "code",
   "execution_count": 198,
   "metadata": {},
   "outputs": [],
   "source": [
    "def mape(y_true, y_pred):\n",
    "    errs = np.sqrt(np.power(((y_true - y_pred) / y_true), 2))\n",
    "    mean = (np.sum(errs) / errs.shape[0]) * 100\n",
    "    return mean"
   ]
  },
  {
   "cell_type": "code",
   "execution_count": 429,
   "metadata": {},
   "outputs": [
    {
     "data": {
      "text/plain": [
       "18.1492820734001"
      ]
     },
     "execution_count": 429,
     "metadata": {},
     "output_type": "execute_result"
    }
   ],
   "source": [
    "y_pred = reg.predict(X)\n",
    "y_pred[y_pred < 0] = 0\n",
    "mape(y, y_pred)"
   ]
  },
  {
   "cell_type": "code",
   "execution_count": 343,
   "metadata": {},
   "outputs": [
    {
     "ename": "AttributeError",
     "evalue": "'numpy.ndarray' object has no attribute 'codes'",
     "output_type": "error",
     "traceback": [
      "\u001b[1;31m---------------------------------------------------------------------------\u001b[0m",
      "\u001b[1;31mAttributeError\u001b[0m                            Traceback (most recent call last)",
      "\u001b[1;32m<ipython-input-343-90607713da25>\u001b[0m in \u001b[0;36m<module>\u001b[1;34m\u001b[0m\n\u001b[1;32m----> 1\u001b[1;33m \u001b[0mpd\u001b[0m\u001b[1;33m.\u001b[0m\u001b[0mCategorical\u001b[0m\u001b[1;33m(\u001b[0m\u001b[0mdf\u001b[0m\u001b[1;33m[\u001b[0m\u001b[1;34m'produkt'\u001b[0m\u001b[1;33m]\u001b[0m\u001b[1;33m,\u001b[0m \u001b[0mcategories\u001b[0m\u001b[1;33m=\u001b[0m\u001b[0mdf\u001b[0m\u001b[1;33m[\u001b[0m\u001b[1;34m'produkt'\u001b[0m\u001b[1;33m]\u001b[0m\u001b[1;33m.\u001b[0m\u001b[0munique\u001b[0m\u001b[1;33m(\u001b[0m\u001b[1;33m)\u001b[0m\u001b[1;33m.\u001b[0m\u001b[0mcodes\u001b[0m\u001b[1;33m(\u001b[0m\u001b[1;33m)\u001b[0m\u001b[1;33m)\u001b[0m\u001b[1;33m\u001b[0m\u001b[1;33m\u001b[0m\u001b[0m\n\u001b[0m",
      "\u001b[1;31mAttributeError\u001b[0m: 'numpy.ndarray' object has no attribute 'codes'"
     ]
    }
   ],
   "source": [
    "pd.Categorical(df['produkt'], categories=df['produkt'].unique().codes())"
   ]
  },
  {
   "cell_type": "code",
   "execution_count": 432,
   "metadata": {},
   "outputs": [
    {
     "data": {
      "text/plain": [
       "9.891655792463428"
      ]
     },
     "execution_count": 432,
     "metadata": {},
     "output_type": "execute_result"
    }
   ],
   "source": [
    "forest = RandomForestRegressor(max_depth=None, n_estimators=100, n_jobs=-1)\n",
    "forest.fit(X, y)\n",
    "y_pred = forest.predict(X)\n",
    "y_pred[y_pred < 0] = 0\n",
    "mape(y, y_pred)"
   ]
  },
  {
   "cell_type": "code",
   "execution_count": null,
   "metadata": {},
   "outputs": [],
   "source": []
  },
  {
   "cell_type": "code",
   "execution_count": null,
   "metadata": {},
   "outputs": [],
   "source": []
  },
  {
   "cell_type": "code",
   "execution_count": null,
   "metadata": {},
   "outputs": [],
   "source": []
  },
  {
   "cell_type": "code",
   "execution_count": null,
   "metadata": {},
   "outputs": [],
   "source": []
  },
  {
   "cell_type": "code",
   "execution_count": null,
   "metadata": {},
   "outputs": [],
   "source": []
  },
  {
   "cell_type": "code",
   "execution_count": 465,
   "metadata": {},
   "outputs": [
    {
     "data": {
      "image/png": "[encoded data removed]",
      "text/plain": [
       "<Figure size 432x288 with 1 Axes>"
      ]
     },
     "metadata": {
      "needs_background": "light"
     },
     "output_type": "display_data"
    }
   ],
   "source": [
    "produkt_cena = [df['cena'][df['produkt']==p] for p in df['produkt'].unique()]\n",
    "plt.boxplot(produkt_cena)\n",
    "plt.show()"
   ]
  },
  {
   "cell_type": "code",
   "execution_count": 112,
   "metadata": {},
   "outputs": [],
   "source": [
    "df=df.drop([227])\n"
   ]
  },
  {
   "cell_type": "code",
   "execution_count": 114,
   "metadata": {},
   "outputs": [],
   "source": [
    "df=df.drop([413397])"
   ]
  },
  {
   "cell_type": "code",
   "execution_count": 115,
   "metadata": {},
   "outputs": [
    {
     "data": {
      "image/png": "[encoded data removed]",
      "text/plain": [
       "<Figure size 432x288 with 1 Axes>"
      ]
     },
     "metadata": {
      "needs_background": "light"
     },
     "output_type": "display_data"
    }
   ],
   "source": [
    "produkt_cena = [df['cena'][df['produkt']==p] for p in df['produkt'].unique()]\n",
    "plt.boxplot(produkt_cena)\n",
    "plt.show()"
   ]
  },
  {
   "cell_type": "code",
   "execution_count": 136,
   "metadata": {},
   "outputs": [],
   "source": [
    "p1_s211 = df[(df['produkt']=='p1') & (df['sklep']=='s211')]\n",
    "p1_s211 = p1_s211.sort_values(by='tydzien')"
   ]
  },
  {
   "cell_type": "code",
   "execution_count": 138,
   "metadata": {},
   "outputs": [
    {
     "data": {
      "text/plain": [
       "103"
      ]
     },
     "execution_count": 138,
     "metadata": {},
     "output_type": "execute_result"
    }
   ],
   "source": [
    "p1_s211.shape[0]"
   ]
  },
  {
   "cell_type": "code",
   "execution_count": 186,
   "metadata": {},
   "outputs": [
    {
     "ename": "AttributeError",
     "evalue": "'numpy.ndarray' object has no attribute 'plot'",
     "output_type": "error",
     "traceback": [
      "\u001b[1;31m---------------------------------------------------------------------------\u001b[0m",
      "\u001b[1;31mAttributeError\u001b[0m                            Traceback (most recent call last)",
      "\u001b[1;32m<ipython-input-186-90b0c6101887>\u001b[0m in \u001b[0;36m<module>\u001b[1;34m\u001b[0m\n\u001b[0;32m      1\u001b[0m \u001b[0mfig\u001b[0m\u001b[1;33m,\u001b[0m \u001b[0max\u001b[0m \u001b[1;33m=\u001b[0m \u001b[0mplt\u001b[0m\u001b[1;33m.\u001b[0m\u001b[0msubplots\u001b[0m\u001b[1;33m(\u001b[0m\u001b[0mnrows\u001b[0m\u001b[1;33m=\u001b[0m\u001b[1;36m5\u001b[0m\u001b[1;33m)\u001b[0m\u001b[1;33m\u001b[0m\u001b[1;33m\u001b[0m\u001b[0m\n\u001b[1;32m----> 2\u001b[1;33m \u001b[0max\u001b[0m\u001b[1;33m.\u001b[0m\u001b[0mplot\u001b[0m\u001b[1;33m(\u001b[0m\u001b[0mrange\u001b[0m\u001b[1;33m(\u001b[0m\u001b[0mp1_s211\u001b[0m\u001b[1;33m.\u001b[0m\u001b[0mshape\u001b[0m\u001b[1;33m[\u001b[0m\u001b[1;36m0\u001b[0m\u001b[1;33m]\u001b[0m\u001b[1;33m)\u001b[0m\u001b[1;33m,\u001b[0m \u001b[0mp1_s211\u001b[0m\u001b[1;33m[\u001b[0m\u001b[1;34m'cena'\u001b[0m\u001b[1;33m]\u001b[0m \u001b[1;33m*\u001b[0m \u001b[1;36m1000\u001b[0m\u001b[1;33m)\u001b[0m\u001b[1;33m\u001b[0m\u001b[1;33m\u001b[0m\u001b[0m\n\u001b[0m\u001b[0;32m      3\u001b[0m \u001b[0max\u001b[0m\u001b[1;33m.\u001b[0m\u001b[0mplot\u001b[0m\u001b[1;33m(\u001b[0m\u001b[0mrange\u001b[0m\u001b[1;33m(\u001b[0m\u001b[0mp1_s211\u001b[0m\u001b[1;33m.\u001b[0m\u001b[0mshape\u001b[0m\u001b[1;33m[\u001b[0m\u001b[1;36m0\u001b[0m\u001b[1;33m]\u001b[0m\u001b[1;33m)\u001b[0m\u001b[1;33m,\u001b[0m \u001b[0mp1_s211\u001b[0m\u001b[1;33m[\u001b[0m\u001b[1;34m'sprzedaz'\u001b[0m\u001b[1;33m]\u001b[0m\u001b[1;33m)\u001b[0m\u001b[1;33m\u001b[0m\u001b[1;33m\u001b[0m\u001b[0m\n\u001b[0;32m      4\u001b[0m \u001b[0mfig\u001b[0m\u001b[1;33m.\u001b[0m\u001b[0mset_size_inches\u001b[0m\u001b[1;33m(\u001b[0m\u001b[1;33m[\u001b[0m\u001b[1;36m12\u001b[0m\u001b[1;33m,\u001b[0m \u001b[1;36m4\u001b[0m\u001b[1;33m]\u001b[0m\u001b[1;33m)\u001b[0m\u001b[1;33m\u001b[0m\u001b[1;33m\u001b[0m\u001b[0m\n\u001b[0;32m      5\u001b[0m \u001b[0mplt\u001b[0m\u001b[1;33m.\u001b[0m\u001b[0mshow\u001b[0m\u001b[1;33m(\u001b[0m\u001b[1;33m)\u001b[0m\u001b[1;33m\u001b[0m\u001b[1;33m\u001b[0m\u001b[0m\n",
      "\u001b[1;31mAttributeError\u001b[0m: 'numpy.ndarray' object has no attribute 'plot'"
     ]
    },
    {
     "data": {
      "image/png": "[encoded data removed]",
      "text/plain": [
       "<Figure size 432x288 with 5 Axes>"
      ]
     },
     "metadata": {
      "needs_background": "light"
     },
     "output_type": "display_data"
    }
   ],
   "source": [
    "fig, ax = plt.subplots(nrows=13)\n",
    "ax.plot(range(p1_s211.shape[0]), p1_s211['cena'] * 1000)\n",
    "ax.plot(range(p1_s211.shape[0]), p1_s211['sprzedaz'])\n",
    "fig.set_size_inches([12, 4])\n",
    "plt.show()"
   ]
  },
  {
   "cell_type": "code",
   "execution_count": 230,
   "metadata": {},
   "outputs": [
    {
     "data": {
      "text/html": [
       "<div>\n",
       "<style scoped>\n",
       "    .dataframe tbody tr th:only-of-type {\n",
       "        vertical-align: middle;\n",
       "    }\n",
       "\n",
       "    .dataframe tbody tr th {\n",
       "        vertical-align: top;\n",
       "    }\n",
       "\n",
       "    .dataframe thead th {\n",
       "        text-align: right;\n",
       "    }\n",
       "</style>\n",
       "<table border=\"1\" class=\"dataframe\">\n",
       "  <thead>\n",
       "    <tr style=\"text-align: right;\">\n",
       "      <th></th>\n",
       "      <th>produkt</th>\n",
       "      <th>sklep</th>\n",
       "      <th>Tydzień</th>\n",
       "      <th>sprzedaż (szt.)</th>\n",
       "      <th>cena</th>\n",
       "      <th>ekspozycja TYP1</th>\n",
       "      <th>ekspozycja TYP2</th>\n",
       "      <th>ekspozycja TYP3</th>\n",
       "      <th>ekspozycja TYP4</th>\n",
       "      <th>ekspozycja TYP5</th>\n",
       "      <th>ekspozycja TYP6</th>\n",
       "      <th>ekspozycja TYP7</th>\n",
       "      <th>ekspozycja TYP8</th>\n",
       "      <th>ekspozycja TYP9</th>\n",
       "    </tr>\n",
       "  </thead>\n",
       "  <tbody>\n",
       "    <tr>\n",
       "      <th>0</th>\n",
       "      <td>p1</td>\n",
       "      <td>s211</td>\n",
       "      <td>2017-08-24</td>\n",
       "      <td>608</td>\n",
       "      <td>3.46543</td>\n",
       "      <td>0.0</td>\n",
       "      <td>0.0</td>\n",
       "      <td>0.0</td>\n",
       "      <td>0.0</td>\n",
       "      <td>0.0</td>\n",
       "      <td>0.0</td>\n",
       "      <td>0.0</td>\n",
       "      <td>0.0</td>\n",
       "      <td>0.0</td>\n",
       "    </tr>\n",
       "    <tr>\n",
       "      <th>1</th>\n",
       "      <td>p1</td>\n",
       "      <td>s211</td>\n",
       "      <td>2017-08-31</td>\n",
       "      <td>548</td>\n",
       "      <td>3.37471</td>\n",
       "      <td>0.0</td>\n",
       "      <td>0.0</td>\n",
       "      <td>0.0</td>\n",
       "      <td>0.0</td>\n",
       "      <td>0.0</td>\n",
       "      <td>0.0</td>\n",
       "      <td>0.0</td>\n",
       "      <td>0.0</td>\n",
       "      <td>0.0</td>\n",
       "    </tr>\n",
       "    <tr>\n",
       "      <th>2</th>\n",
       "      <td>p1</td>\n",
       "      <td>s211</td>\n",
       "      <td>2017-09-07</td>\n",
       "      <td>1062</td>\n",
       "      <td>2.90481</td>\n",
       "      <td>0.0</td>\n",
       "      <td>0.0</td>\n",
       "      <td>0.0</td>\n",
       "      <td>0.0</td>\n",
       "      <td>0.0</td>\n",
       "      <td>0.0</td>\n",
       "      <td>0.0</td>\n",
       "      <td>0.0</td>\n",
       "      <td>0.0</td>\n",
       "    </tr>\n",
       "    <tr>\n",
       "      <th>3</th>\n",
       "      <td>p1</td>\n",
       "      <td>s211</td>\n",
       "      <td>2017-09-14</td>\n",
       "      <td>895</td>\n",
       "      <td>2.95618</td>\n",
       "      <td>1.0</td>\n",
       "      <td>0.0</td>\n",
       "      <td>0.0</td>\n",
       "      <td>0.0</td>\n",
       "      <td>0.0</td>\n",
       "      <td>0.0</td>\n",
       "      <td>0.0</td>\n",
       "      <td>0.0</td>\n",
       "      <td>0.0</td>\n",
       "    </tr>\n",
       "    <tr>\n",
       "      <th>4</th>\n",
       "      <td>p1</td>\n",
       "      <td>s211</td>\n",
       "      <td>2017-09-21</td>\n",
       "      <td>768</td>\n",
       "      <td>3.1722</td>\n",
       "      <td>1.0</td>\n",
       "      <td>0.0</td>\n",
       "      <td>0.0</td>\n",
       "      <td>0.0</td>\n",
       "      <td>0.0</td>\n",
       "      <td>0.0</td>\n",
       "      <td>0.0</td>\n",
       "      <td>0.0</td>\n",
       "      <td>0.0</td>\n",
       "    </tr>\n",
       "  </tbody>\n",
       "</table>\n",
       "</div>"
      ],
      "text/plain": [
       "  produkt sklep    Tydzień sprzedaż (szt.)     cena  ekspozycja TYP1  \\\n",
       "0      p1  s211 2017-08-24             608  3.46543              0.0   \n",
       "1      p1  s211 2017-08-31             548  3.37471              0.0   \n",
       "2      p1  s211 2017-09-07            1062  2.90481              0.0   \n",
       "3      p1  s211 2017-09-14             895  2.95618              1.0   \n",
       "4      p1  s211 2017-09-21             768   3.1722              1.0   \n",
       "\n",
       "   ekspozycja TYP2  ekspozycja TYP3  ekspozycja TYP4  ekspozycja TYP5  \\\n",
       "0              0.0              0.0              0.0              0.0   \n",
       "1              0.0              0.0              0.0              0.0   \n",
       "2              0.0              0.0              0.0              0.0   \n",
       "3              0.0              0.0              0.0              0.0   \n",
       "4              0.0              0.0              0.0              0.0   \n",
       "\n",
       "   ekspozycja TYP6  ekspozycja TYP7  ekspozycja TYP8  ekspozycja TYP9  \n",
       "0              0.0              0.0              0.0              0.0  \n",
       "1              0.0              0.0              0.0              0.0  \n",
       "2              0.0              0.0              0.0              0.0  \n",
       "3              0.0              0.0              0.0              0.0  \n",
       "4              0.0              0.0              0.0              0.0  "
      ]
     },
     "execution_count": 230,
     "metadata": {},
     "output_type": "execute_result"
    }
   ],
   "source": [
    "df.head()"
   ]
  },
  {
   "cell_type": "code",
   "execution_count": 171,
   "metadata": {},
   "outputs": [],
   "source": [
    "scaler = StandardScaler()\n",
    "c = p1_s211['cena'].values.reshape(-1, 1)\n",
    "scaler.fit(c)\n",
    "c_norm = scaler.transform(c)"
   ]
  },
  {
   "cell_type": "code",
   "execution_count": 179,
   "metadata": {},
   "outputs": [
    {
     "name": "stderr",
     "output_type": "stream",
     "text": [
      "C:\\Users\\Mikolaj\\Anaconda3\\lib\\site-packages\\sklearn\\utils\\validation.py:595: DataConversionWarning: Data with input dtype int64 was converted to float64 by StandardScaler.\n",
      "  warnings.warn(msg, DataConversionWarning)\n"
     ]
    }
   ],
   "source": [
    "scaler = StandardScaler()\n",
    "s = p1_s211['sprzedaz'].values.reshape(-1, 1)\n",
    "scaler.fit(c)\n",
    "s_norm = scaler.transform(s)"
   ]
  },
  {
   "cell_type": "code",
   "execution_count": 180,
   "metadata": {},
   "outputs": [
    {
     "data": {
      "image/png": "[encoded data removed]",
      "text/plain": [
       "<Figure size 864x288 with 1 Axes>"
      ]
     },
     "metadata": {
      "needs_background": "light"
     },
     "output_type": "display_data"
    }
   ],
   "source": [
    "fig, ax = plt.subplots()\n",
    "ax.plot(range(p1_s211.shape[0]), c_norm)\n",
    "ax.plot(range(p1_s211.shape[0]), s_norm)\n",
    "fig.set_size_inches([12, 4])\n",
    "plt.show()"
   ]
  },
  {
   "cell_type": "code",
   "execution_count": 129,
   "metadata": {},
   "outputs": [
    {
     "ename": "TypeError",
     "evalue": "only integer scalar arrays can be converted to a scalar index",
     "output_type": "error",
     "traceback": [
      "\u001b[1;31m---------------------------------------------------------------------------\u001b[0m",
      "\u001b[1;31mTypeError\u001b[0m                                 Traceback (most recent call last)",
      "\u001b[1;32m<ipython-input-129-055d753e389e>\u001b[0m in \u001b[0;36m<module>\u001b[1;34m\u001b[0m\n\u001b[0;32m      1\u001b[0m \u001b[0mp1\u001b[0m \u001b[1;33m=\u001b[0m \u001b[0mdf\u001b[0m\u001b[1;33m[\u001b[0m\u001b[1;34m'produkt'\u001b[0m\u001b[1;33m]\u001b[0m\u001b[1;33m==\u001b[0m\u001b[1;34m'p1'\u001b[0m\u001b[1;33m\u001b[0m\u001b[1;33m\u001b[0m\u001b[0m\n\u001b[0;32m      2\u001b[0m \u001b[0ms211\u001b[0m \u001b[1;33m=\u001b[0m \u001b[0mdf\u001b[0m\u001b[1;33m[\u001b[0m\u001b[1;34m'sklep'\u001b[0m\u001b[1;33m]\u001b[0m\u001b[1;33m==\u001b[0m\u001b[1;34m's211'\u001b[0m\u001b[1;33m\u001b[0m\u001b[1;33m\u001b[0m\u001b[0m\n\u001b[1;32m----> 3\u001b[1;33m \u001b[0mnp\u001b[0m\u001b[1;33m.\u001b[0m\u001b[0mall\u001b[0m\u001b[1;33m(\u001b[0m\u001b[0mp1\u001b[0m\u001b[1;33m.\u001b[0m\u001b[0mvalues\u001b[0m\u001b[1;33m,\u001b[0m \u001b[0ms211\u001b[0m\u001b[1;33m.\u001b[0m\u001b[0mvalues\u001b[0m\u001b[1;33m)\u001b[0m\u001b[1;33m\u001b[0m\u001b[1;33m\u001b[0m\u001b[0m\n\u001b[0m",
      "\u001b[1;32m~\\Anaconda3\\lib\\site-packages\\numpy\\core\\fromnumeric.py\u001b[0m in \u001b[0;36mall\u001b[1;34m(a, axis, out, keepdims)\u001b[0m\n\u001b[0;32m   2243\u001b[0m \u001b[1;33m\u001b[0m\u001b[0m\n\u001b[0;32m   2244\u001b[0m     \"\"\"\n\u001b[1;32m-> 2245\u001b[1;33m     \u001b[1;32mreturn\u001b[0m \u001b[0m_wrapreduction\u001b[0m\u001b[1;33m(\u001b[0m\u001b[0ma\u001b[0m\u001b[1;33m,\u001b[0m \u001b[0mnp\u001b[0m\u001b[1;33m.\u001b[0m\u001b[0mlogical_and\u001b[0m\u001b[1;33m,\u001b[0m \u001b[1;34m'all'\u001b[0m\u001b[1;33m,\u001b[0m \u001b[0maxis\u001b[0m\u001b[1;33m,\u001b[0m \u001b[1;32mNone\u001b[0m\u001b[1;33m,\u001b[0m \u001b[0mout\u001b[0m\u001b[1;33m,\u001b[0m \u001b[0mkeepdims\u001b[0m\u001b[1;33m=\u001b[0m\u001b[0mkeepdims\u001b[0m\u001b[1;33m)\u001b[0m\u001b[1;33m\u001b[0m\u001b[1;33m\u001b[0m\u001b[0m\n\u001b[0m\u001b[0;32m   2246\u001b[0m \u001b[1;33m\u001b[0m\u001b[0m\n\u001b[0;32m   2247\u001b[0m \u001b[1;33m\u001b[0m\u001b[0m\n",
      "\u001b[1;32m~\\Anaconda3\\lib\\site-packages\\numpy\\core\\fromnumeric.py\u001b[0m in \u001b[0;36m_wrapreduction\u001b[1;34m(obj, ufunc, method, axis, dtype, out, **kwargs)\u001b[0m\n\u001b[0;32m     84\u001b[0m                 \u001b[1;32mreturn\u001b[0m \u001b[0mreduction\u001b[0m\u001b[1;33m(\u001b[0m\u001b[0maxis\u001b[0m\u001b[1;33m=\u001b[0m\u001b[0maxis\u001b[0m\u001b[1;33m,\u001b[0m \u001b[0mout\u001b[0m\u001b[1;33m=\u001b[0m\u001b[0mout\u001b[0m\u001b[1;33m,\u001b[0m \u001b[1;33m**\u001b[0m\u001b[0mpasskwargs\u001b[0m\u001b[1;33m)\u001b[0m\u001b[1;33m\u001b[0m\u001b[1;33m\u001b[0m\u001b[0m\n\u001b[0;32m     85\u001b[0m \u001b[1;33m\u001b[0m\u001b[0m\n\u001b[1;32m---> 86\u001b[1;33m     \u001b[1;32mreturn\u001b[0m \u001b[0mufunc\u001b[0m\u001b[1;33m.\u001b[0m\u001b[0mreduce\u001b[0m\u001b[1;33m(\u001b[0m\u001b[0mobj\u001b[0m\u001b[1;33m,\u001b[0m \u001b[0maxis\u001b[0m\u001b[1;33m,\u001b[0m \u001b[0mdtype\u001b[0m\u001b[1;33m,\u001b[0m \u001b[0mout\u001b[0m\u001b[1;33m,\u001b[0m \u001b[1;33m**\u001b[0m\u001b[0mpasskwargs\u001b[0m\u001b[1;33m)\u001b[0m\u001b[1;33m\u001b[0m\u001b[1;33m\u001b[0m\u001b[0m\n\u001b[0m\u001b[0;32m     87\u001b[0m \u001b[1;33m\u001b[0m\u001b[0m\n\u001b[0;32m     88\u001b[0m \u001b[1;33m\u001b[0m\u001b[0m\n",
      "\u001b[1;31mTypeError\u001b[0m: only integer scalar arrays can be converted to a scalar index"
     ]
    }
   ],
   "source": [
    "p1 = df['produkt']=='p1'\n",
    "s211 = df['sklep']=='s211'\n",
    "np.all(p1.values, s211.values)"
   ]
  },
  {
   "cell_type": "code",
   "execution_count": 212,
   "metadata": {},
   "outputs": [
    {
     "name": "stdout",
     "output_type": "stream",
     "text": [
      "typ1: [0 1 2 3 4 5 6]\n",
      "typ2: [-2  0  1  2  3  4  5]\n",
      "typ3: [0 1 2 3 5]\n",
      "typ4: [0 1 2 3 4]\n",
      "typ5: [0 1 2 3]\n",
      "typ6: [0 1 2 3 4 5 6 7 8 9]\n",
      "typ7: [0 1 2 3 4 5 6 9]\n",
      "typ8: [0 1 2 3 4]\n",
      "typ9: [ 0  1  2  3  4  5  6  7  8  9 10]\n"
     ]
    }
   ],
   "source": [
    "for i in range(1, 10):\n",
    "    a = np.unique(np.array((df['typ'+str(i)]).values, dtype=int))\n",
    "    print('typ'+str(i)+':', a)"
   ]
  },
  {
   "cell_type": "code",
   "execution_count": 208,
   "metadata": {},
   "outputs": [
    {
     "data": {
      "text/plain": [
       "array([ 1,  2,  0, -1,  0])"
      ]
     },
     "execution_count": 208,
     "metadata": {},
     "output_type": "execute_result"
    }
   ],
   "source": [
    "np.array([1, 2, 0.2, -1, 0.7], dtype=int)"
   ]
  },
  {
   "cell_type": "code",
   "execution_count": 17,
   "metadata": {},
   "outputs": [
    {
     "name": "stdout",
     "output_type": "stream",
     "text": [
      "<class 'pandas.core.frame.DataFrame'>\n",
      "Int64Index: 35775 entries, 0 to 35774\n",
      "Data columns (total 14 columns):\n",
      "sprzedaz    35775 non-null int64\n",
      "produkt     35775 non-null object\n",
      "sklep       35775 non-null object\n",
      "tydzien     35775 non-null datetime64[ns]\n",
      "cena        35775 non-null float64\n",
      "typ1        35775 non-null float64\n",
      "typ2        35775 non-null float64\n",
      "typ3        35775 non-null float64\n",
      "typ4        35775 non-null float64\n",
      "typ5        35775 non-null float64\n",
      "typ6        35775 non-null float64\n",
      "typ7        35775 non-null float64\n",
      "typ8        35775 non-null float64\n",
      "typ9        35775 non-null float64\n",
      "dtypes: datetime64[ns](1), float64(10), int64(1), object(2)\n",
      "memory usage: 4.1+ MB\n"
     ]
    }
   ],
   "source": [
    "p1_df = df[df['produkt']=='p1']\n",
    "p1_df.info()"
   ]
  },
  {
   "cell_type": "code",
   "execution_count": 25,
   "metadata": {
    "scrolled": true
   },
   "outputs": [
    {
     "data": {
      "text/html": [
       "<div>\n",
       "<style scoped>\n",
       "    .dataframe tbody tr th:only-of-type {\n",
       "        vertical-align: middle;\n",
       "    }\n",
       "\n",
       "    .dataframe tbody tr th {\n",
       "        vertical-align: top;\n",
       "    }\n",
       "\n",
       "    .dataframe thead th {\n",
       "        text-align: right;\n",
       "    }\n",
       "</style>\n",
       "<table border=\"1\" class=\"dataframe\">\n",
       "  <thead>\n",
       "    <tr style=\"text-align: right;\">\n",
       "      <th></th>\n",
       "      <th>sprzedaz</th>\n",
       "      <th>cena</th>\n",
       "      <th>typ1</th>\n",
       "      <th>typ2</th>\n",
       "      <th>typ3</th>\n",
       "      <th>typ4</th>\n",
       "      <th>typ5</th>\n",
       "      <th>typ6</th>\n",
       "      <th>typ7</th>\n",
       "      <th>typ8</th>\n",
       "      <th>typ9</th>\n",
       "    </tr>\n",
       "    <tr>\n",
       "      <th>tydzien</th>\n",
       "      <th></th>\n",
       "      <th></th>\n",
       "      <th></th>\n",
       "      <th></th>\n",
       "      <th></th>\n",
       "      <th></th>\n",
       "      <th></th>\n",
       "      <th></th>\n",
       "      <th></th>\n",
       "      <th></th>\n",
       "      <th></th>\n",
       "    </tr>\n",
       "  </thead>\n",
       "  <tbody>\n",
       "    <tr>\n",
       "      <th>2017-08-17</th>\n",
       "      <td>86436</td>\n",
       "      <td>1090.437021</td>\n",
       "      <td>96.00</td>\n",
       "      <td>1.0</td>\n",
       "      <td>0.0</td>\n",
       "      <td>0.0</td>\n",
       "      <td>1.0</td>\n",
       "      <td>52.00</td>\n",
       "      <td>0.00</td>\n",
       "      <td>0.0</td>\n",
       "      <td>0.0</td>\n",
       "    </tr>\n",
       "    <tr>\n",
       "      <th>2017-08-24</th>\n",
       "      <td>61166</td>\n",
       "      <td>1193.664246</td>\n",
       "      <td>12.00</td>\n",
       "      <td>1.0</td>\n",
       "      <td>0.0</td>\n",
       "      <td>0.0</td>\n",
       "      <td>1.0</td>\n",
       "      <td>10.00</td>\n",
       "      <td>0.00</td>\n",
       "      <td>2.0</td>\n",
       "      <td>0.0</td>\n",
       "    </tr>\n",
       "    <tr>\n",
       "      <th>2017-08-31</th>\n",
       "      <td>51177</td>\n",
       "      <td>1187.326955</td>\n",
       "      <td>11.00</td>\n",
       "      <td>0.0</td>\n",
       "      <td>0.0</td>\n",
       "      <td>0.0</td>\n",
       "      <td>0.0</td>\n",
       "      <td>2.00</td>\n",
       "      <td>0.00</td>\n",
       "      <td>0.0</td>\n",
       "      <td>0.0</td>\n",
       "    </tr>\n",
       "    <tr>\n",
       "      <th>2017-09-07</th>\n",
       "      <td>74299</td>\n",
       "      <td>1012.086711</td>\n",
       "      <td>43.60</td>\n",
       "      <td>2.0</td>\n",
       "      <td>0.0</td>\n",
       "      <td>0.0</td>\n",
       "      <td>1.0</td>\n",
       "      <td>4.00</td>\n",
       "      <td>0.00</td>\n",
       "      <td>0.0</td>\n",
       "      <td>0.0</td>\n",
       "    </tr>\n",
       "    <tr>\n",
       "      <th>2017-09-14</th>\n",
       "      <td>75341</td>\n",
       "      <td>1020.937134</td>\n",
       "      <td>49.10</td>\n",
       "      <td>1.0</td>\n",
       "      <td>0.0</td>\n",
       "      <td>1.0</td>\n",
       "      <td>0.0</td>\n",
       "      <td>73.00</td>\n",
       "      <td>0.00</td>\n",
       "      <td>0.0</td>\n",
       "      <td>0.0</td>\n",
       "    </tr>\n",
       "    <tr>\n",
       "      <th>2017-09-21</th>\n",
       "      <td>63403</td>\n",
       "      <td>1093.188911</td>\n",
       "      <td>87.00</td>\n",
       "      <td>0.0</td>\n",
       "      <td>0.0</td>\n",
       "      <td>0.0</td>\n",
       "      <td>0.0</td>\n",
       "      <td>65.00</td>\n",
       "      <td>0.00</td>\n",
       "      <td>0.0</td>\n",
       "      <td>0.0</td>\n",
       "    </tr>\n",
       "    <tr>\n",
       "      <th>2017-09-28</th>\n",
       "      <td>123176</td>\n",
       "      <td>923.409974</td>\n",
       "      <td>98.25</td>\n",
       "      <td>0.0</td>\n",
       "      <td>0.0</td>\n",
       "      <td>0.0</td>\n",
       "      <td>0.0</td>\n",
       "      <td>101.00</td>\n",
       "      <td>0.00</td>\n",
       "      <td>2.0</td>\n",
       "      <td>0.0</td>\n",
       "    </tr>\n",
       "    <tr>\n",
       "      <th>2017-10-05</th>\n",
       "      <td>41813</td>\n",
       "      <td>1198.037121</td>\n",
       "      <td>2.00</td>\n",
       "      <td>0.0</td>\n",
       "      <td>0.0</td>\n",
       "      <td>0.0</td>\n",
       "      <td>0.0</td>\n",
       "      <td>2.00</td>\n",
       "      <td>0.00</td>\n",
       "      <td>0.0</td>\n",
       "      <td>0.0</td>\n",
       "    </tr>\n",
       "    <tr>\n",
       "      <th>2017-10-12</th>\n",
       "      <td>42600</td>\n",
       "      <td>1197.929190</td>\n",
       "      <td>6.10</td>\n",
       "      <td>0.0</td>\n",
       "      <td>0.0</td>\n",
       "      <td>0.0</td>\n",
       "      <td>0.0</td>\n",
       "      <td>0.00</td>\n",
       "      <td>0.00</td>\n",
       "      <td>0.0</td>\n",
       "      <td>0.0</td>\n",
       "    </tr>\n",
       "    <tr>\n",
       "      <th>2017-10-19</th>\n",
       "      <td>42949</td>\n",
       "      <td>1197.763992</td>\n",
       "      <td>2.00</td>\n",
       "      <td>0.0</td>\n",
       "      <td>0.0</td>\n",
       "      <td>0.0</td>\n",
       "      <td>0.0</td>\n",
       "      <td>2.00</td>\n",
       "      <td>0.00</td>\n",
       "      <td>0.0</td>\n",
       "      <td>0.0</td>\n",
       "    </tr>\n",
       "    <tr>\n",
       "      <th>2017-10-26</th>\n",
       "      <td>99207</td>\n",
       "      <td>1016.273090</td>\n",
       "      <td>10.00</td>\n",
       "      <td>0.0</td>\n",
       "      <td>0.0</td>\n",
       "      <td>0.0</td>\n",
       "      <td>1.0</td>\n",
       "      <td>35.00</td>\n",
       "      <td>0.00</td>\n",
       "      <td>0.0</td>\n",
       "      <td>0.0</td>\n",
       "    </tr>\n",
       "    <tr>\n",
       "      <th>2017-11-02</th>\n",
       "      <td>74845</td>\n",
       "      <td>1025.594487</td>\n",
       "      <td>6.00</td>\n",
       "      <td>0.0</td>\n",
       "      <td>0.0</td>\n",
       "      <td>0.0</td>\n",
       "      <td>3.0</td>\n",
       "      <td>9.00</td>\n",
       "      <td>0.00</td>\n",
       "      <td>0.0</td>\n",
       "      <td>0.0</td>\n",
       "    </tr>\n",
       "    <tr>\n",
       "      <th>2017-11-09</th>\n",
       "      <td>79467</td>\n",
       "      <td>1025.104839</td>\n",
       "      <td>9.00</td>\n",
       "      <td>0.0</td>\n",
       "      <td>0.0</td>\n",
       "      <td>1.0</td>\n",
       "      <td>1.0</td>\n",
       "      <td>2.00</td>\n",
       "      <td>0.00</td>\n",
       "      <td>0.0</td>\n",
       "      <td>0.0</td>\n",
       "    </tr>\n",
       "    <tr>\n",
       "      <th>2017-11-16</th>\n",
       "      <td>82529</td>\n",
       "      <td>1025.238377</td>\n",
       "      <td>51.00</td>\n",
       "      <td>5.0</td>\n",
       "      <td>0.0</td>\n",
       "      <td>58.0</td>\n",
       "      <td>0.0</td>\n",
       "      <td>2.00</td>\n",
       "      <td>0.00</td>\n",
       "      <td>0.0</td>\n",
       "      <td>0.0</td>\n",
       "    </tr>\n",
       "    <tr>\n",
       "      <th>2017-11-23</th>\n",
       "      <td>125674</td>\n",
       "      <td>979.759330</td>\n",
       "      <td>61.75</td>\n",
       "      <td>0.0</td>\n",
       "      <td>0.0</td>\n",
       "      <td>0.0</td>\n",
       "      <td>0.0</td>\n",
       "      <td>11.00</td>\n",
       "      <td>0.00</td>\n",
       "      <td>0.0</td>\n",
       "      <td>0.0</td>\n",
       "    </tr>\n",
       "    <tr>\n",
       "      <th>2017-11-30</th>\n",
       "      <td>109679</td>\n",
       "      <td>1026.114113</td>\n",
       "      <td>3.00</td>\n",
       "      <td>0.0</td>\n",
       "      <td>0.0</td>\n",
       "      <td>0.0</td>\n",
       "      <td>0.0</td>\n",
       "      <td>2.00</td>\n",
       "      <td>0.00</td>\n",
       "      <td>0.0</td>\n",
       "      <td>0.0</td>\n",
       "    </tr>\n",
       "    <tr>\n",
       "      <th>2017-12-07</th>\n",
       "      <td>113343</td>\n",
       "      <td>1025.572901</td>\n",
       "      <td>38.00</td>\n",
       "      <td>0.0</td>\n",
       "      <td>0.0</td>\n",
       "      <td>27.0</td>\n",
       "      <td>0.0</td>\n",
       "      <td>64.00</td>\n",
       "      <td>0.00</td>\n",
       "      <td>0.0</td>\n",
       "      <td>0.0</td>\n",
       "    </tr>\n",
       "    <tr>\n",
       "      <th>2017-12-14</th>\n",
       "      <td>143261</td>\n",
       "      <td>1025.549437</td>\n",
       "      <td>3.00</td>\n",
       "      <td>1.0</td>\n",
       "      <td>0.0</td>\n",
       "      <td>0.0</td>\n",
       "      <td>1.0</td>\n",
       "      <td>2.00</td>\n",
       "      <td>0.00</td>\n",
       "      <td>0.0</td>\n",
       "      <td>0.0</td>\n",
       "    </tr>\n",
       "    <tr>\n",
       "      <th>2017-12-21</th>\n",
       "      <td>132830</td>\n",
       "      <td>1025.205251</td>\n",
       "      <td>3.00</td>\n",
       "      <td>0.0</td>\n",
       "      <td>0.0</td>\n",
       "      <td>0.0</td>\n",
       "      <td>1.0</td>\n",
       "      <td>0.00</td>\n",
       "      <td>0.00</td>\n",
       "      <td>0.0</td>\n",
       "      <td>0.0</td>\n",
       "    </tr>\n",
       "    <tr>\n",
       "      <th>2017-12-28</th>\n",
       "      <td>106647</td>\n",
       "      <td>1025.607677</td>\n",
       "      <td>1.00</td>\n",
       "      <td>0.0</td>\n",
       "      <td>0.0</td>\n",
       "      <td>0.0</td>\n",
       "      <td>0.0</td>\n",
       "      <td>0.00</td>\n",
       "      <td>0.00</td>\n",
       "      <td>0.0</td>\n",
       "      <td>0.0</td>\n",
       "    </tr>\n",
       "    <tr>\n",
       "      <th>2018-01-04</th>\n",
       "      <td>94582</td>\n",
       "      <td>1321.750306</td>\n",
       "      <td>4.00</td>\n",
       "      <td>1.0</td>\n",
       "      <td>0.0</td>\n",
       "      <td>0.0</td>\n",
       "      <td>0.0</td>\n",
       "      <td>5.00</td>\n",
       "      <td>0.00</td>\n",
       "      <td>0.0</td>\n",
       "      <td>0.0</td>\n",
       "    </tr>\n",
       "    <tr>\n",
       "      <th>2018-01-11</th>\n",
       "      <td>88644</td>\n",
       "      <td>1025.707796</td>\n",
       "      <td>4.00</td>\n",
       "      <td>0.0</td>\n",
       "      <td>0.0</td>\n",
       "      <td>0.0</td>\n",
       "      <td>0.0</td>\n",
       "      <td>2.00</td>\n",
       "      <td>0.00</td>\n",
       "      <td>1.0</td>\n",
       "      <td>0.0</td>\n",
       "    </tr>\n",
       "    <tr>\n",
       "      <th>2018-01-18</th>\n",
       "      <td>86559</td>\n",
       "      <td>1025.738855</td>\n",
       "      <td>1.00</td>\n",
       "      <td>0.0</td>\n",
       "      <td>0.0</td>\n",
       "      <td>0.0</td>\n",
       "      <td>1.0</td>\n",
       "      <td>0.00</td>\n",
       "      <td>0.00</td>\n",
       "      <td>0.0</td>\n",
       "      <td>0.0</td>\n",
       "    </tr>\n",
       "    <tr>\n",
       "      <th>2018-01-25</th>\n",
       "      <td>88247</td>\n",
       "      <td>1025.839635</td>\n",
       "      <td>2.00</td>\n",
       "      <td>0.0</td>\n",
       "      <td>0.0</td>\n",
       "      <td>0.0</td>\n",
       "      <td>0.0</td>\n",
       "      <td>0.00</td>\n",
       "      <td>0.00</td>\n",
       "      <td>1.0</td>\n",
       "      <td>0.0</td>\n",
       "    </tr>\n",
       "    <tr>\n",
       "      <th>2018-02-01</th>\n",
       "      <td>96578</td>\n",
       "      <td>1025.506963</td>\n",
       "      <td>0.00</td>\n",
       "      <td>0.0</td>\n",
       "      <td>0.0</td>\n",
       "      <td>0.0</td>\n",
       "      <td>2.0</td>\n",
       "      <td>6.00</td>\n",
       "      <td>0.00</td>\n",
       "      <td>0.0</td>\n",
       "      <td>0.0</td>\n",
       "    </tr>\n",
       "    <tr>\n",
       "      <th>2018-02-08</th>\n",
       "      <td>108239</td>\n",
       "      <td>1025.250427</td>\n",
       "      <td>1.00</td>\n",
       "      <td>0.0</td>\n",
       "      <td>0.0</td>\n",
       "      <td>1.0</td>\n",
       "      <td>0.0</td>\n",
       "      <td>0.00</td>\n",
       "      <td>0.00</td>\n",
       "      <td>0.0</td>\n",
       "      <td>0.0</td>\n",
       "    </tr>\n",
       "    <tr>\n",
       "      <th>2018-02-15</th>\n",
       "      <td>112818</td>\n",
       "      <td>1025.384350</td>\n",
       "      <td>0.00</td>\n",
       "      <td>2.0</td>\n",
       "      <td>0.0</td>\n",
       "      <td>0.0</td>\n",
       "      <td>0.0</td>\n",
       "      <td>9.00</td>\n",
       "      <td>0.00</td>\n",
       "      <td>0.0</td>\n",
       "      <td>0.0</td>\n",
       "    </tr>\n",
       "    <tr>\n",
       "      <th>2018-02-22</th>\n",
       "      <td>105686</td>\n",
       "      <td>1025.307697</td>\n",
       "      <td>0.00</td>\n",
       "      <td>0.0</td>\n",
       "      <td>0.0</td>\n",
       "      <td>0.0</td>\n",
       "      <td>0.0</td>\n",
       "      <td>1.00</td>\n",
       "      <td>0.00</td>\n",
       "      <td>0.0</td>\n",
       "      <td>0.0</td>\n",
       "    </tr>\n",
       "    <tr>\n",
       "      <th>2018-03-01</th>\n",
       "      <td>99026</td>\n",
       "      <td>1092.161794</td>\n",
       "      <td>0.00</td>\n",
       "      <td>0.0</td>\n",
       "      <td>0.0</td>\n",
       "      <td>42.0</td>\n",
       "      <td>1.0</td>\n",
       "      <td>3.00</td>\n",
       "      <td>0.00</td>\n",
       "      <td>0.0</td>\n",
       "      <td>0.0</td>\n",
       "    </tr>\n",
       "    <tr>\n",
       "      <th>2018-03-08</th>\n",
       "      <td>116813</td>\n",
       "      <td>1065.839751</td>\n",
       "      <td>0.00</td>\n",
       "      <td>0.0</td>\n",
       "      <td>0.0</td>\n",
       "      <td>43.0</td>\n",
       "      <td>0.0</td>\n",
       "      <td>0.00</td>\n",
       "      <td>0.00</td>\n",
       "      <td>0.0</td>\n",
       "      <td>0.0</td>\n",
       "    </tr>\n",
       "    <tr>\n",
       "      <th>...</th>\n",
       "      <td>...</td>\n",
       "      <td>...</td>\n",
       "      <td>...</td>\n",
       "      <td>...</td>\n",
       "      <td>...</td>\n",
       "      <td>...</td>\n",
       "      <td>...</td>\n",
       "      <td>...</td>\n",
       "      <td>...</td>\n",
       "      <td>...</td>\n",
       "      <td>...</td>\n",
       "    </tr>\n",
       "    <tr>\n",
       "      <th>2019-01-17</th>\n",
       "      <td>98702</td>\n",
       "      <td>1069.676194</td>\n",
       "      <td>0.00</td>\n",
       "      <td>0.0</td>\n",
       "      <td>0.0</td>\n",
       "      <td>1.0</td>\n",
       "      <td>0.0</td>\n",
       "      <td>16.25</td>\n",
       "      <td>20.00</td>\n",
       "      <td>0.0</td>\n",
       "      <td>0.0</td>\n",
       "    </tr>\n",
       "    <tr>\n",
       "      <th>2019-01-24</th>\n",
       "      <td>102484</td>\n",
       "      <td>1078.733649</td>\n",
       "      <td>1.00</td>\n",
       "      <td>0.0</td>\n",
       "      <td>0.0</td>\n",
       "      <td>3.0</td>\n",
       "      <td>0.0</td>\n",
       "      <td>12.00</td>\n",
       "      <td>27.75</td>\n",
       "      <td>0.0</td>\n",
       "      <td>0.0</td>\n",
       "    </tr>\n",
       "    <tr>\n",
       "      <th>2019-01-31</th>\n",
       "      <td>92765</td>\n",
       "      <td>1071.423837</td>\n",
       "      <td>0.00</td>\n",
       "      <td>0.0</td>\n",
       "      <td>0.0</td>\n",
       "      <td>0.0</td>\n",
       "      <td>0.0</td>\n",
       "      <td>0.00</td>\n",
       "      <td>0.00</td>\n",
       "      <td>0.0</td>\n",
       "      <td>0.0</td>\n",
       "    </tr>\n",
       "    <tr>\n",
       "      <th>2019-02-07</th>\n",
       "      <td>76219</td>\n",
       "      <td>1162.725752</td>\n",
       "      <td>0.00</td>\n",
       "      <td>0.0</td>\n",
       "      <td>0.0</td>\n",
       "      <td>0.0</td>\n",
       "      <td>0.0</td>\n",
       "      <td>0.00</td>\n",
       "      <td>0.00</td>\n",
       "      <td>0.0</td>\n",
       "      <td>0.0</td>\n",
       "    </tr>\n",
       "    <tr>\n",
       "      <th>2019-02-14</th>\n",
       "      <td>72983</td>\n",
       "      <td>1162.780604</td>\n",
       "      <td>0.00</td>\n",
       "      <td>0.0</td>\n",
       "      <td>0.0</td>\n",
       "      <td>0.0</td>\n",
       "      <td>0.0</td>\n",
       "      <td>0.00</td>\n",
       "      <td>0.00</td>\n",
       "      <td>0.0</td>\n",
       "      <td>0.0</td>\n",
       "    </tr>\n",
       "    <tr>\n",
       "      <th>2019-02-21</th>\n",
       "      <td>75337</td>\n",
       "      <td>1162.973260</td>\n",
       "      <td>0.00</td>\n",
       "      <td>0.0</td>\n",
       "      <td>0.0</td>\n",
       "      <td>0.0</td>\n",
       "      <td>0.0</td>\n",
       "      <td>0.00</td>\n",
       "      <td>0.00</td>\n",
       "      <td>0.0</td>\n",
       "      <td>0.0</td>\n",
       "    </tr>\n",
       "    <tr>\n",
       "      <th>2019-02-28</th>\n",
       "      <td>68793</td>\n",
       "      <td>1163.088875</td>\n",
       "      <td>0.00</td>\n",
       "      <td>0.0</td>\n",
       "      <td>0.0</td>\n",
       "      <td>0.0</td>\n",
       "      <td>0.0</td>\n",
       "      <td>0.00</td>\n",
       "      <td>0.00</td>\n",
       "      <td>0.0</td>\n",
       "      <td>0.0</td>\n",
       "    </tr>\n",
       "    <tr>\n",
       "      <th>2019-03-07</th>\n",
       "      <td>135615</td>\n",
       "      <td>1025.069172</td>\n",
       "      <td>59.00</td>\n",
       "      <td>3.0</td>\n",
       "      <td>0.0</td>\n",
       "      <td>0.0</td>\n",
       "      <td>0.0</td>\n",
       "      <td>105.50</td>\n",
       "      <td>24.00</td>\n",
       "      <td>0.0</td>\n",
       "      <td>0.0</td>\n",
       "    </tr>\n",
       "    <tr>\n",
       "      <th>2019-03-14</th>\n",
       "      <td>66643</td>\n",
       "      <td>1162.782595</td>\n",
       "      <td>5.00</td>\n",
       "      <td>0.0</td>\n",
       "      <td>0.0</td>\n",
       "      <td>0.0</td>\n",
       "      <td>0.0</td>\n",
       "      <td>0.00</td>\n",
       "      <td>0.00</td>\n",
       "      <td>0.0</td>\n",
       "      <td>0.0</td>\n",
       "    </tr>\n",
       "    <tr>\n",
       "      <th>2019-03-21</th>\n",
       "      <td>64139</td>\n",
       "      <td>1155.508494</td>\n",
       "      <td>2.00</td>\n",
       "      <td>0.0</td>\n",
       "      <td>0.0</td>\n",
       "      <td>0.0</td>\n",
       "      <td>0.0</td>\n",
       "      <td>0.00</td>\n",
       "      <td>0.00</td>\n",
       "      <td>0.0</td>\n",
       "      <td>0.0</td>\n",
       "    </tr>\n",
       "    <tr>\n",
       "      <th>2019-03-28</th>\n",
       "      <td>65105</td>\n",
       "      <td>1163.359721</td>\n",
       "      <td>0.00</td>\n",
       "      <td>0.0</td>\n",
       "      <td>0.0</td>\n",
       "      <td>0.0</td>\n",
       "      <td>0.0</td>\n",
       "      <td>0.00</td>\n",
       "      <td>0.00</td>\n",
       "      <td>0.0</td>\n",
       "      <td>0.0</td>\n",
       "    </tr>\n",
       "    <tr>\n",
       "      <th>2019-04-04</th>\n",
       "      <td>66362</td>\n",
       "      <td>1162.917329</td>\n",
       "      <td>0.00</td>\n",
       "      <td>0.0</td>\n",
       "      <td>0.0</td>\n",
       "      <td>0.0</td>\n",
       "      <td>0.0</td>\n",
       "      <td>0.00</td>\n",
       "      <td>0.00</td>\n",
       "      <td>0.0</td>\n",
       "      <td>0.0</td>\n",
       "    </tr>\n",
       "    <tr>\n",
       "      <th>2019-04-11</th>\n",
       "      <td>89657</td>\n",
       "      <td>1158.760885</td>\n",
       "      <td>2.00</td>\n",
       "      <td>0.0</td>\n",
       "      <td>0.0</td>\n",
       "      <td>0.0</td>\n",
       "      <td>0.0</td>\n",
       "      <td>0.00</td>\n",
       "      <td>0.00</td>\n",
       "      <td>0.0</td>\n",
       "      <td>0.0</td>\n",
       "    </tr>\n",
       "    <tr>\n",
       "      <th>2019-04-18</th>\n",
       "      <td>116466</td>\n",
       "      <td>1133.503792</td>\n",
       "      <td>1.00</td>\n",
       "      <td>0.0</td>\n",
       "      <td>0.0</td>\n",
       "      <td>0.0</td>\n",
       "      <td>0.0</td>\n",
       "      <td>1.00</td>\n",
       "      <td>2.00</td>\n",
       "      <td>0.0</td>\n",
       "      <td>0.0</td>\n",
       "    </tr>\n",
       "    <tr>\n",
       "      <th>2019-04-25</th>\n",
       "      <td>148313</td>\n",
       "      <td>1062.227320</td>\n",
       "      <td>97.70</td>\n",
       "      <td>3.0</td>\n",
       "      <td>0.0</td>\n",
       "      <td>0.0</td>\n",
       "      <td>0.0</td>\n",
       "      <td>14.00</td>\n",
       "      <td>154.25</td>\n",
       "      <td>1.0</td>\n",
       "      <td>0.0</td>\n",
       "    </tr>\n",
       "    <tr>\n",
       "      <th>2019-05-02</th>\n",
       "      <td>121158</td>\n",
       "      <td>1064.030294</td>\n",
       "      <td>5.00</td>\n",
       "      <td>0.0</td>\n",
       "      <td>0.0</td>\n",
       "      <td>0.0</td>\n",
       "      <td>0.0</td>\n",
       "      <td>0.00</td>\n",
       "      <td>2.00</td>\n",
       "      <td>0.0</td>\n",
       "      <td>0.0</td>\n",
       "    </tr>\n",
       "    <tr>\n",
       "      <th>2019-05-09</th>\n",
       "      <td>130984</td>\n",
       "      <td>1061.656271</td>\n",
       "      <td>129.00</td>\n",
       "      <td>2.0</td>\n",
       "      <td>5.5</td>\n",
       "      <td>0.0</td>\n",
       "      <td>0.0</td>\n",
       "      <td>149.00</td>\n",
       "      <td>70.10</td>\n",
       "      <td>6.0</td>\n",
       "      <td>0.0</td>\n",
       "    </tr>\n",
       "    <tr>\n",
       "      <th>2019-05-16</th>\n",
       "      <td>117883</td>\n",
       "      <td>1064.199191</td>\n",
       "      <td>119.00</td>\n",
       "      <td>3.0</td>\n",
       "      <td>2.0</td>\n",
       "      <td>0.0</td>\n",
       "      <td>0.0</td>\n",
       "      <td>97.50</td>\n",
       "      <td>78.60</td>\n",
       "      <td>2.5</td>\n",
       "      <td>0.0</td>\n",
       "    </tr>\n",
       "    <tr>\n",
       "      <th>2019-05-23</th>\n",
       "      <td>70688</td>\n",
       "      <td>1149.357208</td>\n",
       "      <td>0.00</td>\n",
       "      <td>0.0</td>\n",
       "      <td>0.0</td>\n",
       "      <td>0.0</td>\n",
       "      <td>0.0</td>\n",
       "      <td>0.00</td>\n",
       "      <td>0.00</td>\n",
       "      <td>0.0</td>\n",
       "      <td>0.0</td>\n",
       "    </tr>\n",
       "    <tr>\n",
       "      <th>2019-05-30</th>\n",
       "      <td>124123</td>\n",
       "      <td>1064.268363</td>\n",
       "      <td>62.00</td>\n",
       "      <td>29.0</td>\n",
       "      <td>1.0</td>\n",
       "      <td>0.0</td>\n",
       "      <td>1.0</td>\n",
       "      <td>31.10</td>\n",
       "      <td>48.70</td>\n",
       "      <td>2.0</td>\n",
       "      <td>0.0</td>\n",
       "    </tr>\n",
       "    <tr>\n",
       "      <th>2019-06-06</th>\n",
       "      <td>142404</td>\n",
       "      <td>1059.963223</td>\n",
       "      <td>60.00</td>\n",
       "      <td>30.0</td>\n",
       "      <td>0.0</td>\n",
       "      <td>1.0</td>\n",
       "      <td>0.0</td>\n",
       "      <td>40.50</td>\n",
       "      <td>53.00</td>\n",
       "      <td>7.0</td>\n",
       "      <td>0.0</td>\n",
       "    </tr>\n",
       "    <tr>\n",
       "      <th>2019-06-13</th>\n",
       "      <td>160865</td>\n",
       "      <td>1056.117745</td>\n",
       "      <td>47.00</td>\n",
       "      <td>18.0</td>\n",
       "      <td>1.0</td>\n",
       "      <td>1.0</td>\n",
       "      <td>1.0</td>\n",
       "      <td>30.00</td>\n",
       "      <td>48.00</td>\n",
       "      <td>5.5</td>\n",
       "      <td>0.0</td>\n",
       "    </tr>\n",
       "    <tr>\n",
       "      <th>2019-06-20</th>\n",
       "      <td>122444</td>\n",
       "      <td>1062.042457</td>\n",
       "      <td>52.00</td>\n",
       "      <td>13.0</td>\n",
       "      <td>1.0</td>\n",
       "      <td>2.0</td>\n",
       "      <td>1.0</td>\n",
       "      <td>27.50</td>\n",
       "      <td>45.70</td>\n",
       "      <td>1.0</td>\n",
       "      <td>0.0</td>\n",
       "    </tr>\n",
       "    <tr>\n",
       "      <th>2019-06-27</th>\n",
       "      <td>159038</td>\n",
       "      <td>1062.204595</td>\n",
       "      <td>8.00</td>\n",
       "      <td>1.0</td>\n",
       "      <td>0.0</td>\n",
       "      <td>0.0</td>\n",
       "      <td>0.0</td>\n",
       "      <td>1.00</td>\n",
       "      <td>0.00</td>\n",
       "      <td>0.0</td>\n",
       "      <td>0.0</td>\n",
       "    </tr>\n",
       "    <tr>\n",
       "      <th>2019-07-04</th>\n",
       "      <td>67361</td>\n",
       "      <td>1162.898022</td>\n",
       "      <td>3.00</td>\n",
       "      <td>0.0</td>\n",
       "      <td>0.0</td>\n",
       "      <td>0.0</td>\n",
       "      <td>0.0</td>\n",
       "      <td>0.00</td>\n",
       "      <td>0.00</td>\n",
       "      <td>0.0</td>\n",
       "      <td>0.0</td>\n",
       "    </tr>\n",
       "    <tr>\n",
       "      <th>2019-07-11</th>\n",
       "      <td>68481</td>\n",
       "      <td>1160.854496</td>\n",
       "      <td>0.00</td>\n",
       "      <td>0.0</td>\n",
       "      <td>0.0</td>\n",
       "      <td>0.0</td>\n",
       "      <td>0.0</td>\n",
       "      <td>0.00</td>\n",
       "      <td>0.00</td>\n",
       "      <td>0.0</td>\n",
       "      <td>0.0</td>\n",
       "    </tr>\n",
       "    <tr>\n",
       "      <th>2019-07-18</th>\n",
       "      <td>78239</td>\n",
       "      <td>1163.171238</td>\n",
       "      <td>0.00</td>\n",
       "      <td>0.0</td>\n",
       "      <td>0.0</td>\n",
       "      <td>0.0</td>\n",
       "      <td>0.0</td>\n",
       "      <td>0.00</td>\n",
       "      <td>0.00</td>\n",
       "      <td>0.0</td>\n",
       "      <td>0.0</td>\n",
       "    </tr>\n",
       "    <tr>\n",
       "      <th>2019-07-25</th>\n",
       "      <td>223664</td>\n",
       "      <td>1023.000388</td>\n",
       "      <td>0.00</td>\n",
       "      <td>0.0</td>\n",
       "      <td>0.0</td>\n",
       "      <td>0.0</td>\n",
       "      <td>0.0</td>\n",
       "      <td>0.00</td>\n",
       "      <td>0.00</td>\n",
       "      <td>0.0</td>\n",
       "      <td>0.0</td>\n",
       "    </tr>\n",
       "    <tr>\n",
       "      <th>2019-08-01</th>\n",
       "      <td>76737</td>\n",
       "      <td>1163.721854</td>\n",
       "      <td>0.00</td>\n",
       "      <td>0.0</td>\n",
       "      <td>0.0</td>\n",
       "      <td>0.0</td>\n",
       "      <td>0.0</td>\n",
       "      <td>0.00</td>\n",
       "      <td>0.00</td>\n",
       "      <td>0.0</td>\n",
       "      <td>0.0</td>\n",
       "    </tr>\n",
       "    <tr>\n",
       "      <th>2019-08-08</th>\n",
       "      <td>93468</td>\n",
       "      <td>1160.450645</td>\n",
       "      <td>0.00</td>\n",
       "      <td>0.0</td>\n",
       "      <td>0.0</td>\n",
       "      <td>0.0</td>\n",
       "      <td>0.0</td>\n",
       "      <td>0.00</td>\n",
       "      <td>0.00</td>\n",
       "      <td>0.0</td>\n",
       "      <td>0.0</td>\n",
       "    </tr>\n",
       "  </tbody>\n",
       "</table>\n",
       "<p>104 rows × 11 columns</p>\n",
       "</div>"
      ],
      "text/plain": [
       "            sprzedaz         cena    typ1  typ2  typ3  typ4  typ5    typ6  \\\n",
       "tydzien                                                                     \n",
       "2017-08-17     86436  1090.437021   96.00   1.0   0.0   0.0   1.0   52.00   \n",
       "2017-08-24     61166  1193.664246   12.00   1.0   0.0   0.0   1.0   10.00   \n",
       "2017-08-31     51177  1187.326955   11.00   0.0   0.0   0.0   0.0    2.00   \n",
       "2017-09-07     74299  1012.086711   43.60   2.0   0.0   0.0   1.0    4.00   \n",
       "2017-09-14     75341  1020.937134   49.10   1.0   0.0   1.0   0.0   73.00   \n",
       "2017-09-21     63403  1093.188911   87.00   0.0   0.0   0.0   0.0   65.00   \n",
       "2017-09-28    123176   923.409974   98.25   0.0   0.0   0.0   0.0  101.00   \n",
       "2017-10-05     41813  1198.037121    2.00   0.0   0.0   0.0   0.0    2.00   \n",
       "2017-10-12     42600  1197.929190    6.10   0.0   0.0   0.0   0.0    0.00   \n",
       "2017-10-19     42949  1197.763992    2.00   0.0   0.0   0.0   0.0    2.00   \n",
       "2017-10-26     99207  1016.273090   10.00   0.0   0.0   0.0   1.0   35.00   \n",
       "2017-11-02     74845  1025.594487    6.00   0.0   0.0   0.0   3.0    9.00   \n",
       "2017-11-09     79467  1025.104839    9.00   0.0   0.0   1.0   1.0    2.00   \n",
       "2017-11-16     82529  1025.238377   51.00   5.0   0.0  58.0   0.0    2.00   \n",
       "2017-11-23    125674   979.759330   61.75   0.0   0.0   0.0   0.0   11.00   \n",
       "2017-11-30    109679  1026.114113    3.00   0.0   0.0   0.0   0.0    2.00   \n",
       "2017-12-07    113343  1025.572901   38.00   0.0   0.0  27.0   0.0   64.00   \n",
       "2017-12-14    143261  1025.549437    3.00   1.0   0.0   0.0   1.0    2.00   \n",
       "2017-12-21    132830  1025.205251    3.00   0.0   0.0   0.0   1.0    0.00   \n",
       "2017-12-28    106647  1025.607677    1.00   0.0   0.0   0.0   0.0    0.00   \n",
       "2018-01-04     94582  1321.750306    4.00   1.0   0.0   0.0   0.0    5.00   \n",
       "2018-01-11     88644  1025.707796    4.00   0.0   0.0   0.0   0.0    2.00   \n",
       "2018-01-18     86559  1025.738855    1.00   0.0   0.0   0.0   1.0    0.00   \n",
       "2018-01-25     88247  1025.839635    2.00   0.0   0.0   0.0   0.0    0.00   \n",
       "2018-02-01     96578  1025.506963    0.00   0.0   0.0   0.0   2.0    6.00   \n",
       "2018-02-08    108239  1025.250427    1.00   0.0   0.0   1.0   0.0    0.00   \n",
       "2018-02-15    112818  1025.384350    0.00   2.0   0.0   0.0   0.0    9.00   \n",
       "2018-02-22    105686  1025.307697    0.00   0.0   0.0   0.0   0.0    1.00   \n",
       "2018-03-01     99026  1092.161794    0.00   0.0   0.0  42.0   1.0    3.00   \n",
       "2018-03-08    116813  1065.839751    0.00   0.0   0.0  43.0   0.0    0.00   \n",
       "...              ...          ...     ...   ...   ...   ...   ...     ...   \n",
       "2019-01-17     98702  1069.676194    0.00   0.0   0.0   1.0   0.0   16.25   \n",
       "2019-01-24    102484  1078.733649    1.00   0.0   0.0   3.0   0.0   12.00   \n",
       "2019-01-31     92765  1071.423837    0.00   0.0   0.0   0.0   0.0    0.00   \n",
       "2019-02-07     76219  1162.725752    0.00   0.0   0.0   0.0   0.0    0.00   \n",
       "2019-02-14     72983  1162.780604    0.00   0.0   0.0   0.0   0.0    0.00   \n",
       "2019-02-21     75337  1162.973260    0.00   0.0   0.0   0.0   0.0    0.00   \n",
       "2019-02-28     68793  1163.088875    0.00   0.0   0.0   0.0   0.0    0.00   \n",
       "2019-03-07    135615  1025.069172   59.00   3.0   0.0   0.0   0.0  105.50   \n",
       "2019-03-14     66643  1162.782595    5.00   0.0   0.0   0.0   0.0    0.00   \n",
       "2019-03-21     64139  1155.508494    2.00   0.0   0.0   0.0   0.0    0.00   \n",
       "2019-03-28     65105  1163.359721    0.00   0.0   0.0   0.0   0.0    0.00   \n",
       "2019-04-04     66362  1162.917329    0.00   0.0   0.0   0.0   0.0    0.00   \n",
       "2019-04-11     89657  1158.760885    2.00   0.0   0.0   0.0   0.0    0.00   \n",
       "2019-04-18    116466  1133.503792    1.00   0.0   0.0   0.0   0.0    1.00   \n",
       "2019-04-25    148313  1062.227320   97.70   3.0   0.0   0.0   0.0   14.00   \n",
       "2019-05-02    121158  1064.030294    5.00   0.0   0.0   0.0   0.0    0.00   \n",
       "2019-05-09    130984  1061.656271  129.00   2.0   5.5   0.0   0.0  149.00   \n",
       "2019-05-16    117883  1064.199191  119.00   3.0   2.0   0.0   0.0   97.50   \n",
       "2019-05-23     70688  1149.357208    0.00   0.0   0.0   0.0   0.0    0.00   \n",
       "2019-05-30    124123  1064.268363   62.00  29.0   1.0   0.0   1.0   31.10   \n",
       "2019-06-06    142404  1059.963223   60.00  30.0   0.0   1.0   0.0   40.50   \n",
       "2019-06-13    160865  1056.117745   47.00  18.0   1.0   1.0   1.0   30.00   \n",
       "2019-06-20    122444  1062.042457   52.00  13.0   1.0   2.0   1.0   27.50   \n",
       "2019-06-27    159038  1062.204595    8.00   1.0   0.0   0.0   0.0    1.00   \n",
       "2019-07-04     67361  1162.898022    3.00   0.0   0.0   0.0   0.0    0.00   \n",
       "2019-07-11     68481  1160.854496    0.00   0.0   0.0   0.0   0.0    0.00   \n",
       "2019-07-18     78239  1163.171238    0.00   0.0   0.0   0.0   0.0    0.00   \n",
       "2019-07-25    223664  1023.000388    0.00   0.0   0.0   0.0   0.0    0.00   \n",
       "2019-08-01     76737  1163.721854    0.00   0.0   0.0   0.0   0.0    0.00   \n",
       "2019-08-08     93468  1160.450645    0.00   0.0   0.0   0.0   0.0    0.00   \n",
       "\n",
       "              typ7  typ8  typ9  \n",
       "tydzien                         \n",
       "2017-08-17    0.00   0.0   0.0  \n",
       "2017-08-24    0.00   2.0   0.0  \n",
       "2017-08-31    0.00   0.0   0.0  \n",
       "2017-09-07    0.00   0.0   0.0  \n",
       "2017-09-14    0.00   0.0   0.0  \n",
       "2017-09-21    0.00   0.0   0.0  \n",
       "2017-09-28    0.00   2.0   0.0  \n",
       "2017-10-05    0.00   0.0   0.0  \n",
       "2017-10-12    0.00   0.0   0.0  \n",
       "2017-10-19    0.00   0.0   0.0  \n",
       "2017-10-26    0.00   0.0   0.0  \n",
       "2017-11-02    0.00   0.0   0.0  \n",
       "2017-11-09    0.00   0.0   0.0  \n",
       "2017-11-16    0.00   0.0   0.0  \n",
       "2017-11-23    0.00   0.0   0.0  \n",
       "2017-11-30    0.00   0.0   0.0  \n",
       "2017-12-07    0.00   0.0   0.0  \n",
       "2017-12-14    0.00   0.0   0.0  \n",
       "2017-12-21    0.00   0.0   0.0  \n",
       "2017-12-28    0.00   0.0   0.0  \n",
       "2018-01-04    0.00   0.0   0.0  \n",
       "2018-01-11    0.00   1.0   0.0  \n",
       "2018-01-18    0.00   0.0   0.0  \n",
       "2018-01-25    0.00   1.0   0.0  \n",
       "2018-02-01    0.00   0.0   0.0  \n",
       "2018-02-08    0.00   0.0   0.0  \n",
       "2018-02-15    0.00   0.0   0.0  \n",
       "2018-02-22    0.00   0.0   0.0  \n",
       "2018-03-01    0.00   0.0   0.0  \n",
       "2018-03-08    0.00   0.0   0.0  \n",
       "...            ...   ...   ...  \n",
       "2019-01-17   20.00   0.0   0.0  \n",
       "2019-01-24   27.75   0.0   0.0  \n",
       "2019-01-31    0.00   0.0   0.0  \n",
       "2019-02-07    0.00   0.0   0.0  \n",
       "2019-02-14    0.00   0.0   0.0  \n",
       "2019-02-21    0.00   0.0   0.0  \n",
       "2019-02-28    0.00   0.0   0.0  \n",
       "2019-03-07   24.00   0.0   0.0  \n",
       "2019-03-14    0.00   0.0   0.0  \n",
       "2019-03-21    0.00   0.0   0.0  \n",
       "2019-03-28    0.00   0.0   0.0  \n",
       "2019-04-04    0.00   0.0   0.0  \n",
       "2019-04-11    0.00   0.0   0.0  \n",
       "2019-04-18    2.00   0.0   0.0  \n",
       "2019-04-25  154.25   1.0   0.0  \n",
       "2019-05-02    2.00   0.0   0.0  \n",
       "2019-05-09   70.10   6.0   0.0  \n",
       "2019-05-16   78.60   2.5   0.0  \n",
       "2019-05-23    0.00   0.0   0.0  \n",
       "2019-05-30   48.70   2.0   0.0  \n",
       "2019-06-06   53.00   7.0   0.0  \n",
       "2019-06-13   48.00   5.5   0.0  \n",
       "2019-06-20   45.70   1.0   0.0  \n",
       "2019-06-27    0.00   0.0   0.0  \n",
       "2019-07-04    0.00   0.0   0.0  \n",
       "2019-07-11    0.00   0.0   0.0  \n",
       "2019-07-18    0.00   0.0   0.0  \n",
       "2019-07-25    0.00   0.0   0.0  \n",
       "2019-08-01    0.00   0.0   0.0  \n",
       "2019-08-08    0.00   0.0   0.0  \n",
       "\n",
       "[104 rows x 11 columns]"
      ]
     },
     "execution_count": 25,
     "metadata": {},
     "output_type": "execute_result"
    }
   ],
   "source": [
    "aggr_p1 = p1_df.groupby(by='tydzien').sum()\n",
    "aggr_p1"
   ]
  },
  {
   "cell_type": "code",
   "execution_count": 30,
   "metadata": {},
   "outputs": [
    {
     "data": {
      "text/plain": [
       "[<matplotlib.lines.Line2D at 0x13c20278>]"
      ]
     },
     "execution_count": 30,
     "metadata": {},
     "output_type": "execute_result"
    },
    {
     "data": {
      "image/png": "[encoded data removed]",
      "text/plain": [
       "<Figure size 432x288 with 1 Axes>"
      ]
     },
     "metadata": {
      "needs_background": "light"
     },
     "output_type": "display_data"
    }
   ],
   "source": [
    "plt.plot(range(1, 105), aggr_p1['sprzedaz'])\n",
    "plt.plot(range(1, 105), aggr_p1['cena'])\n"
   ]
  },
  {
   "cell_type": "code",
   "execution_count": 31,
   "metadata": {},
   "outputs": [
    {
     "data": {
      "text/plain": [
       "[<matplotlib.lines.Line2D at 0xca912b0>]"
      ]
     },
     "execution_count": 31,
     "metadata": {},
     "output_type": "execute_result"
    },
    {
     "data": {
      "image/png": "[encoded data removed]",
      "text/plain": [
       "<Figure size 432x288 with 1 Axes>"
      ]
     },
     "metadata": {
      "needs_background": "light"
     },
     "output_type": "display_data"
    }
   ],
   "source": [
    "plt.plot(range(1, 105), aggr_p1['cena'])"
   ]
  },
  {
   "cell_type": "code",
   "execution_count": 39,
   "metadata": {
    "scrolled": true
   },
   "outputs": [
    {
     "ename": "ValueError",
     "evalue": "x and y must have same first dimension, but have shapes (104,) and (208,)",
     "output_type": "error",
     "traceback": [
      "\u001b[1;31m---------------------------------------------------------------------------\u001b[0m",
      "\u001b[1;31mValueError\u001b[0m                                Traceback (most recent call last)",
      "\u001b[1;32m<ipython-input-39-3f4dffb4364e>\u001b[0m in \u001b[0;36m<module>\u001b[1;34m\u001b[0m\n\u001b[0;32m      1\u001b[0m \u001b[0ms149\u001b[0m \u001b[1;33m=\u001b[0m \u001b[0mp1_df\u001b[0m\u001b[1;33m[\u001b[0m\u001b[0mp1_df\u001b[0m\u001b[1;33m[\u001b[0m\u001b[1;34m'sklep'\u001b[0m\u001b[1;33m]\u001b[0m\u001b[1;33m==\u001b[0m\u001b[1;34m's149'\u001b[0m\u001b[1;33m]\u001b[0m\u001b[1;33m\u001b[0m\u001b[1;33m\u001b[0m\u001b[0m\n\u001b[1;32m----> 2\u001b[1;33m \u001b[0mplt\u001b[0m\u001b[1;33m.\u001b[0m\u001b[0mplot\u001b[0m\u001b[1;33m(\u001b[0m\u001b[0mrange\u001b[0m\u001b[1;33m(\u001b[0m\u001b[1;36m1\u001b[0m\u001b[1;33m,\u001b[0m \u001b[1;36m105\u001b[0m\u001b[1;33m)\u001b[0m\u001b[1;33m,\u001b[0m \u001b[0ms149\u001b[0m\u001b[1;33m[\u001b[0m\u001b[1;34m'sprzedaz'\u001b[0m\u001b[1;33m]\u001b[0m\u001b[1;33m)\u001b[0m\u001b[1;33m\u001b[0m\u001b[1;33m\u001b[0m\u001b[0m\n\u001b[0m\u001b[0;32m      3\u001b[0m \u001b[0mplt\u001b[0m\u001b[1;33m.\u001b[0m\u001b[0mplot\u001b[0m\u001b[1;33m(\u001b[0m\u001b[0mrange\u001b[0m\u001b[1;33m(\u001b[0m\u001b[1;36m1\u001b[0m\u001b[1;33m,\u001b[0m \u001b[1;36m105\u001b[0m\u001b[1;33m)\u001b[0m\u001b[1;33m,\u001b[0m \u001b[0ms149\u001b[0m\u001b[1;33m[\u001b[0m\u001b[1;34m'cena'\u001b[0m\u001b[1;33m]\u001b[0m\u001b[1;33m)\u001b[0m\u001b[1;33m\u001b[0m\u001b[1;33m\u001b[0m\u001b[0m\n",
      "\u001b[1;32m~\\Anaconda3\\lib\\site-packages\\matplotlib\\pyplot.py\u001b[0m in \u001b[0;36mplot\u001b[1;34m(scalex, scaley, data, *args, **kwargs)\u001b[0m\n\u001b[0;32m   2809\u001b[0m     return gca().plot(\n\u001b[0;32m   2810\u001b[0m         *args, scalex=scalex, scaley=scaley, **({\"data\": data} if data\n\u001b[1;32m-> 2811\u001b[1;33m         is not None else {}), **kwargs)\n\u001b[0m\u001b[0;32m   2812\u001b[0m \u001b[1;33m\u001b[0m\u001b[0m\n\u001b[0;32m   2813\u001b[0m \u001b[1;33m\u001b[0m\u001b[0m\n",
      "\u001b[1;32m~\\Anaconda3\\lib\\site-packages\\matplotlib\\__init__.py\u001b[0m in \u001b[0;36minner\u001b[1;34m(ax, data, *args, **kwargs)\u001b[0m\n\u001b[0;32m   1808\u001b[0m                         \u001b[1;34m\"the Matplotlib list!)\"\u001b[0m \u001b[1;33m%\u001b[0m \u001b[1;33m(\u001b[0m\u001b[0mlabel_namer\u001b[0m\u001b[1;33m,\u001b[0m \u001b[0mfunc\u001b[0m\u001b[1;33m.\u001b[0m\u001b[0m__name__\u001b[0m\u001b[1;33m)\u001b[0m\u001b[1;33m,\u001b[0m\u001b[1;33m\u001b[0m\u001b[1;33m\u001b[0m\u001b[0m\n\u001b[0;32m   1809\u001b[0m                         RuntimeWarning, stacklevel=2)\n\u001b[1;32m-> 1810\u001b[1;33m             \u001b[1;32mreturn\u001b[0m \u001b[0mfunc\u001b[0m\u001b[1;33m(\u001b[0m\u001b[0max\u001b[0m\u001b[1;33m,\u001b[0m \u001b[1;33m*\u001b[0m\u001b[0margs\u001b[0m\u001b[1;33m,\u001b[0m \u001b[1;33m**\u001b[0m\u001b[0mkwargs\u001b[0m\u001b[1;33m)\u001b[0m\u001b[1;33m\u001b[0m\u001b[1;33m\u001b[0m\u001b[0m\n\u001b[0m\u001b[0;32m   1811\u001b[0m \u001b[1;33m\u001b[0m\u001b[0m\n\u001b[0;32m   1812\u001b[0m         inner.__doc__ = _add_data_doc(inner.__doc__,\n",
      "\u001b[1;32m~\\Anaconda3\\lib\\site-packages\\matplotlib\\axes\\_axes.py\u001b[0m in \u001b[0;36mplot\u001b[1;34m(self, scalex, scaley, *args, **kwargs)\u001b[0m\n\u001b[0;32m   1609\u001b[0m         \u001b[0mkwargs\u001b[0m \u001b[1;33m=\u001b[0m \u001b[0mcbook\u001b[0m\u001b[1;33m.\u001b[0m\u001b[0mnormalize_kwargs\u001b[0m\u001b[1;33m(\u001b[0m\u001b[0mkwargs\u001b[0m\u001b[1;33m,\u001b[0m \u001b[0mmlines\u001b[0m\u001b[1;33m.\u001b[0m\u001b[0mLine2D\u001b[0m\u001b[1;33m.\u001b[0m\u001b[0m_alias_map\u001b[0m\u001b[1;33m)\u001b[0m\u001b[1;33m\u001b[0m\u001b[1;33m\u001b[0m\u001b[0m\n\u001b[0;32m   1610\u001b[0m \u001b[1;33m\u001b[0m\u001b[0m\n\u001b[1;32m-> 1611\u001b[1;33m         \u001b[1;32mfor\u001b[0m \u001b[0mline\u001b[0m \u001b[1;32min\u001b[0m \u001b[0mself\u001b[0m\u001b[1;33m.\u001b[0m\u001b[0m_get_lines\u001b[0m\u001b[1;33m(\u001b[0m\u001b[1;33m*\u001b[0m\u001b[0margs\u001b[0m\u001b[1;33m,\u001b[0m \u001b[1;33m**\u001b[0m\u001b[0mkwargs\u001b[0m\u001b[1;33m)\u001b[0m\u001b[1;33m:\u001b[0m\u001b[1;33m\u001b[0m\u001b[1;33m\u001b[0m\u001b[0m\n\u001b[0m\u001b[0;32m   1612\u001b[0m             \u001b[0mself\u001b[0m\u001b[1;33m.\u001b[0m\u001b[0madd_line\u001b[0m\u001b[1;33m(\u001b[0m\u001b[0mline\u001b[0m\u001b[1;33m)\u001b[0m\u001b[1;33m\u001b[0m\u001b[1;33m\u001b[0m\u001b[0m\n\u001b[0;32m   1613\u001b[0m             \u001b[0mlines\u001b[0m\u001b[1;33m.\u001b[0m\u001b[0mappend\u001b[0m\u001b[1;33m(\u001b[0m\u001b[0mline\u001b[0m\u001b[1;33m)\u001b[0m\u001b[1;33m\u001b[0m\u001b[1;33m\u001b[0m\u001b[0m\n",
      "\u001b[1;32m~\\Anaconda3\\lib\\site-packages\\matplotlib\\axes\\_base.py\u001b[0m in \u001b[0;36m_grab_next_args\u001b[1;34m(self, *args, **kwargs)\u001b[0m\n\u001b[0;32m    391\u001b[0m                 \u001b[0mthis\u001b[0m \u001b[1;33m+=\u001b[0m \u001b[0margs\u001b[0m\u001b[1;33m[\u001b[0m\u001b[1;36m0\u001b[0m\u001b[1;33m]\u001b[0m\u001b[1;33m,\u001b[0m\u001b[1;33m\u001b[0m\u001b[1;33m\u001b[0m\u001b[0m\n\u001b[0;32m    392\u001b[0m                 \u001b[0margs\u001b[0m \u001b[1;33m=\u001b[0m \u001b[0margs\u001b[0m\u001b[1;33m[\u001b[0m\u001b[1;36m1\u001b[0m\u001b[1;33m:\u001b[0m\u001b[1;33m]\u001b[0m\u001b[1;33m\u001b[0m\u001b[1;33m\u001b[0m\u001b[0m\n\u001b[1;32m--> 393\u001b[1;33m             \u001b[1;32myield\u001b[0m \u001b[1;32mfrom\u001b[0m \u001b[0mself\u001b[0m\u001b[1;33m.\u001b[0m\u001b[0m_plot_args\u001b[0m\u001b[1;33m(\u001b[0m\u001b[0mthis\u001b[0m\u001b[1;33m,\u001b[0m \u001b[0mkwargs\u001b[0m\u001b[1;33m)\u001b[0m\u001b[1;33m\u001b[0m\u001b[1;33m\u001b[0m\u001b[0m\n\u001b[0m\u001b[0;32m    394\u001b[0m \u001b[1;33m\u001b[0m\u001b[0m\n\u001b[0;32m    395\u001b[0m \u001b[1;33m\u001b[0m\u001b[0m\n",
      "\u001b[1;32m~\\Anaconda3\\lib\\site-packages\\matplotlib\\axes\\_base.py\u001b[0m in \u001b[0;36m_plot_args\u001b[1;34m(self, tup, kwargs)\u001b[0m\n\u001b[0;32m    368\u001b[0m             \u001b[0mx\u001b[0m\u001b[1;33m,\u001b[0m \u001b[0my\u001b[0m \u001b[1;33m=\u001b[0m \u001b[0mindex_of\u001b[0m\u001b[1;33m(\u001b[0m\u001b[0mtup\u001b[0m\u001b[1;33m[\u001b[0m\u001b[1;33m-\u001b[0m\u001b[1;36m1\u001b[0m\u001b[1;33m]\u001b[0m\u001b[1;33m)\u001b[0m\u001b[1;33m\u001b[0m\u001b[1;33m\u001b[0m\u001b[0m\n\u001b[0;32m    369\u001b[0m \u001b[1;33m\u001b[0m\u001b[0m\n\u001b[1;32m--> 370\u001b[1;33m         \u001b[0mx\u001b[0m\u001b[1;33m,\u001b[0m \u001b[0my\u001b[0m \u001b[1;33m=\u001b[0m \u001b[0mself\u001b[0m\u001b[1;33m.\u001b[0m\u001b[0m_xy_from_xy\u001b[0m\u001b[1;33m(\u001b[0m\u001b[0mx\u001b[0m\u001b[1;33m,\u001b[0m \u001b[0my\u001b[0m\u001b[1;33m)\u001b[0m\u001b[1;33m\u001b[0m\u001b[1;33m\u001b[0m\u001b[0m\n\u001b[0m\u001b[0;32m    371\u001b[0m \u001b[1;33m\u001b[0m\u001b[0m\n\u001b[0;32m    372\u001b[0m         \u001b[1;32mif\u001b[0m \u001b[0mself\u001b[0m\u001b[1;33m.\u001b[0m\u001b[0mcommand\u001b[0m \u001b[1;33m==\u001b[0m \u001b[1;34m'plot'\u001b[0m\u001b[1;33m:\u001b[0m\u001b[1;33m\u001b[0m\u001b[1;33m\u001b[0m\u001b[0m\n",
      "\u001b[1;32m~\\Anaconda3\\lib\\site-packages\\matplotlib\\axes\\_base.py\u001b[0m in \u001b[0;36m_xy_from_xy\u001b[1;34m(self, x, y)\u001b[0m\n\u001b[0;32m    229\u001b[0m         \u001b[1;32mif\u001b[0m \u001b[0mx\u001b[0m\u001b[1;33m.\u001b[0m\u001b[0mshape\u001b[0m\u001b[1;33m[\u001b[0m\u001b[1;36m0\u001b[0m\u001b[1;33m]\u001b[0m \u001b[1;33m!=\u001b[0m \u001b[0my\u001b[0m\u001b[1;33m.\u001b[0m\u001b[0mshape\u001b[0m\u001b[1;33m[\u001b[0m\u001b[1;36m0\u001b[0m\u001b[1;33m]\u001b[0m\u001b[1;33m:\u001b[0m\u001b[1;33m\u001b[0m\u001b[1;33m\u001b[0m\u001b[0m\n\u001b[0;32m    230\u001b[0m             raise ValueError(\"x and y must have same first dimension, but \"\n\u001b[1;32m--> 231\u001b[1;33m                              \"have shapes {} and {}\".format(x.shape, y.shape))\n\u001b[0m\u001b[0;32m    232\u001b[0m         \u001b[1;32mif\u001b[0m \u001b[0mx\u001b[0m\u001b[1;33m.\u001b[0m\u001b[0mndim\u001b[0m \u001b[1;33m>\u001b[0m \u001b[1;36m2\u001b[0m \u001b[1;32mor\u001b[0m \u001b[0my\u001b[0m\u001b[1;33m.\u001b[0m\u001b[0mndim\u001b[0m \u001b[1;33m>\u001b[0m \u001b[1;36m2\u001b[0m\u001b[1;33m:\u001b[0m\u001b[1;33m\u001b[0m\u001b[1;33m\u001b[0m\u001b[0m\n\u001b[0;32m    233\u001b[0m             raise ValueError(\"x and y can be no greater than 2-D, but have \"\n",
      "\u001b[1;31mValueError\u001b[0m: x and y must have same first dimension, but have shapes (104,) and (208,)"
     ]
    },
    {
     "data": {
      "image/png": "[encoded data removed]",
      "text/plain": [
       "<Figure size 432x288 with 1 Axes>"
      ]
     },
     "metadata": {
      "needs_background": "light"
     },
     "output_type": "display_data"
    }
   ],
   "source": [
    "s149 = p1_df[p1_df['sklep']=='s149']\n",
    "plt.plot(range(1, 105), s149['sprzedaz'])\n",
    "plt.plot(range(1, 105), s149['cena'])"
   ]
  },
  {
   "cell_type": "code",
   "execution_count": 43,
   "metadata": {},
   "outputs": [
    {
     "data": {
      "text/plain": [
       "<matplotlib.collections.PathCollection at 0xbe58e48>"
      ]
     },
     "execution_count": 43,
     "metadata": {},
     "output_type": "execute_result"
    },
    {
     "data": {
      "image/png": "[encoded data removed]",
      "text/plain": [
       "<Figure size 432x288 with 1 Axes>"
      ]
     },
     "metadata": {
      "needs_background": "light"
     },
     "output_type": "display_data"
    }
   ],
   "source": [
    "plt.scatter(s149['cena'], s149['sprzedaz'])\n"
   ]
  },
  {
   "cell_type": "code",
   "execution_count": null,
   "metadata": {},
   "outputs": [],
   "source": []
  },
  {
   "cell_type": "code",
   "execution_count": null,
   "metadata": {},
   "outputs": [],
   "source": []
  },
  {
   "cell_type": "code",
   "execution_count": null,
   "metadata": {},
   "outputs": [],
   "source": []
  },
  {
   "cell_type": "code",
   "execution_count": null,
   "metadata": {},
   "outputs": [],
   "source": []
  },
  {
   "cell_type": "code",
   "execution_count": null,
   "metadata": {},
   "outputs": [],
   "source": []
  },
  {
   "cell_type": "code",
   "execution_count": null,
   "metadata": {},
   "outputs": [],
   "source": []
  },
  {
   "cell_type": "code",
   "execution_count": 217,
   "metadata": {},
   "outputs": [],
   "source": [
    "lab = LabelEncoder()\n",
    "\n",
    "lab.fit(df['produkt'])\n",
    "produkty = lab.transform(df['produkt'])\n",
    "\n",
    "lab.fit(df['sklep'])\n",
    "sklepy = lab.transform(df['sklep'])"
   ]
  },
  {
   "cell_type": "code",
   "execution_count": 218,
   "metadata": {},
   "outputs": [],
   "source": [
    "df['produkt'] = produkty\n",
    "df['sklep'] = sklepy"
   ]
  },
  {
   "cell_type": "code",
   "execution_count": 219,
   "metadata": {},
   "outputs": [
    {
     "data": {
      "text/html": [
       "<div>\n",
       "<style scoped>\n",
       "    .dataframe tbody tr th:only-of-type {\n",
       "        vertical-align: middle;\n",
       "    }\n",
       "\n",
       "    .dataframe tbody tr th {\n",
       "        vertical-align: top;\n",
       "    }\n",
       "\n",
       "    .dataframe thead th {\n",
       "        text-align: right;\n",
       "    }\n",
       "</style>\n",
       "<table border=\"1\" class=\"dataframe\">\n",
       "  <thead>\n",
       "    <tr style=\"text-align: right;\">\n",
       "      <th></th>\n",
       "      <th>sprzedaz</th>\n",
       "      <th>produkt</th>\n",
       "      <th>sklep</th>\n",
       "      <th>tydzien</th>\n",
       "      <th>cena</th>\n",
       "      <th>typ1</th>\n",
       "      <th>typ2</th>\n",
       "      <th>typ3</th>\n",
       "      <th>typ4</th>\n",
       "      <th>typ5</th>\n",
       "      <th>typ6</th>\n",
       "      <th>typ7</th>\n",
       "      <th>typ8</th>\n",
       "      <th>typ9</th>\n",
       "    </tr>\n",
       "  </thead>\n",
       "  <tbody>\n",
       "    <tr>\n",
       "      <th>0</th>\n",
       "      <td>608</td>\n",
       "      <td>0</td>\n",
       "      <td>125</td>\n",
       "      <td>2017-08-24</td>\n",
       "      <td>3.46543</td>\n",
       "      <td>0.0</td>\n",
       "      <td>0.0</td>\n",
       "      <td>0.0</td>\n",
       "      <td>0.0</td>\n",
       "      <td>0.0</td>\n",
       "      <td>0.0</td>\n",
       "      <td>0.0</td>\n",
       "      <td>0.0</td>\n",
       "      <td>0.0</td>\n",
       "    </tr>\n",
       "    <tr>\n",
       "      <th>1</th>\n",
       "      <td>548</td>\n",
       "      <td>0</td>\n",
       "      <td>125</td>\n",
       "      <td>2017-08-31</td>\n",
       "      <td>3.37471</td>\n",
       "      <td>0.0</td>\n",
       "      <td>0.0</td>\n",
       "      <td>0.0</td>\n",
       "      <td>0.0</td>\n",
       "      <td>0.0</td>\n",
       "      <td>0.0</td>\n",
       "      <td>0.0</td>\n",
       "      <td>0.0</td>\n",
       "      <td>0.0</td>\n",
       "    </tr>\n",
       "  </tbody>\n",
       "</table>\n",
       "</div>"
      ],
      "text/plain": [
       "  sprzedaz  produkt  sklep    tydzien     cena  typ1  typ2  typ3  typ4  typ5  \\\n",
       "0      608        0    125 2017-08-24  3.46543   0.0   0.0   0.0   0.0   0.0   \n",
       "1      548        0    125 2017-08-31  3.37471   0.0   0.0   0.0   0.0   0.0   \n",
       "\n",
       "   typ6  typ7  typ8  typ9  \n",
       "0   0.0   0.0   0.0   0.0  \n",
       "1   0.0   0.0   0.0   0.0  "
      ]
     },
     "execution_count": 219,
     "metadata": {},
     "output_type": "execute_result"
    }
   ],
   "source": [
    "df.head(n=2)"
   ]
  },
  {
   "cell_type": "code",
   "execution_count": 220,
   "metadata": {},
   "outputs": [
    {
     "name": "stdout",
     "output_type": "stream",
     "text": [
      "[0.   1.   2.   3.   4.   5.   1.1  0.6  0.75 0.5  1.25 0.7  0.25 1.5\n",
      " 1.3  1.2  6.   0.34 0.8  0.3  2.2  2.5  0.16] \n",
      "\n",
      "[ 0.    1.    5.    2.    0.5   3.    1.5   4.    0.25 -2.  ] \n",
      "\n",
      "[0.   1.   0.5  2.   1.5  3.   0.7  0.42 0.34 0.17 2.5  0.3  0.25 1.8\n",
      " 5.   0.08] \n",
      "\n",
      "[0.   1.   2.   3.   0.5  0.17 4.   1.5  0.25 1.3  1.32 0.34 0.33] \n",
      "\n",
      "[0.   1.   2.   3.   0.5  0.59 0.8 ] \n",
      "\n",
      "[0.   3.   1.   2.   4.   0.17 5.   0.6  0.5  6.   1.5  1.25 0.7  1.8\n",
      " 1.4  2.5  8.   9.   0.2  1.2  0.8  0.75 0.3  0.25 1.3  1.7  0.4  3.5\n",
      " 5.5  7.   0.1  2.8 ] \n",
      "\n",
      "[0.   1.   2.   6.   3.   4.   0.75 0.7  1.5  1.25 0.3  1.75 2.5  1.2\n",
      " 1.7  0.6  0.8  0.5  5.   5.5  1.8  1.4  0.25 0.4  0.2  3.5  9.5  3.69\n",
      " 0.66] \n",
      "\n",
      "[0.   1.   2.   0.5  0.25 3.   4.  ] \n",
      "\n",
      "[ 0.    1.    4.   10.    3.    6.    5.    2.    8.    7.    9.    1.79] \n",
      "\n"
     ]
    }
   ],
   "source": [
    "for i in range(1,10):\n",
    "    print(df['typ'+str(i)].unique(), '\\n')"
   ]
  },
  {
   "cell_type": "code",
   "execution_count": 221,
   "metadata": {},
   "outputs": [],
   "source": [
    "ohe = OneHotEncoder(categories='auto', sparse=False)\n",
    "a = ohe.fit_transform(df[['produkt', 'sklep']])"
   ]
  },
  {
   "cell_type": "code",
   "execution_count": 222,
   "metadata": {},
   "outputs": [],
   "source": [
    "days = [date.day for date in df['tydzien']]\n",
    "weeks = [date.week for date in df['tydzien']]\n",
    "months = [date.month for date in df['tydzien']]\n",
    "years = [date.year for date in df['tydzien']]"
   ]
  },
  {
   "cell_type": "code",
   "execution_count": 223,
   "metadata": {},
   "outputs": [],
   "source": [
    "df.insert(column='nr_tyg', loc=3, value=weeks)"
   ]
  },
  {
   "cell_type": "code",
   "execution_count": 224,
   "metadata": {},
   "outputs": [
    {
     "data": {
      "text/html": [
       "<div>\n",
       "<style scoped>\n",
       "    .dataframe tbody tr th:only-of-type {\n",
       "        vertical-align: middle;\n",
       "    }\n",
       "\n",
       "    .dataframe tbody tr th {\n",
       "        vertical-align: top;\n",
       "    }\n",
       "\n",
       "    .dataframe thead th {\n",
       "        text-align: right;\n",
       "    }\n",
       "</style>\n",
       "<table border=\"1\" class=\"dataframe\">\n",
       "  <thead>\n",
       "    <tr style=\"text-align: right;\">\n",
       "      <th></th>\n",
       "      <th>sprzedaz</th>\n",
       "      <th>produkt</th>\n",
       "      <th>sklep</th>\n",
       "      <th>nr_tyg</th>\n",
       "      <th>tydzien</th>\n",
       "      <th>cena</th>\n",
       "      <th>typ1</th>\n",
       "      <th>typ2</th>\n",
       "      <th>typ3</th>\n",
       "      <th>typ4</th>\n",
       "      <th>typ5</th>\n",
       "      <th>typ6</th>\n",
       "      <th>typ7</th>\n",
       "      <th>typ8</th>\n",
       "      <th>typ9</th>\n",
       "    </tr>\n",
       "  </thead>\n",
       "  <tbody>\n",
       "    <tr>\n",
       "      <th>0</th>\n",
       "      <td>608</td>\n",
       "      <td>0</td>\n",
       "      <td>125</td>\n",
       "      <td>34</td>\n",
       "      <td>2017-08-24</td>\n",
       "      <td>3.46543</td>\n",
       "      <td>0.0</td>\n",
       "      <td>0.0</td>\n",
       "      <td>0.0</td>\n",
       "      <td>0.0</td>\n",
       "      <td>0.0</td>\n",
       "      <td>0.0</td>\n",
       "      <td>0.0</td>\n",
       "      <td>0.0</td>\n",
       "      <td>0.0</td>\n",
       "    </tr>\n",
       "    <tr>\n",
       "      <th>1</th>\n",
       "      <td>548</td>\n",
       "      <td>0</td>\n",
       "      <td>125</td>\n",
       "      <td>35</td>\n",
       "      <td>2017-08-31</td>\n",
       "      <td>3.37471</td>\n",
       "      <td>0.0</td>\n",
       "      <td>0.0</td>\n",
       "      <td>0.0</td>\n",
       "      <td>0.0</td>\n",
       "      <td>0.0</td>\n",
       "      <td>0.0</td>\n",
       "      <td>0.0</td>\n",
       "      <td>0.0</td>\n",
       "      <td>0.0</td>\n",
       "    </tr>\n",
       "  </tbody>\n",
       "</table>\n",
       "</div>"
      ],
      "text/plain": [
       "  sprzedaz  produkt  sklep  nr_tyg    tydzien     cena  typ1  typ2  typ3  \\\n",
       "0      608        0    125      34 2017-08-24  3.46543   0.0   0.0   0.0   \n",
       "1      548        0    125      35 2017-08-31  3.37471   0.0   0.0   0.0   \n",
       "\n",
       "   typ4  typ5  typ6  typ7  typ8  typ9  \n",
       "0   0.0   0.0   0.0   0.0   0.0   0.0  \n",
       "1   0.0   0.0   0.0   0.0   0.0   0.0  "
      ]
     },
     "execution_count": 224,
     "metadata": {},
     "output_type": "execute_result"
    }
   ],
   "source": [
    "df.head(n=2)"
   ]
  },
  {
   "cell_type": "code",
   "execution_count": 241,
   "metadata": {},
   "outputs": [],
   "source": [
    "X = df.drop(columns=['sprzedaz', 'tydzien', 'produkt', 'sklep']).values\n",
    "y = df['sprzedaz'].values"
   ]
  },
  {
   "cell_type": "code",
   "execution_count": 202,
   "metadata": {},
   "outputs": [],
   "source": [
    "X = np.hstack([a, X])"
   ]
  },
  {
   "cell_type": "code",
   "execution_count": 276,
   "metadata": {},
   "outputs": [
    {
     "data": {
      "text/plain": [
       "array([[34, 3.46542763157895, 0.0, ..., 0.0, 0.0, 0.0],\n",
       "       [35, 3.37470802919708, 0.0, ..., 0.0, 0.0, 0.0],\n",
       "       [36, 2.90481167608286, 0.0, ..., 0.0, 0.0, 0.0],\n",
       "       ...,\n",
       "       [30, 1.28659090909091, 0.0, ..., 0.0, 0.0, 0.0],\n",
       "       [31, 1.38065217391304, 0.0, ..., 0.0, 0.0, 0.0],\n",
       "       [32, 1.83375, 0.0, ..., 0.0, 0.0, 0.0]], dtype=object)"
      ]
     },
     "metadata": {},
     "output_type": "display_data"
    }
   ],
   "source": [
    "display(X)"
   ]
  },
  {
   "cell_type": "code",
   "execution_count": 299,
   "metadata": {},
   "outputs": [
    {
     "data": {
      "text/html": [
       "<div>\n",
       "<style scoped>\n",
       "    .dataframe tbody tr th:only-of-type {\n",
       "        vertical-align: middle;\n",
       "    }\n",
       "\n",
       "    .dataframe tbody tr th {\n",
       "        vertical-align: top;\n",
       "    }\n",
       "\n",
       "    .dataframe thead th {\n",
       "        text-align: right;\n",
       "    }\n",
       "</style>\n",
       "<table border=\"1\" class=\"dataframe\">\n",
       "  <thead>\n",
       "    <tr style=\"text-align: right;\">\n",
       "      <th></th>\n",
       "      <th>sprzedaz</th>\n",
       "      <th>produkt</th>\n",
       "      <th>sklep</th>\n",
       "      <th>nr_tyg</th>\n",
       "      <th>tydzien</th>\n",
       "      <th>cena</th>\n",
       "      <th>typ1</th>\n",
       "      <th>typ2</th>\n",
       "      <th>typ3</th>\n",
       "      <th>typ4</th>\n",
       "      <th>typ5</th>\n",
       "      <th>typ6</th>\n",
       "      <th>typ7</th>\n",
       "      <th>typ8</th>\n",
       "      <th>typ9</th>\n",
       "    </tr>\n",
       "  </thead>\n",
       "  <tbody>\n",
       "    <tr>\n",
       "      <th>413479</th>\n",
       "      <td>.</td>\n",
       "      <td>4</td>\n",
       "      <td>57</td>\n",
       "      <td>9</td>\n",
       "      <td>2019-02-28</td>\n",
       "      <td>1.89</td>\n",
       "      <td>0.0</td>\n",
       "      <td>0.0</td>\n",
       "      <td>0.0</td>\n",
       "      <td>0.0</td>\n",
       "      <td>0.0</td>\n",
       "      <td>0.0</td>\n",
       "      <td>0.0</td>\n",
       "      <td>0.0</td>\n",
       "      <td>0.0</td>\n",
       "    </tr>\n",
       "  </tbody>\n",
       "</table>\n",
       "</div>"
      ],
      "text/plain": [
       "       sprzedaz  produkt  sklep  nr_tyg    tydzien  cena  typ1  typ2  typ3  \\\n",
       "413479        .        4     57       9 2019-02-28  1.89   0.0   0.0   0.0   \n",
       "\n",
       "        typ4  typ5  typ6  typ7  typ8  typ9  \n",
       "413479   0.0   0.0   0.0   0.0   0.0   0.0  "
      ]
     },
     "execution_count": 299,
     "metadata": {},
     "output_type": "execute_result"
    }
   ],
   "source": [
    "s = df['sprzedaz']=='.'\n",
    "df[s]\n"
   ]
  },
  {
   "cell_type": "code",
   "execution_count": 267,
   "metadata": {},
   "outputs": [
    {
     "ename": "AttributeError",
     "evalue": "type object 'float' has no attribute 'dtype'",
     "output_type": "error",
     "traceback": [
      "\u001b[1;31m---------------------------------------------------------------------------\u001b[0m",
      "\u001b[1;31mAttributeError\u001b[0m                            Traceback (most recent call last)",
      "\u001b[1;32m<ipython-input-267-576c3e14d3fa>\u001b[0m in \u001b[0;36m<module>\u001b[1;34m\u001b[0m\n\u001b[1;32m----> 1\u001b[1;33m \u001b[0mnp\u001b[0m\u001b[1;33m.\u001b[0m\u001b[0marray\u001b[0m\u001b[1;33m(\u001b[0m\u001b[0mtypes\u001b[0m\u001b[1;33m)\u001b[0m\u001b[1;33m[\u001b[0m\u001b[1;36m0\u001b[0m\u001b[1;33m]\u001b[0m\u001b[1;33m.\u001b[0m\u001b[0mdtype\u001b[0m\u001b[1;33m\u001b[0m\u001b[1;33m\u001b[0m\u001b[0m\n\u001b[0m",
      "\u001b[1;31mAttributeError\u001b[0m: type object 'float' has no attribute 'dtype'"
     ]
    }
   ],
   "source": [
    "np.array(types)[0].dtype"
   ]
  },
  {
   "cell_type": "code",
   "execution_count": 205,
   "metadata": {},
   "outputs": [],
   "source": [
    "X_train, X_test, y_train, y_test = train_test_split(X, y)"
   ]
  },
  {
   "cell_type": "code",
   "execution_count": 212,
   "metadata": {},
   "outputs": [
    {
     "ename": "ValueError",
     "evalue": "could not convert string to float: '1,69'",
     "output_type": "error",
     "traceback": [
      "\u001b[1;31m---------------------------------------------------------------------------\u001b[0m",
      "\u001b[1;31mValueError\u001b[0m                                Traceback (most recent call last)",
      "\u001b[1;32m<ipython-input-212-e34e76dd6611>\u001b[0m in \u001b[0;36m<module>\u001b[1;34m\u001b[0m\n\u001b[1;32m----> 1\u001b[1;33m \u001b[0mX_train\u001b[0m \u001b[1;33m=\u001b[0m \u001b[0mnp\u001b[0m\u001b[1;33m.\u001b[0m\u001b[0marray\u001b[0m\u001b[1;33m(\u001b[0m\u001b[0mX_train\u001b[0m\u001b[1;33m,\u001b[0m \u001b[0mdtype\u001b[0m\u001b[1;33m=\u001b[0m\u001b[1;34m'float64'\u001b[0m\u001b[1;33m)\u001b[0m\u001b[1;33m\u001b[0m\u001b[1;33m\u001b[0m\u001b[0m\n\u001b[0m",
      "\u001b[1;31mValueError\u001b[0m: could not convert string to float: '1,69'"
     ]
    }
   ],
   "source": [
    "X_train = np.array(X_train[], dtype='float64')"
   ]
  },
  {
   "cell_type": "code",
   "execution_count": 210,
   "metadata": {},
   "outputs": [
    {
     "name": "stderr",
     "output_type": "stream",
     "text": [
      "C:\\Users\\Mikolaj\\Anaconda3\\lib\\site-packages\\sklearn\\ensemble\\forest.py:246: FutureWarning: The default value of n_estimators will change from 10 in version 0.20 to 100 in 0.22.\n",
      "  \"10 in version 0.20 to 100 in 0.22.\", FutureWarning)\n"
     ]
    },
    {
     "ename": "ValueError",
     "evalue": "could not convert string to float: '1,69'",
     "output_type": "error",
     "traceback": [
      "\u001b[1;31m---------------------------------------------------------------------------\u001b[0m",
      "\u001b[1;31mValueError\u001b[0m                                Traceback (most recent call last)",
      "\u001b[1;32m<ipython-input-210-8e0dc2305ead>\u001b[0m in \u001b[0;36m<module>\u001b[1;34m\u001b[0m\n\u001b[0;32m      1\u001b[0m \u001b[0mrf\u001b[0m \u001b[1;33m=\u001b[0m \u001b[0mRandomForestRegressor\u001b[0m\u001b[1;33m(\u001b[0m\u001b[0mmax_depth\u001b[0m\u001b[1;33m=\u001b[0m\u001b[1;36m5\u001b[0m\u001b[1;33m)\u001b[0m\u001b[1;33m\u001b[0m\u001b[1;33m\u001b[0m\u001b[0m\n\u001b[1;32m----> 2\u001b[1;33m \u001b[0mrf\u001b[0m\u001b[1;33m.\u001b[0m\u001b[0mfit\u001b[0m\u001b[1;33m(\u001b[0m\u001b[0mX_train\u001b[0m\u001b[1;33m,\u001b[0m \u001b[0my_train\u001b[0m\u001b[1;33m)\u001b[0m\u001b[1;33m\u001b[0m\u001b[1;33m\u001b[0m\u001b[0m\n\u001b[0m",
      "\u001b[1;32m~\\Anaconda3\\lib\\site-packages\\sklearn\\ensemble\\forest.py\u001b[0m in \u001b[0;36mfit\u001b[1;34m(self, X, y, sample_weight)\u001b[0m\n\u001b[0;32m    248\u001b[0m \u001b[1;33m\u001b[0m\u001b[0m\n\u001b[0;32m    249\u001b[0m         \u001b[1;31m# Validate or convert input data\u001b[0m\u001b[1;33m\u001b[0m\u001b[1;33m\u001b[0m\u001b[1;33m\u001b[0m\u001b[0m\n\u001b[1;32m--> 250\u001b[1;33m         \u001b[0mX\u001b[0m \u001b[1;33m=\u001b[0m \u001b[0mcheck_array\u001b[0m\u001b[1;33m(\u001b[0m\u001b[0mX\u001b[0m\u001b[1;33m,\u001b[0m \u001b[0maccept_sparse\u001b[0m\u001b[1;33m=\u001b[0m\u001b[1;34m\"csc\"\u001b[0m\u001b[1;33m,\u001b[0m \u001b[0mdtype\u001b[0m\u001b[1;33m=\u001b[0m\u001b[0mDTYPE\u001b[0m\u001b[1;33m)\u001b[0m\u001b[1;33m\u001b[0m\u001b[1;33m\u001b[0m\u001b[0m\n\u001b[0m\u001b[0;32m    251\u001b[0m         \u001b[0my\u001b[0m \u001b[1;33m=\u001b[0m \u001b[0mcheck_array\u001b[0m\u001b[1;33m(\u001b[0m\u001b[0my\u001b[0m\u001b[1;33m,\u001b[0m \u001b[0maccept_sparse\u001b[0m\u001b[1;33m=\u001b[0m\u001b[1;34m'csc'\u001b[0m\u001b[1;33m,\u001b[0m \u001b[0mensure_2d\u001b[0m\u001b[1;33m=\u001b[0m\u001b[1;32mFalse\u001b[0m\u001b[1;33m,\u001b[0m \u001b[0mdtype\u001b[0m\u001b[1;33m=\u001b[0m\u001b[1;32mNone\u001b[0m\u001b[1;33m)\u001b[0m\u001b[1;33m\u001b[0m\u001b[1;33m\u001b[0m\u001b[0m\n\u001b[0;32m    252\u001b[0m         \u001b[1;32mif\u001b[0m \u001b[0msample_weight\u001b[0m \u001b[1;32mis\u001b[0m \u001b[1;32mnot\u001b[0m \u001b[1;32mNone\u001b[0m\u001b[1;33m:\u001b[0m\u001b[1;33m\u001b[0m\u001b[1;33m\u001b[0m\u001b[0m\n",
      "\u001b[1;32m~\\Anaconda3\\lib\\site-packages\\sklearn\\utils\\validation.py\u001b[0m in \u001b[0;36mcheck_array\u001b[1;34m(array, accept_sparse, accept_large_sparse, dtype, order, copy, force_all_finite, ensure_2d, allow_nd, ensure_min_samples, ensure_min_features, warn_on_dtype, estimator)\u001b[0m\n\u001b[0;32m    525\u001b[0m             \u001b[1;32mtry\u001b[0m\u001b[1;33m:\u001b[0m\u001b[1;33m\u001b[0m\u001b[1;33m\u001b[0m\u001b[0m\n\u001b[0;32m    526\u001b[0m                 \u001b[0mwarnings\u001b[0m\u001b[1;33m.\u001b[0m\u001b[0msimplefilter\u001b[0m\u001b[1;33m(\u001b[0m\u001b[1;34m'error'\u001b[0m\u001b[1;33m,\u001b[0m \u001b[0mComplexWarning\u001b[0m\u001b[1;33m)\u001b[0m\u001b[1;33m\u001b[0m\u001b[1;33m\u001b[0m\u001b[0m\n\u001b[1;32m--> 527\u001b[1;33m                 \u001b[0marray\u001b[0m \u001b[1;33m=\u001b[0m \u001b[0mnp\u001b[0m\u001b[1;33m.\u001b[0m\u001b[0masarray\u001b[0m\u001b[1;33m(\u001b[0m\u001b[0marray\u001b[0m\u001b[1;33m,\u001b[0m \u001b[0mdtype\u001b[0m\u001b[1;33m=\u001b[0m\u001b[0mdtype\u001b[0m\u001b[1;33m,\u001b[0m \u001b[0morder\u001b[0m\u001b[1;33m=\u001b[0m\u001b[0morder\u001b[0m\u001b[1;33m)\u001b[0m\u001b[1;33m\u001b[0m\u001b[1;33m\u001b[0m\u001b[0m\n\u001b[0m\u001b[0;32m    528\u001b[0m             \u001b[1;32mexcept\u001b[0m \u001b[0mComplexWarning\u001b[0m\u001b[1;33m:\u001b[0m\u001b[1;33m\u001b[0m\u001b[1;33m\u001b[0m\u001b[0m\n\u001b[0;32m    529\u001b[0m                 raise ValueError(\"Complex data not supported\\n\"\n",
      "\u001b[1;32m~\\Anaconda3\\lib\\site-packages\\numpy\\core\\numeric.py\u001b[0m in \u001b[0;36masarray\u001b[1;34m(a, dtype, order)\u001b[0m\n\u001b[0;32m    536\u001b[0m \u001b[1;33m\u001b[0m\u001b[0m\n\u001b[0;32m    537\u001b[0m     \"\"\"\n\u001b[1;32m--> 538\u001b[1;33m     \u001b[1;32mreturn\u001b[0m \u001b[0marray\u001b[0m\u001b[1;33m(\u001b[0m\u001b[0ma\u001b[0m\u001b[1;33m,\u001b[0m \u001b[0mdtype\u001b[0m\u001b[1;33m,\u001b[0m \u001b[0mcopy\u001b[0m\u001b[1;33m=\u001b[0m\u001b[1;32mFalse\u001b[0m\u001b[1;33m,\u001b[0m \u001b[0morder\u001b[0m\u001b[1;33m=\u001b[0m\u001b[0morder\u001b[0m\u001b[1;33m)\u001b[0m\u001b[1;33m\u001b[0m\u001b[1;33m\u001b[0m\u001b[0m\n\u001b[0m\u001b[0;32m    539\u001b[0m \u001b[1;33m\u001b[0m\u001b[0m\n\u001b[0;32m    540\u001b[0m \u001b[1;33m\u001b[0m\u001b[0m\n",
      "\u001b[1;31mValueError\u001b[0m: could not convert string to float: '1,69'"
     ]
    }
   ],
   "source": [
    "rf = RandomForestRegressor(max_depth=5)\n",
    "rf.fit(X_train, y_train)"
   ]
  },
  {
   "cell_type": "code",
   "execution_count": 242,
   "metadata": {},
   "outputs": [
    {
     "data": {
      "text/plain": [
       "Timestamp('2017-08-24 00:00:00')"
      ]
     },
     "execution_count": 242,
     "metadata": {},
     "output_type": "execute_result"
    }
   ],
   "source": [
    "df['tydzien'][0]"
   ]
  },
  {
   "cell_type": "code",
   "execution_count": 245,
   "metadata": {},
   "outputs": [
    {
     "data": {
      "text/plain": [
       "Timestamp('2017-08-17 00:00:00')"
      ]
     },
     "execution_count": 245,
     "metadata": {},
     "output_type": "execute_result"
    }
   ],
   "source": [
    "df['tydzien'][103]"
   ]
  },
  {
   "cell_type": "code",
   "execution_count": null,
   "metadata": {},
   "outputs": [],
   "source": []
  },
  {
   "cell_type": "code",
   "execution_count": null,
   "metadata": {},
   "outputs": [],
   "source": []
  },
  {
   "cell_type": "code",
   "execution_count": null,
   "metadata": {},
   "outputs": [],
   "source": []
  },
  {
   "cell_type": "code",
   "execution_count": null,
   "metadata": {},
   "outputs": [],
   "source": []
  },
  {
   "cell_type": "code",
   "execution_count": null,
   "metadata": {},
   "outputs": [],
   "source": []
  }
 ],
 "metadata": {
  "kernelspec": {
   "display_name": "Python 3",
   "language": "python",
   "name": "python3"
  },
  "language_info": {
   "codemirror_mode": {
    "name": "ipython",
    "version": 3
   },
   "file_extension": ".py",
   "mimetype": "text/x-python",
   "name": "python",
   "nbconvert_exporter": "python",
   "pygments_lexer": "ipython3",
   "version": "3.7.3"
  }
 },
 "nbformat": 4,
 "nbformat_minor": 2
}
